{
 "cells": [
  {
   "cell_type": "markdown",
   "id": "1ceb0278",
   "metadata": {},
   "source": [
    "# House Prices Prediction"
   ]
  },
  {
   "cell_type": "markdown",
   "id": "8c2fa4d0",
   "metadata": {},
   "source": [
    "## Insights of Data"
   ]
  },
  {
   "cell_type": "code",
   "execution_count": 1,
   "id": "a8d6c68d",
   "metadata": {},
   "outputs": [],
   "source": [
    "#importing libraries\n",
    "\n",
    "import numpy as np\n",
    "import pandas as pd\n",
    "import matplotlib.pyplot as plt\n",
    "import seaborn as sns\n",
    "%matplotlib inline"
   ]
  },
  {
   "cell_type": "markdown",
   "id": "ccbedebe",
   "metadata": {},
   "source": [
    "<table>\n",
    "        <tr>\n",
    "                <th><center>Name</center></th>\n",
    "            <th><center>Value</center></th>\n",
    "                <th><center>Description</center></th>\n",
    "        </tr>\n",
    "        <!-- Start of the Row-->\n",
    "        <tr>\n",
    "            <td>Posted&nbsp;By</td>\n",
    "            <td>\n",
    "                <table>\n",
    "                    <tr>\n",
    "                        <td>Owner</td>    \n",
    "                    </tr>\n",
    "                    <tr>\n",
    "                        <td>Dealer</td>\n",
    "                    </tr>\n",
    "                </table>\n",
    "            </td>\n",
    "            <td>\n",
    "                <p>This features describes who posted on.</p>\n",
    "            </td>\n",
    "        </tr>\n",
    "        <!-- End of the Row-->\n",
    "        <!-- Start of the Row-->\n",
    "        <tr>\n",
    "            <td>Under&nbsp;Construction</td>\n",
    "            <td>\n",
    "                <table>\n",
    "                    <tr>\n",
    "                        <td>0</td>\n",
    "                        <td>Not&nbsp;Under&nbsp;construction</td>\n",
    "                    </tr>\n",
    "                    <tr>\n",
    "                        <td>1</td>\n",
    "                        <td>Under&nbsp;construction</td>\n",
    "                    </tr>\n",
    "                </table>\n",
    "            </td>\n",
    "            <td>\n",
    "                <p>This features describes is this house under-construction or not.</p>\n",
    "            </td>\n",
    "        </tr>\n",
    "        <!-- End of the Row-->\n",
    "         <!-- Start of the Row-->\n",
    "         <tr>\n",
    "            <td>RERA</td>\n",
    "            <td>\n",
    "                <table>\n",
    "                    <tr>\n",
    "                        <td>0</td>\n",
    "                        <td>Not&nbsp;approved</td>\n",
    "                    </tr>\n",
    "                    <tr>\n",
    "                        <td>1</td>\n",
    "                        <td>Approved</td>\n",
    "                    </tr>\n",
    "                </table>\n",
    "            </td>\n",
    "            <td>\n",
    "                <p>This features describes Real Estate (Regulation and Development) Act, 2016 approved or not.</p>\n",
    "            </td>\n",
    "        </tr>\n",
    "        <!-- End of the Row-->\n",
    "        <!-- Start of the Row-->\n",
    "        <tr>\n",
    "            <td>BHK&nbsp;No</td>\n",
    "            <td>\n",
    "                0-31\n",
    "            </td>\n",
    "            <td>\n",
    "                <p>This features describes No of Bedrooms if not 0.</p>\n",
    "            </td>\n",
    "        </tr>\n",
    "        <!-- End of the Row-->\n",
    "        <!-- Start of the Row-->\n",
    "        <tr>\n",
    "            <td>BHK&nbsp;OR&nbsp;RK</td>\n",
    "            <td>\n",
    "                <table>\n",
    "                    <tr>\n",
    "                        <td>BHK</td>    \n",
    "                    </tr>\n",
    "                    <tr>\n",
    "                        <td>RK</td>\n",
    "                    </tr>\n",
    "                </table>\n",
    "            </td>\n",
    "            <td>\n",
    "                <p>This features describes BHK(Bed,Hall,Kitchen) or RK(Room,Kitchen).</p>\n",
    "            </td>\n",
    "        </tr>\n",
    "        <!-- End of the Row-->\n",
    "        <!-- Start of the Row-->\n",
    "        <tr>\n",
    "            <td>Square Feet</td>\n",
    "            <td>\n",
    "                Area in SQ FT.\n",
    "            </td>\n",
    "            <td>\n",
    "                <p>This features describes Total Area of the house in square feet.</p>\n",
    "            </td>\n",
    "        </tr>\n",
    "        <!-- End of the Row-->\n",
    "        <!-- Start of the Row-->\n",
    "         <tr>\n",
    "            <td>Ready To Move</td>\n",
    "            <td>\n",
    "                <table>\n",
    "                    <tr>\n",
    "                        <td>0</td>\n",
    "                        <td>Not&nbsp;Ready</td>\n",
    "                    </tr>\n",
    "                    <tr>\n",
    "                        <td>1</td>\n",
    "                        <td>Ready</td>\n",
    "                    </tr>\n",
    "                </table>\n",
    "            </td>\n",
    "            <td>\n",
    "                <p>This features describes is property ready to move.</p>\n",
    "            </td>\n",
    "        </tr>\n",
    "        <!-- End of the Row-->\n",
    "        <!-- Start of the Row-->\n",
    "        <tr>\n",
    "            <td>Resale</td>\n",
    "            <td>\n",
    "                <table>\n",
    "                    <tr>\n",
    "                        <td>0</td>\n",
    "                        <td>Not&nbsp;marking&nbsp;resale</td>\n",
    "                    </tr>\n",
    "                    <tr>\n",
    "                        <td>1</td>\n",
    "                        <td>marking&nbsp;resale</td>\n",
    "                    </tr>\n",
    "                </table>\n",
    "            </td>\n",
    "            <td>\n",
    "                <p>This features describes able to resale or not.</p>\n",
    "            </td>\n",
    "        </tr>\n",
    "        <!-- End of the Row-->\n",
    "        <!-- Start of the Row-->\n",
    "        <tr>\n",
    "            <td>Address</td>\n",
    "            <td>\n",
    "                location.\n",
    "            </td>\n",
    "            <td>\n",
    "                <p>This features describes location of the property.</p>\n",
    "            </td>\n",
    "        </tr>\n",
    "        <!-- End of the Row-->\n",
    "         <!-- Start of the Row-->\n",
    "         <tr>\n",
    "            <td>Longitude</td>\n",
    "            <td>\n",
    "                geo coding location.\n",
    "            </td>\n",
    "            <td>\n",
    "                <p>This features describes geographically marking.</p>\n",
    "            </td>\n",
    "        </tr>\n",
    "        <!-- End of the Row-->\n",
    "        <!-- Start of the Row-->\n",
    "        <tr>\n",
    "            <td>Latitude</td>\n",
    "            <td>\n",
    "                geo coding location.\n",
    "            </td>\n",
    "            <td>\n",
    "                <p>This features describes geographically marking.</p>\n",
    "            </td>\n",
    "        </tr>\n",
    "        <!-- End of the Row-->\n",
    "    </table>"
   ]
  },
  {
   "cell_type": "code",
   "execution_count": 2,
   "id": "05f590ca",
   "metadata": {},
   "outputs": [
    {
     "data": {
      "text/html": [
       "<div>\n",
       "<style scoped>\n",
       "    .dataframe tbody tr th:only-of-type {\n",
       "        vertical-align: middle;\n",
       "    }\n",
       "\n",
       "    .dataframe tbody tr th {\n",
       "        vertical-align: top;\n",
       "    }\n",
       "\n",
       "    .dataframe thead th {\n",
       "        text-align: right;\n",
       "    }\n",
       "</style>\n",
       "<table border=\"1\" class=\"dataframe\">\n",
       "  <thead>\n",
       "    <tr style=\"text-align: right;\">\n",
       "      <th></th>\n",
       "      <th>POSTED_BY</th>\n",
       "      <th>UNDER_CONSTRUCTION</th>\n",
       "      <th>RERA</th>\n",
       "      <th>BHK_NO.</th>\n",
       "      <th>BHK_OR_RK</th>\n",
       "      <th>SQUARE_FT</th>\n",
       "      <th>READY_TO_MOVE</th>\n",
       "      <th>RESALE</th>\n",
       "      <th>ADDRESS</th>\n",
       "      <th>LONGITUDE</th>\n",
       "      <th>LATITUDE</th>\n",
       "      <th>TARGET(PRICE_IN_LACS)</th>\n",
       "    </tr>\n",
       "  </thead>\n",
       "  <tbody>\n",
       "    <tr>\n",
       "      <th>0</th>\n",
       "      <td>Owner</td>\n",
       "      <td>0</td>\n",
       "      <td>0</td>\n",
       "      <td>2</td>\n",
       "      <td>BHK</td>\n",
       "      <td>1300.236407</td>\n",
       "      <td>1</td>\n",
       "      <td>1</td>\n",
       "      <td>Ksfc Layout,Bangalore</td>\n",
       "      <td>12.969910</td>\n",
       "      <td>77.597960</td>\n",
       "      <td>55.0</td>\n",
       "    </tr>\n",
       "    <tr>\n",
       "      <th>1</th>\n",
       "      <td>Dealer</td>\n",
       "      <td>0</td>\n",
       "      <td>0</td>\n",
       "      <td>2</td>\n",
       "      <td>BHK</td>\n",
       "      <td>1275.000000</td>\n",
       "      <td>1</td>\n",
       "      <td>1</td>\n",
       "      <td>Vishweshwara Nagar,Mysore</td>\n",
       "      <td>12.274538</td>\n",
       "      <td>76.644605</td>\n",
       "      <td>51.0</td>\n",
       "    </tr>\n",
       "    <tr>\n",
       "      <th>2</th>\n",
       "      <td>Owner</td>\n",
       "      <td>0</td>\n",
       "      <td>0</td>\n",
       "      <td>2</td>\n",
       "      <td>BHK</td>\n",
       "      <td>933.159722</td>\n",
       "      <td>1</td>\n",
       "      <td>1</td>\n",
       "      <td>Jigani,Bangalore</td>\n",
       "      <td>12.778033</td>\n",
       "      <td>77.632191</td>\n",
       "      <td>43.0</td>\n",
       "    </tr>\n",
       "    <tr>\n",
       "      <th>3</th>\n",
       "      <td>Owner</td>\n",
       "      <td>0</td>\n",
       "      <td>1</td>\n",
       "      <td>2</td>\n",
       "      <td>BHK</td>\n",
       "      <td>929.921143</td>\n",
       "      <td>1</td>\n",
       "      <td>1</td>\n",
       "      <td>Sector-1 Vaishali,Ghaziabad</td>\n",
       "      <td>28.642300</td>\n",
       "      <td>77.344500</td>\n",
       "      <td>62.5</td>\n",
       "    </tr>\n",
       "    <tr>\n",
       "      <th>4</th>\n",
       "      <td>Dealer</td>\n",
       "      <td>1</td>\n",
       "      <td>0</td>\n",
       "      <td>2</td>\n",
       "      <td>BHK</td>\n",
       "      <td>999.009247</td>\n",
       "      <td>0</td>\n",
       "      <td>1</td>\n",
       "      <td>New Town,Kolkata</td>\n",
       "      <td>22.592200</td>\n",
       "      <td>88.484911</td>\n",
       "      <td>60.5</td>\n",
       "    </tr>\n",
       "    <tr>\n",
       "      <th>5</th>\n",
       "      <td>Owner</td>\n",
       "      <td>0</td>\n",
       "      <td>0</td>\n",
       "      <td>3</td>\n",
       "      <td>BHK</td>\n",
       "      <td>1250.000000</td>\n",
       "      <td>1</td>\n",
       "      <td>1</td>\n",
       "      <td>South Chittoor,Kochi</td>\n",
       "      <td>10.033280</td>\n",
       "      <td>76.282571</td>\n",
       "      <td>42.0</td>\n",
       "    </tr>\n",
       "    <tr>\n",
       "      <th>6</th>\n",
       "      <td>Dealer</td>\n",
       "      <td>0</td>\n",
       "      <td>0</td>\n",
       "      <td>3</td>\n",
       "      <td>BHK</td>\n",
       "      <td>1495.053957</td>\n",
       "      <td>1</td>\n",
       "      <td>1</td>\n",
       "      <td>Sodala,Jaipur</td>\n",
       "      <td>26.916347</td>\n",
       "      <td>75.795600</td>\n",
       "      <td>66.5</td>\n",
       "    </tr>\n",
       "    <tr>\n",
       "      <th>7</th>\n",
       "      <td>Owner</td>\n",
       "      <td>0</td>\n",
       "      <td>1</td>\n",
       "      <td>3</td>\n",
       "      <td>BHK</td>\n",
       "      <td>1181.012946</td>\n",
       "      <td>1</td>\n",
       "      <td>1</td>\n",
       "      <td>Kharar,Mohali</td>\n",
       "      <td>30.740000</td>\n",
       "      <td>76.650000</td>\n",
       "      <td>52.0</td>\n",
       "    </tr>\n",
       "    <tr>\n",
       "      <th>8</th>\n",
       "      <td>Dealer</td>\n",
       "      <td>0</td>\n",
       "      <td>1</td>\n",
       "      <td>2</td>\n",
       "      <td>BHK</td>\n",
       "      <td>1040.000000</td>\n",
       "      <td>1</td>\n",
       "      <td>1</td>\n",
       "      <td>Bileshivale,Bangalore</td>\n",
       "      <td>13.054202</td>\n",
       "      <td>77.674002</td>\n",
       "      <td>41.6</td>\n",
       "    </tr>\n",
       "    <tr>\n",
       "      <th>9</th>\n",
       "      <td>Owner</td>\n",
       "      <td>0</td>\n",
       "      <td>1</td>\n",
       "      <td>2</td>\n",
       "      <td>BHK</td>\n",
       "      <td>879.120879</td>\n",
       "      <td>1</td>\n",
       "      <td>1</td>\n",
       "      <td>Chromepet,Chennai</td>\n",
       "      <td>12.951610</td>\n",
       "      <td>80.140970</td>\n",
       "      <td>36.0</td>\n",
       "    </tr>\n",
       "  </tbody>\n",
       "</table>\n",
       "</div>"
      ],
      "text/plain": [
       "  POSTED_BY  UNDER_CONSTRUCTION  RERA  BHK_NO. BHK_OR_RK    SQUARE_FT  \\\n",
       "0     Owner                   0     0        2       BHK  1300.236407   \n",
       "1    Dealer                   0     0        2       BHK  1275.000000   \n",
       "2     Owner                   0     0        2       BHK   933.159722   \n",
       "3     Owner                   0     1        2       BHK   929.921143   \n",
       "4    Dealer                   1     0        2       BHK   999.009247   \n",
       "5     Owner                   0     0        3       BHK  1250.000000   \n",
       "6    Dealer                   0     0        3       BHK  1495.053957   \n",
       "7     Owner                   0     1        3       BHK  1181.012946   \n",
       "8    Dealer                   0     1        2       BHK  1040.000000   \n",
       "9     Owner                   0     1        2       BHK   879.120879   \n",
       "\n",
       "   READY_TO_MOVE  RESALE                      ADDRESS  LONGITUDE   LATITUDE  \\\n",
       "0              1       1        Ksfc Layout,Bangalore  12.969910  77.597960   \n",
       "1              1       1    Vishweshwara Nagar,Mysore  12.274538  76.644605   \n",
       "2              1       1             Jigani,Bangalore  12.778033  77.632191   \n",
       "3              1       1  Sector-1 Vaishali,Ghaziabad  28.642300  77.344500   \n",
       "4              0       1             New Town,Kolkata  22.592200  88.484911   \n",
       "5              1       1         South Chittoor,Kochi  10.033280  76.282571   \n",
       "6              1       1                Sodala,Jaipur  26.916347  75.795600   \n",
       "7              1       1                Kharar,Mohali  30.740000  76.650000   \n",
       "8              1       1        Bileshivale,Bangalore  13.054202  77.674002   \n",
       "9              1       1            Chromepet,Chennai  12.951610  80.140970   \n",
       "\n",
       "   TARGET(PRICE_IN_LACS)  \n",
       "0                   55.0  \n",
       "1                   51.0  \n",
       "2                   43.0  \n",
       "3                   62.5  \n",
       "4                   60.5  \n",
       "5                   42.0  \n",
       "6                   66.5  \n",
       "7                   52.0  \n",
       "8                   41.6  \n",
       "9                   36.0  "
      ]
     },
     "execution_count": 2,
     "metadata": {},
     "output_type": "execute_result"
    }
   ],
   "source": [
    "#importing trained data\n",
    "train_data = pd.read_csv('data/prices/train.csv')\n",
    "train_data.head(10)"
   ]
  },
  {
   "cell_type": "code",
   "execution_count": 3,
   "id": "9536aed7",
   "metadata": {},
   "outputs": [
    {
     "data": {
      "text/html": [
       "<div>\n",
       "<style scoped>\n",
       "    .dataframe tbody tr th:only-of-type {\n",
       "        vertical-align: middle;\n",
       "    }\n",
       "\n",
       "    .dataframe tbody tr th {\n",
       "        vertical-align: top;\n",
       "    }\n",
       "\n",
       "    .dataframe thead th {\n",
       "        text-align: right;\n",
       "    }\n",
       "</style>\n",
       "<table border=\"1\" class=\"dataframe\">\n",
       "  <thead>\n",
       "    <tr style=\"text-align: right;\">\n",
       "      <th></th>\n",
       "      <th>0</th>\n",
       "    </tr>\n",
       "  </thead>\n",
       "  <tbody>\n",
       "    <tr>\n",
       "      <th>POSTED_BY</th>\n",
       "      <td>[Owner, Dealer, Builder]</td>\n",
       "    </tr>\n",
       "    <tr>\n",
       "      <th>UNDER_CONSTRUCTION</th>\n",
       "      <td>[0, 1]</td>\n",
       "    </tr>\n",
       "    <tr>\n",
       "      <th>RERA</th>\n",
       "      <td>[0, 1]</td>\n",
       "    </tr>\n",
       "    <tr>\n",
       "      <th>BHK_OR_RK</th>\n",
       "      <td>[BHK, RK]</td>\n",
       "    </tr>\n",
       "    <tr>\n",
       "      <th>BHK_NO</th>\n",
       "      <td>[2, 3, 1, 4, 5, 6, 12, 8, 20, 10, 7, 9, 13, 17...</td>\n",
       "    </tr>\n",
       "    <tr>\n",
       "      <th>READY_TO_MOVE</th>\n",
       "      <td>[1, 0]</td>\n",
       "    </tr>\n",
       "    <tr>\n",
       "      <th>RESALE</th>\n",
       "      <td>[1, 0]</td>\n",
       "    </tr>\n",
       "  </tbody>\n",
       "</table>\n",
       "</div>"
      ],
      "text/plain": [
       "                                                                    0\n",
       "POSTED_BY                                    [Owner, Dealer, Builder]\n",
       "UNDER_CONSTRUCTION                                             [0, 1]\n",
       "RERA                                                           [0, 1]\n",
       "BHK_OR_RK                                                   [BHK, RK]\n",
       "BHK_NO              [2, 3, 1, 4, 5, 6, 12, 8, 20, 10, 7, 9, 13, 17...\n",
       "READY_TO_MOVE                                                  [1, 0]\n",
       "RESALE                                                         [1, 0]"
      ]
     },
     "execution_count": 3,
     "metadata": {},
     "output_type": "execute_result"
    }
   ],
   "source": [
    "# checking unique values\n",
    "unique_values = {\n",
    "    'POSTED_BY':train_data['POSTED_BY'].unique(),\n",
    "    'UNDER_CONSTRUCTION':train_data['UNDER_CONSTRUCTION'].unique(),\n",
    "    'RERA':train_data['RERA'].unique(),\n",
    "    'BHK_OR_RK':train_data['BHK_OR_RK'].unique(),\n",
    "    'BHK_NO':train_data['BHK_NO.'].unique(),\n",
    "    'READY_TO_MOVE':train_data['READY_TO_MOVE'].unique(),\n",
    "    'RESALE':train_data['RESALE'].unique()\n",
    "}\n",
    "\n",
    "unique_values = pd.DataFrame([unique_values])\n",
    "unique_values = unique_values.T\n",
    "unique_values"
   ]
  },
  {
   "cell_type": "code",
   "execution_count": 4,
   "id": "fcb1cf52",
   "metadata": {},
   "outputs": [
    {
     "data": {
      "text/plain": [
       "(-254542.452, 63636365.875]      29448\n",
       "(63636365.875, 127272728.75]         1\n",
       "(127272728.75, 190909091.625]        1\n",
       "(190909091.625, 254545454.5]         1\n",
       "Name: SQUARE_FT, dtype: int64"
      ]
     },
     "execution_count": 4,
     "metadata": {},
     "output_type": "execute_result"
    }
   ],
   "source": [
    "pd.cut(train_data['SQUARE_FT'],bins=4).value_counts()"
   ]
  },
  {
   "cell_type": "code",
   "execution_count": 5,
   "id": "d567694a",
   "metadata": {},
   "outputs": [
    {
     "data": {
      "text/plain": [
       "<AxesSubplot:xlabel='SQUARE_FT', ylabel='Count'>"
      ]
     },
     "execution_count": 5,
     "metadata": {},
     "output_type": "execute_result"
    },
    {
     "data": {
      "image/png": "[encoded data removed]",
      "text/plain": [
       "<Figure size 432x288 with 1 Axes>"
      ]
     },
     "metadata": {
      "needs_background": "light"
     },
     "output_type": "display_data"
    }
   ],
   "source": [
    "sns.histplot(data=train_data['SQUARE_FT'],bins=5)"
   ]
  },
  {
   "cell_type": "markdown",
   "id": "ba43e514",
   "metadata": {},
   "source": [
    "- divide the bins manually 20 check"
   ]
  },
  {
   "cell_type": "code",
   "execution_count": 34,
   "id": "ab9952ae",
   "metadata": {},
   "outputs": [
    {
     "data": {
      "image/png": "[encoded data removed]",
      "text/plain": [
       "<Figure size 432x288 with 1 Axes>"
      ]
     },
     "metadata": {},
     "output_type": "display_data"
    }
   ],
   "source": [
    "onethousand = train_data[train_data['SQUARE_FT'] >= 1000]['SQUARE_FT']\n",
    "twothousand = train_data[(train_data['SQUARE_FT'] <= 1000) & (train_data['SQUARE_FT'] <= 2000)]['SQUARE_FT']\n",
    "threethousand = train_data[(train_data['SQUARE_FT'] <= 2000) & (train_data['SQUARE_FT'] <= 3000)]['SQUARE_FT']\n",
    "fourthousand  = train_data[(train_data['SQUARE_FT'] <= 3000) & (train_data['SQUARE_FT'] <= 4000)]['SQUARE_FT']\n",
    "fivethousandabove = train_data[train_data['SQUARE_FT'] <= 5000]['SQUARE_FT']\n",
    "\n",
    "aix = [\"0-1000\",\"1001-2000\",\"2001-3000\",\"3001-4000\",\"4001-5000<\"]\n",
    "aiy = [len(onethousand),len(twothousand),len(threethousand),len(fourthousand),len(fivethousandabove)]\n",
    "sns.set_theme(style=\"whitegrid\")\n",
    "ax = sns.barplot(x=aix,y=aiy)\n",
    "ax.set(xlabel='SQFT',ylabel='Counts');"
   ]
  },
  {
   "cell_type": "code",
   "execution_count": 36,
   "id": "e0152943",
   "metadata": {},
   "outputs": [
    {
     "data": {
      "image/png": "[encoded data removed]",
      "text/plain": [
       "<Figure size 432x288 with 1 Axes>"
      ]
     },
     "metadata": {},
     "output_type": "display_data"
    }
   ],
   "source": [
    "postedBarY = [len(train_data[train_data['POSTED_BY']=='Owner']['POSTED_BY']),\n",
    "              len(train_data[train_data['POSTED_BY']=='Dealer']['POSTED_BY']),\n",
    "             len(train_data[train_data['POSTED_BY']=='Builder']['POSTED_BY'])]\n",
    "postedBarX = ['Owner','Dealer','Builder']\n",
    "ax = sns.barplot(x=postedBarX,y=postedBarY)\n",
    "ax.set(xlabel='PostedBy',ylabel='Counts');"
   ]
  },
  {
   "cell_type": "code",
   "execution_count": 37,
   "id": "555af1ab",
   "metadata": {},
   "outputs": [
    {
     "data": {
      "image/png": "[encoded data removed]",
      "text/plain": [
       "<Figure size 432x288 with 1 Axes>"
      ]
     },
     "metadata": {},
     "output_type": "display_data"
    }
   ],
   "source": [
    "underContructedY = [len(train_data[train_data['UNDER_CONSTRUCTION']==1]['UNDER_CONSTRUCTION']),\n",
    "                   len(train_data[train_data['UNDER_CONSTRUCTION']==0]['UNDER_CONSTRUCTION'])]\n",
    "underConstructedX = ['Yes','No']\n",
    "ax = sns.barplot(x=underConstructedX,y=underContructedY)\n",
    "ax.set(xlabel='UnderConstruction',ylabel='Counts');"
   ]
  },
  {
   "cell_type": "code",
   "execution_count": 41,
   "id": "885115a9",
   "metadata": {},
   "outputs": [
    {
     "data": {
      "image/png": "[encoded data removed]",
      "text/plain": [
       "<Figure size 432x288 with 1 Axes>"
      ]
     },
     "metadata": {},
     "output_type": "display_data"
    }
   ],
   "source": [
    "reraApprovedY = [len(train_data[train_data['RERA']==1]['RERA']),\n",
    "                   len(train_data[train_data['RERA']==0]['RERA'])]\n",
    "reraApprovedX = ['Yes','No']\n",
    "ax = sns.barplot(x=reraApprovedX,y=reraApprovedY)\n",
    "ax.set(xlabel='RERA Approved',ylabel='Counts');"
   ]
  },
  {
   "cell_type": "code",
   "execution_count": 42,
   "id": "bbaa98dd",
   "metadata": {},
   "outputs": [
    {
     "data": {
      "image/png": "[encoded data removed]",
      "text/plain": [
       "<Figure size 432x288 with 1 Axes>"
      ]
     },
     "metadata": {},
     "output_type": "display_data"
    }
   ],
   "source": [
    "bhkno = []\n",
    "bhkcount = []\n",
    "for bhk in train_data['BHK_NO.'].unique():\n",
    "    bhkcount.append(len(train_data[train_data['BHK_NO.']==bhk]['BHK_NO.']))\n",
    "    bhkno.append(bhk)\n",
    "ax = sns.barplot(x=bhkno,y=bhkcount)\n",
    "ax.set(xlabel='BHK NO',ylabel='Counts');"
   ]
  },
  {
   "cell_type": "code",
   "execution_count": 44,
   "id": "e756edee",
   "metadata": {},
   "outputs": [
    {
     "data": {
      "image/png": "[encoded data removed]",
      "text/plain": [
       "<Figure size 432x288 with 1 Axes>"
      ]
     },
     "metadata": {},
     "output_type": "display_data"
    }
   ],
   "source": [
    "bhkOrRkY = [len(train_data[train_data['BHK_OR_RK']=='BHK']['BHK_OR_RK']),\n",
    "                   len(train_data[train_data['BHK_OR_RK']=='RK']['BHK_OR_RK'])]\n",
    "bhkOrRkX = ['BHK','RK']\n",
    "ax = sns.barplot(x=bhkOrRkX,y=bhkOrRkY)\n",
    "ax.set(xlabel='BHK Or RK',ylabel='Counts');"
   ]
  },
  {
   "cell_type": "code",
   "execution_count": 8,
   "id": "79544166",
   "metadata": {},
   "outputs": [
    {
     "data": {
      "text/plain": [
       "array([False])"
      ]
     },
     "execution_count": 8,
     "metadata": {},
     "output_type": "execute_result"
    }
   ],
   "source": [
    "pd.isnull(train_data['SQUARE_FT']).unique()"
   ]
  },
  {
   "cell_type": "code",
   "execution_count": 9,
   "id": "53cae5ed",
   "metadata": {},
   "outputs": [
    {
     "data": {
      "text/plain": [
       "5090.90908"
      ]
     },
     "execution_count": 9,
     "metadata": {},
     "output_type": "execute_result"
    }
   ],
   "source": [
    "254545454/50000"
   ]
  },
  {
   "cell_type": "code",
   "execution_count": 10,
   "id": "e6fe6b96",
   "metadata": {},
   "outputs": [
    {
     "data": {
      "text/plain": [
       "0        144.470712\n",
       "1        141.666667\n",
       "2        103.684414\n",
       "3        103.324571\n",
       "4        111.001027\n",
       "            ...    \n",
       "29446    277.777778\n",
       "29447     85.470085\n",
       "29448    113.626834\n",
       "29449    103.008779\n",
       "29450     99.641577\n",
       "Name: SQUARE_FT, Length: 29451, dtype: float64"
      ]
     },
     "execution_count": 10,
     "metadata": {},
     "output_type": "execute_result"
    }
   ],
   "source": [
    "#converting in square_feet to square_yard\n",
    "square_yard = train_data['SQUARE_FT']/9\n",
    "train_data['SQUARE_YARD'] = square_yard\n",
    "square_yard"
   ]
  },
  {
   "cell_type": "code",
   "execution_count": 11,
   "id": "4c282ab5",
   "metadata": {},
   "outputs": [],
   "source": [
    "# Getting city or state\n",
    "state = []\n",
    "for addr in train_data['ADDRESS']:\n",
    "    state.append(addr.split(',')[1])\n",
    "train_data['STATE_OR_CITY'] = state"
   ]
  },
  {
   "cell_type": "code",
   "execution_count": 12,
   "id": "12e91ae6",
   "metadata": {},
   "outputs": [
    {
     "data": {
      "text/html": [
       "<div>\n",
       "<style scoped>\n",
       "    .dataframe tbody tr th:only-of-type {\n",
       "        vertical-align: middle;\n",
       "    }\n",
       "\n",
       "    .dataframe tbody tr th {\n",
       "        vertical-align: top;\n",
       "    }\n",
       "\n",
       "    .dataframe thead th {\n",
       "        text-align: right;\n",
       "    }\n",
       "</style>\n",
       "<table border=\"1\" class=\"dataframe\">\n",
       "  <thead>\n",
       "    <tr style=\"text-align: right;\">\n",
       "      <th></th>\n",
       "      <th>POSTED_BY</th>\n",
       "      <th>UNDER_CONSTRUCTION</th>\n",
       "      <th>RERA</th>\n",
       "      <th>BHK_NO.</th>\n",
       "      <th>BHK_OR_RK</th>\n",
       "      <th>SQUARE_FT</th>\n",
       "      <th>READY_TO_MOVE</th>\n",
       "      <th>RESALE</th>\n",
       "      <th>ADDRESS</th>\n",
       "      <th>LONGITUDE</th>\n",
       "      <th>LATITUDE</th>\n",
       "      <th>TARGET(PRICE_IN_LACS)</th>\n",
       "      <th>SQUARE_YARD</th>\n",
       "      <th>STATE_OR_CITY</th>\n",
       "    </tr>\n",
       "  </thead>\n",
       "  <tbody>\n",
       "    <tr>\n",
       "      <th>0</th>\n",
       "      <td>Owner</td>\n",
       "      <td>0</td>\n",
       "      <td>0</td>\n",
       "      <td>2</td>\n",
       "      <td>BHK</td>\n",
       "      <td>1300.236407</td>\n",
       "      <td>1</td>\n",
       "      <td>1</td>\n",
       "      <td>Ksfc Layout,Bangalore</td>\n",
       "      <td>12.969910</td>\n",
       "      <td>77.597960</td>\n",
       "      <td>55.0</td>\n",
       "      <td>144.470712</td>\n",
       "      <td>Bangalore</td>\n",
       "    </tr>\n",
       "    <tr>\n",
       "      <th>1</th>\n",
       "      <td>Dealer</td>\n",
       "      <td>0</td>\n",
       "      <td>0</td>\n",
       "      <td>2</td>\n",
       "      <td>BHK</td>\n",
       "      <td>1275.000000</td>\n",
       "      <td>1</td>\n",
       "      <td>1</td>\n",
       "      <td>Vishweshwara Nagar,Mysore</td>\n",
       "      <td>12.274538</td>\n",
       "      <td>76.644605</td>\n",
       "      <td>51.0</td>\n",
       "      <td>141.666667</td>\n",
       "      <td>Mysore</td>\n",
       "    </tr>\n",
       "    <tr>\n",
       "      <th>2</th>\n",
       "      <td>Owner</td>\n",
       "      <td>0</td>\n",
       "      <td>0</td>\n",
       "      <td>2</td>\n",
       "      <td>BHK</td>\n",
       "      <td>933.159722</td>\n",
       "      <td>1</td>\n",
       "      <td>1</td>\n",
       "      <td>Jigani,Bangalore</td>\n",
       "      <td>12.778033</td>\n",
       "      <td>77.632191</td>\n",
       "      <td>43.0</td>\n",
       "      <td>103.684414</td>\n",
       "      <td>Bangalore</td>\n",
       "    </tr>\n",
       "    <tr>\n",
       "      <th>3</th>\n",
       "      <td>Owner</td>\n",
       "      <td>0</td>\n",
       "      <td>1</td>\n",
       "      <td>2</td>\n",
       "      <td>BHK</td>\n",
       "      <td>929.921143</td>\n",
       "      <td>1</td>\n",
       "      <td>1</td>\n",
       "      <td>Sector-1 Vaishali,Ghaziabad</td>\n",
       "      <td>28.642300</td>\n",
       "      <td>77.344500</td>\n",
       "      <td>62.5</td>\n",
       "      <td>103.324571</td>\n",
       "      <td>Ghaziabad</td>\n",
       "    </tr>\n",
       "    <tr>\n",
       "      <th>4</th>\n",
       "      <td>Dealer</td>\n",
       "      <td>1</td>\n",
       "      <td>0</td>\n",
       "      <td>2</td>\n",
       "      <td>BHK</td>\n",
       "      <td>999.009247</td>\n",
       "      <td>0</td>\n",
       "      <td>1</td>\n",
       "      <td>New Town,Kolkata</td>\n",
       "      <td>22.592200</td>\n",
       "      <td>88.484911</td>\n",
       "      <td>60.5</td>\n",
       "      <td>111.001027</td>\n",
       "      <td>Kolkata</td>\n",
       "    </tr>\n",
       "  </tbody>\n",
       "</table>\n",
       "</div>"
      ],
      "text/plain": [
       "  POSTED_BY  UNDER_CONSTRUCTION  RERA  BHK_NO. BHK_OR_RK    SQUARE_FT  \\\n",
       "0     Owner                   0     0        2       BHK  1300.236407   \n",
       "1    Dealer                   0     0        2       BHK  1275.000000   \n",
       "2     Owner                   0     0        2       BHK   933.159722   \n",
       "3     Owner                   0     1        2       BHK   929.921143   \n",
       "4    Dealer                   1     0        2       BHK   999.009247   \n",
       "\n",
       "   READY_TO_MOVE  RESALE                      ADDRESS  LONGITUDE   LATITUDE  \\\n",
       "0              1       1        Ksfc Layout,Bangalore  12.969910  77.597960   \n",
       "1              1       1    Vishweshwara Nagar,Mysore  12.274538  76.644605   \n",
       "2              1       1             Jigani,Bangalore  12.778033  77.632191   \n",
       "3              1       1  Sector-1 Vaishali,Ghaziabad  28.642300  77.344500   \n",
       "4              0       1             New Town,Kolkata  22.592200  88.484911   \n",
       "\n",
       "   TARGET(PRICE_IN_LACS)  SQUARE_YARD STATE_OR_CITY  \n",
       "0                   55.0   144.470712     Bangalore  \n",
       "1                   51.0   141.666667        Mysore  \n",
       "2                   43.0   103.684414     Bangalore  \n",
       "3                   62.5   103.324571     Ghaziabad  \n",
       "4                   60.5   111.001027       Kolkata  "
      ]
     },
     "execution_count": 12,
     "metadata": {},
     "output_type": "execute_result"
    }
   ],
   "source": [
    "train_data.head()"
   ]
  },
  {
   "cell_type": "code",
   "execution_count": 13,
   "id": "4b7b6abb",
   "metadata": {},
   "outputs": [
    {
     "name": "stdout",
     "output_type": "stream",
     "text": [
      "0    24157\n",
      "1     5294\n",
      "Name: UNDER_CONSTRUCTION, dtype: int64\n"
     ]
    }
   ],
   "source": [
    "print(train_data['UNDER_CONSTRUCTION'].value_counts())"
   ]
  },
  {
   "cell_type": "code",
   "execution_count": 14,
   "id": "03c47a1f",
   "metadata": {},
   "outputs": [
    {
     "data": {
      "text/plain": [
       "2     13324\n",
       "3     10546\n",
       "1      3574\n",
       "4      1723\n",
       "5       190\n",
       "6        52\n",
       "7        11\n",
       "8        10\n",
       "20        4\n",
       "10        4\n",
       "15        4\n",
       "9         3\n",
       "12        3\n",
       "17        1\n",
       "11        1\n",
       "13        1\n",
       "Name: BHK_NO., dtype: int64"
      ]
     },
     "execution_count": 14,
     "metadata": {},
     "output_type": "execute_result"
    }
   ],
   "source": [
    "train_data['BHK_NO.'].value_counts()"
   ]
  },
  {
   "cell_type": "code",
   "execution_count": 40,
   "id": "db2c891b",
   "metadata": {},
   "outputs": [
    {
     "data": {
      "text/plain": [
       "array([ 2,  3,  1,  4,  5,  6, 12,  8, 20, 10,  7,  9, 13, 17, 15, 11])"
      ]
     },
     "execution_count": 40,
     "metadata": {},
     "output_type": "execute_result"
    }
   ],
   "source": []
  },
  {
   "cell_type": "code",
   "execution_count": null,
   "id": "b9d313f2",
   "metadata": {},
   "outputs": [],
   "source": []
  }
 ],
 "metadata": {
  "kernelspec": {
   "display_name": "Python 3",
   "language": "python",
   "name": "python3"
  },
  "language_info": {
   "codemirror_mode": {
    "name": "ipython",
    "version": 3
   },
   "file_extension": ".py",
   "mimetype": "text/x-python",
   "name": "python",
   "nbconvert_exporter": "python",
   "pygments_lexer": "ipython3",
   "version": "3.8.2"
  }
 },
 "nbformat": 4,
 "nbformat_minor": 5
}
