{
 "cells": [
  {
   "cell_type": "markdown",
   "metadata": {},
   "source": [
    "# House Prices Prediction"
   ]
  },
  {
   "cell_type": "markdown",
   "metadata": {},
   "source": [
    "## Data Cleaning"
   ]
  },
  {
   "cell_type": "code",
   "execution_count": 54,
   "metadata": {},
   "outputs": [],
   "source": [
    "import os "
   ]
  },
  {
   "cell_type": "code",
   "execution_count": 55,
   "metadata": {},
   "outputs": [
    {
     "name": "stdout",
     "output_type": "stream",
     "text": [
      "Number of cores available in the cpu:  4\n"
     ]
    }
   ],
   "source": [
    "print('Number of cores available in the cpu: ',os.cpu_count())"
   ]
  },
  {
   "cell_type": "code",
   "execution_count": 56,
   "metadata": {},
   "outputs": [],
   "source": [
    "#importing libraries\n",
    "\n",
    "import numpy as np\n",
    "import pandas as pd\n",
    "import matplotlib.pyplot as plt\n",
    "import seaborn as sns\n",
    "%matplotlib inline"
   ]
  },
  {
   "cell_type": "markdown",
   "metadata": {},
   "source": [
    "  <table>\n",
    "        <tr>\n",
    "                <th><center>Name</center></th>\n",
    "                <th><center>Value</center></th>\n",
    "                <th><center>Description</center></th>\n",
    "                <th><center>Categorical/Continuous</center></th>\n",
    "        </tr>\n",
    "        <!-- Start of the Row-->\n",
    "        <tr>\n",
    "            <td>Posted&nbsp;By</td>\n",
    "            <td>\n",
    "                <table>\n",
    "                    <tr>\n",
    "                        <td>Owner</td>    \n",
    "                    </tr>\n",
    "                    <tr>\n",
    "                        <td>Dealer</td>\n",
    "                    </tr>\n",
    "                </table>\n",
    "            </td>\n",
    "            <td>\n",
    "                <p>This features describes who posted on.</p>\n",
    "            </td>\n",
    "            <td>\n",
    "                Categorical\n",
    "            </td>\n",
    "        </tr>\n",
    "        <!-- End of the Row-->\n",
    "        <!-- Start of the Row-->\n",
    "        <tr>\n",
    "            <td>Under&nbsp;Construction</td>\n",
    "            <td>\n",
    "                <table>\n",
    "                    <tr>\n",
    "                        <td>0</td>\n",
    "                        <td>Not&nbsp;Under&nbsp;construction</td>\n",
    "                    </tr>\n",
    "                    <tr>\n",
    "                        <td>1</td>\n",
    "                        <td>Under&nbsp;construction</td>\n",
    "                    </tr>\n",
    "                </table>\n",
    "            </td>\n",
    "            <td>\n",
    "                <p>This features describes is this house under-construction or not.</p>\n",
    "            </td>\n",
    "            <td>Categorical</td>\n",
    "        </tr>\n",
    "        <!-- End of the Row-->\n",
    "         <!-- Start of the Row-->\n",
    "         <tr>\n",
    "            <td>RERA</td>\n",
    "            <td>\n",
    "                <table>\n",
    "                    <tr>\n",
    "                        <td>0</td>\n",
    "                        <td>Not&nbsp;approved</td>\n",
    "                    </tr>\n",
    "                    <tr>\n",
    "                        <td>1</td>\n",
    "                        <td>Approved</td>\n",
    "                    </tr>\n",
    "                </table>\n",
    "            </td>\n",
    "            <td>\n",
    "                <p>This features describes Real Estate (Regulation and Development) Act, 2016 approved or not.</p>\n",
    "            </td>\n",
    "            <td>\n",
    "                Categorical\n",
    "            </td>\n",
    "        </tr>\n",
    "        <!-- End of the Row-->\n",
    "        <!-- Start of the Row-->\n",
    "        <tr>\n",
    "            <td>BHK&nbsp;No</td>\n",
    "            <td>\n",
    "                0-31\n",
    "            </td>\n",
    "            <td>\n",
    "                <p>This features describes No of Bedrooms if not 0.</p>\n",
    "            </td>\n",
    "            <td>\n",
    "                Continuous\n",
    "            </td>\n",
    "        </tr>\n",
    "        <!-- End of the Row-->\n",
    "        <!-- Start of the Row-->\n",
    "        <tr>\n",
    "            <td>BHK&nbsp;OR&nbsp;RK</td>\n",
    "            <td>\n",
    "                <table>\n",
    "                    <tr>\n",
    "                        <td>BHK</td>    \n",
    "                    </tr>\n",
    "                    <tr>\n",
    "                        <td>RK</td>\n",
    "                    </tr>\n",
    "                </table>\n",
    "            </td>\n",
    "            <td>\n",
    "                <p>This features describes BHK(Bed,Hall,Kitchen) or RK(Room,Kitchen).</p>\n",
    "            </td>\n",
    "            <td>\n",
    "                Categorical\n",
    "            </td>\n",
    "        </tr>\n",
    "        <!-- End of the Row-->\n",
    "        <!-- Start of the Row-->\n",
    "        <tr>\n",
    "            <td>Square Feet</td>\n",
    "            <td>\n",
    "                Area in SQ FT.\n",
    "            </td>\n",
    "            <td>\n",
    "                <p>This features describes Total Area of the house in square feet.</p>\n",
    "            </td>\n",
    "            <td>\n",
    "                Continuous\n",
    "            </td>\n",
    "        </tr>\n",
    "        <!-- End of the Row-->\n",
    "        <!-- Start of the Row-->\n",
    "         <tr>\n",
    "            <td>Ready To Move</td>\n",
    "            <td>\n",
    "                <table>\n",
    "                    <tr>\n",
    "                        <td>0</td>\n",
    "                        <td>Not&nbsp;Ready</td>\n",
    "                    </tr>\n",
    "                    <tr>\n",
    "                        <td>1</td>\n",
    "                        <td>Ready</td>\n",
    "                    </tr>\n",
    "                </table>\n",
    "            </td>\n",
    "            <td>\n",
    "                <p>This features describes is property ready to move.</p>\n",
    "            </td>\n",
    "            <td>Categorical</td>\n",
    "        </tr>\n",
    "        <!-- End of the Row-->\n",
    "        <!-- Start of the Row-->\n",
    "        <tr>\n",
    "            <td>Resale</td>\n",
    "            <td>\n",
    "                <table>\n",
    "                    <tr>\n",
    "                        <td>0</td>\n",
    "                        <td>Not&nbsp;marking&nbsp;resale</td>\n",
    "                    </tr>\n",
    "                    <tr>\n",
    "                        <td>1</td>\n",
    "                        <td>marking&nbsp;resale</td>\n",
    "                    </tr>\n",
    "                </table>\n",
    "            </td>\n",
    "            <td>\n",
    "                <p>This features describes able to resale or not.</p>\n",
    "            </td>\n",
    "            <td>Categorical</td>\n",
    "        </tr>\n",
    "        <!-- End of the Row-->\n",
    "        <!-- Start of the Row-->\n",
    "        <tr>\n",
    "            <td>Address</td>\n",
    "            <td>\n",
    "                location.\n",
    "            </td>\n",
    "            <td>\n",
    "                <p>This features describes location of the property.</p>\n",
    "            </td>\n",
    "            <td>None</td>\n",
    "        </tr>\n",
    "        <!-- End of the Row-->\n",
    "         <!-- Start of the Row-->\n",
    "         <tr>\n",
    "            <td>Longitude</td>\n",
    "            <td>\n",
    "                geo coding location.\n",
    "            </td>\n",
    "            <td>\n",
    "                <p>This features describes geographically marking.</p>\n",
    "            </td>\n",
    "            <td>None</td>\n",
    "        </tr>\n",
    "        <!-- End of the Row-->\n",
    "        <!-- Start of the Row-->\n",
    "        <tr>\n",
    "            <td>Latitude</td>\n",
    "            <td>\n",
    "                geo coding location.\n",
    "            </td>\n",
    "            <td>\n",
    "                <p>This features describes geographically marking.</p>\n",
    "            </td>\n",
    "            <td>None</td>\n",
    "        </tr>\n",
    "        <!-- End of the Row-->\n",
    "        <!-- Start of the Row-->\n",
    "        <tr>\n",
    "            <td>TARGET(PRICE_IN_LACS)</td>\n",
    "            <td>\n",
    "                Amount\n",
    "            </td>\n",
    "            <td>\n",
    "                <p>This features describes amount for assest.</p>\n",
    "            </td>\n",
    "            <td>Continuous</td>\n",
    "        </tr>\n",
    "        <!-- End of the Row-->\n",
    "    </table>"
   ]
  },
  {
   "cell_type": "code",
   "execution_count": 57,
   "metadata": {},
   "outputs": [],
   "source": [
    "#importing trained data\n",
    "train_data = pd.read_csv('data/prices/train.csv')"
   ]
  },
  {
   "cell_type": "code",
   "execution_count": 58,
   "metadata": {},
   "outputs": [],
   "source": [
    "# Getting city or state\n",
    "state = []\n",
    "for addr in train_data['ADDRESS']:\n",
    "    state.append(addr.split(',')[1])\n",
    "train_data['STATE_OR_CITY'] = state"
   ]
  },
  {
   "cell_type": "code",
   "execution_count": 59,
   "metadata": {},
   "outputs": [],
   "source": [
    "#converting in square_feet to square_yard\n",
    "square_yard = train_data['SQUARE_FT']/9\n",
    "train_data['SQUARE_YARD'] = square_yard"
   ]
  },
  {
   "cell_type": "code",
   "execution_count": 60,
   "metadata": {},
   "outputs": [
    {
     "data": {
      "text/html": [
       "<div>\n",
       "<style scoped>\n",
       "    .dataframe tbody tr th:only-of-type {\n",
       "        vertical-align: middle;\n",
       "    }\n",
       "\n",
       "    .dataframe tbody tr th {\n",
       "        vertical-align: top;\n",
       "    }\n",
       "\n",
       "    .dataframe thead th {\n",
       "        text-align: right;\n",
       "    }\n",
       "</style>\n",
       "<table border=\"1\" class=\"dataframe\">\n",
       "  <thead>\n",
       "    <tr style=\"text-align: right;\">\n",
       "      <th></th>\n",
       "      <th>POSTED_BY</th>\n",
       "      <th>UNDER_CONSTRUCTION</th>\n",
       "      <th>RERA</th>\n",
       "      <th>BHK_NO.</th>\n",
       "      <th>BHK_OR_RK</th>\n",
       "      <th>SQUARE_FT</th>\n",
       "      <th>READY_TO_MOVE</th>\n",
       "      <th>RESALE</th>\n",
       "      <th>ADDRESS</th>\n",
       "      <th>LONGITUDE</th>\n",
       "      <th>LATITUDE</th>\n",
       "      <th>TARGET(PRICE_IN_LACS)</th>\n",
       "      <th>STATE_OR_CITY</th>\n",
       "      <th>SQUARE_YARD</th>\n",
       "    </tr>\n",
       "  </thead>\n",
       "  <tbody>\n",
       "    <tr>\n",
       "      <th>0</th>\n",
       "      <td>Owner</td>\n",
       "      <td>0</td>\n",
       "      <td>0</td>\n",
       "      <td>2</td>\n",
       "      <td>BHK</td>\n",
       "      <td>1300.236407</td>\n",
       "      <td>1</td>\n",
       "      <td>1</td>\n",
       "      <td>Ksfc Layout,Bangalore</td>\n",
       "      <td>12.969910</td>\n",
       "      <td>77.597960</td>\n",
       "      <td>55.0</td>\n",
       "      <td>Bangalore</td>\n",
       "      <td>144.470712</td>\n",
       "    </tr>\n",
       "    <tr>\n",
       "      <th>1</th>\n",
       "      <td>Dealer</td>\n",
       "      <td>0</td>\n",
       "      <td>0</td>\n",
       "      <td>2</td>\n",
       "      <td>BHK</td>\n",
       "      <td>1275.000000</td>\n",
       "      <td>1</td>\n",
       "      <td>1</td>\n",
       "      <td>Vishweshwara Nagar,Mysore</td>\n",
       "      <td>12.274538</td>\n",
       "      <td>76.644605</td>\n",
       "      <td>51.0</td>\n",
       "      <td>Mysore</td>\n",
       "      <td>141.666667</td>\n",
       "    </tr>\n",
       "    <tr>\n",
       "      <th>2</th>\n",
       "      <td>Owner</td>\n",
       "      <td>0</td>\n",
       "      <td>0</td>\n",
       "      <td>2</td>\n",
       "      <td>BHK</td>\n",
       "      <td>933.159722</td>\n",
       "      <td>1</td>\n",
       "      <td>1</td>\n",
       "      <td>Jigani,Bangalore</td>\n",
       "      <td>12.778033</td>\n",
       "      <td>77.632191</td>\n",
       "      <td>43.0</td>\n",
       "      <td>Bangalore</td>\n",
       "      <td>103.684414</td>\n",
       "    </tr>\n",
       "    <tr>\n",
       "      <th>3</th>\n",
       "      <td>Owner</td>\n",
       "      <td>0</td>\n",
       "      <td>1</td>\n",
       "      <td>2</td>\n",
       "      <td>BHK</td>\n",
       "      <td>929.921143</td>\n",
       "      <td>1</td>\n",
       "      <td>1</td>\n",
       "      <td>Sector-1 Vaishali,Ghaziabad</td>\n",
       "      <td>28.642300</td>\n",
       "      <td>77.344500</td>\n",
       "      <td>62.5</td>\n",
       "      <td>Ghaziabad</td>\n",
       "      <td>103.324571</td>\n",
       "    </tr>\n",
       "    <tr>\n",
       "      <th>4</th>\n",
       "      <td>Dealer</td>\n",
       "      <td>1</td>\n",
       "      <td>0</td>\n",
       "      <td>2</td>\n",
       "      <td>BHK</td>\n",
       "      <td>999.009247</td>\n",
       "      <td>0</td>\n",
       "      <td>1</td>\n",
       "      <td>New Town,Kolkata</td>\n",
       "      <td>22.592200</td>\n",
       "      <td>88.484911</td>\n",
       "      <td>60.5</td>\n",
       "      <td>Kolkata</td>\n",
       "      <td>111.001027</td>\n",
       "    </tr>\n",
       "    <tr>\n",
       "      <th>5</th>\n",
       "      <td>Owner</td>\n",
       "      <td>0</td>\n",
       "      <td>0</td>\n",
       "      <td>3</td>\n",
       "      <td>BHK</td>\n",
       "      <td>1250.000000</td>\n",
       "      <td>1</td>\n",
       "      <td>1</td>\n",
       "      <td>South Chittoor,Kochi</td>\n",
       "      <td>10.033280</td>\n",
       "      <td>76.282571</td>\n",
       "      <td>42.0</td>\n",
       "      <td>Kochi</td>\n",
       "      <td>138.888889</td>\n",
       "    </tr>\n",
       "    <tr>\n",
       "      <th>6</th>\n",
       "      <td>Dealer</td>\n",
       "      <td>0</td>\n",
       "      <td>0</td>\n",
       "      <td>3</td>\n",
       "      <td>BHK</td>\n",
       "      <td>1495.053957</td>\n",
       "      <td>1</td>\n",
       "      <td>1</td>\n",
       "      <td>Sodala,Jaipur</td>\n",
       "      <td>26.916347</td>\n",
       "      <td>75.795600</td>\n",
       "      <td>66.5</td>\n",
       "      <td>Jaipur</td>\n",
       "      <td>166.117106</td>\n",
       "    </tr>\n",
       "    <tr>\n",
       "      <th>7</th>\n",
       "      <td>Owner</td>\n",
       "      <td>0</td>\n",
       "      <td>1</td>\n",
       "      <td>3</td>\n",
       "      <td>BHK</td>\n",
       "      <td>1181.012946</td>\n",
       "      <td>1</td>\n",
       "      <td>1</td>\n",
       "      <td>Kharar,Mohali</td>\n",
       "      <td>30.740000</td>\n",
       "      <td>76.650000</td>\n",
       "      <td>52.0</td>\n",
       "      <td>Mohali</td>\n",
       "      <td>131.223661</td>\n",
       "    </tr>\n",
       "    <tr>\n",
       "      <th>8</th>\n",
       "      <td>Dealer</td>\n",
       "      <td>0</td>\n",
       "      <td>1</td>\n",
       "      <td>2</td>\n",
       "      <td>BHK</td>\n",
       "      <td>1040.000000</td>\n",
       "      <td>1</td>\n",
       "      <td>1</td>\n",
       "      <td>Bileshivale,Bangalore</td>\n",
       "      <td>13.054202</td>\n",
       "      <td>77.674002</td>\n",
       "      <td>41.6</td>\n",
       "      <td>Bangalore</td>\n",
       "      <td>115.555556</td>\n",
       "    </tr>\n",
       "    <tr>\n",
       "      <th>9</th>\n",
       "      <td>Owner</td>\n",
       "      <td>0</td>\n",
       "      <td>1</td>\n",
       "      <td>2</td>\n",
       "      <td>BHK</td>\n",
       "      <td>879.120879</td>\n",
       "      <td>1</td>\n",
       "      <td>1</td>\n",
       "      <td>Chromepet,Chennai</td>\n",
       "      <td>12.951610</td>\n",
       "      <td>80.140970</td>\n",
       "      <td>36.0</td>\n",
       "      <td>Chennai</td>\n",
       "      <td>97.680098</td>\n",
       "    </tr>\n",
       "  </tbody>\n",
       "</table>\n",
       "</div>"
      ],
      "text/plain": [
       "  POSTED_BY  UNDER_CONSTRUCTION  RERA  BHK_NO. BHK_OR_RK    SQUARE_FT  \\\n",
       "0     Owner                   0     0        2       BHK  1300.236407   \n",
       "1    Dealer                   0     0        2       BHK  1275.000000   \n",
       "2     Owner                   0     0        2       BHK   933.159722   \n",
       "3     Owner                   0     1        2       BHK   929.921143   \n",
       "4    Dealer                   1     0        2       BHK   999.009247   \n",
       "5     Owner                   0     0        3       BHK  1250.000000   \n",
       "6    Dealer                   0     0        3       BHK  1495.053957   \n",
       "7     Owner                   0     1        3       BHK  1181.012946   \n",
       "8    Dealer                   0     1        2       BHK  1040.000000   \n",
       "9     Owner                   0     1        2       BHK   879.120879   \n",
       "\n",
       "   READY_TO_MOVE  RESALE                      ADDRESS  LONGITUDE   LATITUDE  \\\n",
       "0              1       1        Ksfc Layout,Bangalore  12.969910  77.597960   \n",
       "1              1       1    Vishweshwara Nagar,Mysore  12.274538  76.644605   \n",
       "2              1       1             Jigani,Bangalore  12.778033  77.632191   \n",
       "3              1       1  Sector-1 Vaishali,Ghaziabad  28.642300  77.344500   \n",
       "4              0       1             New Town,Kolkata  22.592200  88.484911   \n",
       "5              1       1         South Chittoor,Kochi  10.033280  76.282571   \n",
       "6              1       1                Sodala,Jaipur  26.916347  75.795600   \n",
       "7              1       1                Kharar,Mohali  30.740000  76.650000   \n",
       "8              1       1        Bileshivale,Bangalore  13.054202  77.674002   \n",
       "9              1       1            Chromepet,Chennai  12.951610  80.140970   \n",
       "\n",
       "   TARGET(PRICE_IN_LACS) STATE_OR_CITY  SQUARE_YARD  \n",
       "0                   55.0     Bangalore   144.470712  \n",
       "1                   51.0        Mysore   141.666667  \n",
       "2                   43.0     Bangalore   103.684414  \n",
       "3                   62.5     Ghaziabad   103.324571  \n",
       "4                   60.5       Kolkata   111.001027  \n",
       "5                   42.0         Kochi   138.888889  \n",
       "6                   66.5        Jaipur   166.117106  \n",
       "7                   52.0        Mohali   131.223661  \n",
       "8                   41.6     Bangalore   115.555556  \n",
       "9                   36.0       Chennai    97.680098  "
      ]
     },
     "execution_count": 60,
     "metadata": {},
     "output_type": "execute_result"
    }
   ],
   "source": [
    "train_data.head(10)"
   ]
  },
  {
   "cell_type": "code",
   "execution_count": 61,
   "metadata": {},
   "outputs": [
    {
     "data": {
      "text/html": [
       "<div>\n",
       "<style scoped>\n",
       "    .dataframe tbody tr th:only-of-type {\n",
       "        vertical-align: middle;\n",
       "    }\n",
       "\n",
       "    .dataframe tbody tr th {\n",
       "        vertical-align: top;\n",
       "    }\n",
       "\n",
       "    .dataframe thead th {\n",
       "        text-align: right;\n",
       "    }\n",
       "</style>\n",
       "<table border=\"1\" class=\"dataframe\">\n",
       "  <thead>\n",
       "    <tr style=\"text-align: right;\">\n",
       "      <th></th>\n",
       "      <th>0</th>\n",
       "    </tr>\n",
       "  </thead>\n",
       "  <tbody>\n",
       "    <tr>\n",
       "      <th>POSTED_BY</th>\n",
       "      <td>[Owner, Dealer, Builder]</td>\n",
       "    </tr>\n",
       "    <tr>\n",
       "      <th>UNDER_CONSTRUCTION</th>\n",
       "      <td>[0, 1]</td>\n",
       "    </tr>\n",
       "    <tr>\n",
       "      <th>RERA</th>\n",
       "      <td>[0, 1]</td>\n",
       "    </tr>\n",
       "    <tr>\n",
       "      <th>BHK_OR_RK</th>\n",
       "      <td>[BHK, RK]</td>\n",
       "    </tr>\n",
       "    <tr>\n",
       "      <th>BHK_NO</th>\n",
       "      <td>[2, 3, 1, 4, 5, 6, 12, 8, 20, 10, 7, 9, 13, 17...</td>\n",
       "    </tr>\n",
       "    <tr>\n",
       "      <th>READY_TO_MOVE</th>\n",
       "      <td>[1, 0]</td>\n",
       "    </tr>\n",
       "    <tr>\n",
       "      <th>RESALE</th>\n",
       "      <td>[1, 0]</td>\n",
       "    </tr>\n",
       "  </tbody>\n",
       "</table>\n",
       "</div>"
      ],
      "text/plain": [
       "                                                                    0\n",
       "POSTED_BY                                    [Owner, Dealer, Builder]\n",
       "UNDER_CONSTRUCTION                                             [0, 1]\n",
       "RERA                                                           [0, 1]\n",
       "BHK_OR_RK                                                   [BHK, RK]\n",
       "BHK_NO              [2, 3, 1, 4, 5, 6, 12, 8, 20, 10, 7, 9, 13, 17...\n",
       "READY_TO_MOVE                                                  [1, 0]\n",
       "RESALE                                                         [1, 0]"
      ]
     },
     "execution_count": 61,
     "metadata": {},
     "output_type": "execute_result"
    }
   ],
   "source": [
    "# checking unique values\n",
    "unique_values = {\n",
    "    'POSTED_BY':train_data['POSTED_BY'].unique(),\n",
    "    'UNDER_CONSTRUCTION':train_data['UNDER_CONSTRUCTION'].unique(),\n",
    "    'RERA':train_data['RERA'].unique(),\n",
    "    'BHK_OR_RK':train_data['BHK_OR_RK'].unique(),\n",
    "    'BHK_NO':train_data['BHK_NO.'].unique(),\n",
    "    'READY_TO_MOVE':train_data['READY_TO_MOVE'].unique(),\n",
    "    'RESALE':train_data['RESALE'].unique()\n",
    "}\n",
    "\n",
    "unique_values = pd.DataFrame([unique_values])\n",
    "unique_values = unique_values.T\n",
    "unique_values"
   ]
  },
  {
   "cell_type": "code",
   "execution_count": 62,
   "metadata": {},
   "outputs": [
    {
     "name": "stdout",
     "output_type": "stream",
     "text": [
      "POSTED_BY\n",
      "--------------------\n",
      "Dealer     18291\n",
      "Owner      10538\n",
      "Builder      622\n",
      "Name: POSTED_BY, dtype: int64\n",
      "============================================================\n",
      "UNDER_CONSTRUCTION\n",
      "--------------------\n",
      "0    24157\n",
      "1     5294\n",
      "Name: UNDER_CONSTRUCTION, dtype: int64\n",
      "============================================================\n",
      "RERA\n",
      "--------------------\n",
      "0    20088\n",
      "1     9363\n",
      "Name: RERA, dtype: int64\n",
      "============================================================\n",
      "BHK_NO.\n",
      "--------------------\n",
      "2     13324\n",
      "3     10546\n",
      "1      3574\n",
      "4      1723\n",
      "5       190\n",
      "6        52\n",
      "7        11\n",
      "8        10\n",
      "15        4\n",
      "10        4\n",
      "20        4\n",
      "12        3\n",
      "9         3\n",
      "13        1\n",
      "11        1\n",
      "17        1\n",
      "Name: BHK_NO., dtype: int64\n",
      "============================================================\n",
      "BHK_OR_RK\n",
      "--------------------\n",
      "BHK    29427\n",
      "RK        24\n",
      "Name: BHK_OR_RK, dtype: int64\n",
      "============================================================\n",
      "READY_TO_MOVE\n",
      "--------------------\n",
      "1    24157\n",
      "0     5294\n",
      "Name: READY_TO_MOVE, dtype: int64\n",
      "============================================================\n",
      "RESALE\n",
      "--------------------\n",
      "1    27377\n",
      "0     2074\n",
      "Name: RESALE, dtype: int64\n",
      "============================================================\n",
      "STATE_OR_CITY\n",
      "--------------------\n",
      "Bangalore       4319\n",
      "Lalitpur        2987\n",
      "Mumbai          2020\n",
      "Pune            1984\n",
      "Noida           1765\n",
      "                ... \n",
      "Darbhanga          1\n",
      "vasant Vihar       1\n",
      "Avadi              1\n",
      "Chak Getor         1\n",
      "Raichur            1\n",
      "Name: STATE_OR_CITY, Length: 433, dtype: int64\n",
      "============================================================\n"
     ]
    }
   ],
   "source": [
    "##valueCounts for each feature\n",
    "\n",
    "#POSTED_BY\n",
    "print('POSTED_BY')\n",
    "print('-'*20)\n",
    "print(train_data['POSTED_BY'].value_counts())\n",
    "print(\"=\"*60)\n",
    "#UNDER_CONSTRUCTION\n",
    "print('UNDER_CONSTRUCTION')\n",
    "print('-'*20)\n",
    "print(train_data['UNDER_CONSTRUCTION'].value_counts())\n",
    "print(\"=\"*60)\n",
    "#RERA\n",
    "print('RERA')\n",
    "print('-'*20)\n",
    "print(train_data['RERA'].value_counts())\n",
    "print(\"=\"*60)\n",
    "#BHK_NO.\n",
    "print('BHK_NO.')\n",
    "print('-'*20)\n",
    "print(train_data['BHK_NO.'].value_counts())\n",
    "print(\"=\"*60)\n",
    "#BHK_OR_RK.\n",
    "print('BHK_OR_RK')\n",
    "print('-'*20)\n",
    "print(train_data['BHK_OR_RK'].value_counts())\n",
    "print(\"=\"*60)\n",
    "#READY_TO_MOVE\n",
    "print('READY_TO_MOVE')\n",
    "print('-'*20)\n",
    "print(train_data['READY_TO_MOVE'].value_counts())\n",
    "print(\"=\"*60)\n",
    "#RESALE\n",
    "print('RESALE')\n",
    "print('-'*20)\n",
    "print(train_data['RESALE'].value_counts())\n",
    "print(\"=\"*60)\n",
    "#STATE_OR_CITY\n",
    "print('STATE_OR_CITY')\n",
    "print('-'*20)\n",
    "print(train_data['STATE_OR_CITY'].value_counts())\n",
    "print(\"=\"*60)"
   ]
  },
  {
   "cell_type": "markdown",
   "metadata": {},
   "source": [
    "## Visualisations"
   ]
  },
  {
   "cell_type": "markdown",
   "metadata": {},
   "source": [
    "- divide the bins manually 20 check"
   ]
  },
  {
   "cell_type": "code",
   "execution_count": 63,
   "metadata": {},
   "outputs": [
    {
     "data": {
      "image/png": "[encoded data removed]",
      "text/plain": [
       "<Figure size 432x288 with 1 Axes>"
      ]
     },
     "metadata": {},
     "output_type": "display_data"
    }
   ],
   "source": [
    "onethousand = train_data[train_data['SQUARE_FT'] >= 1000]['SQUARE_FT']\n",
    "twothousand = train_data[(train_data['SQUARE_FT'] <= 1000) & (train_data['SQUARE_FT'] <= 2000)]['SQUARE_FT']\n",
    "threethousand = train_data[(train_data['SQUARE_FT'] <= 2000) & (train_data['SQUARE_FT'] <= 3000)]['SQUARE_FT']\n",
    "fourthousand  = train_data[(train_data['SQUARE_FT'] <= 3000) & (train_data['SQUARE_FT'] <= 4000)]['SQUARE_FT']\n",
    "fivethousandabove = train_data[train_data['SQUARE_FT'] <= 5000]['SQUARE_FT']\n",
    "\n",
    "aix = [\"0-1000\",\"1001-2000\",\"2001-3000\",\"3001-4000\",\"4001-5000<\"]\n",
    "aiy = [len(onethousand),len(twothousand),len(threethousand),len(fourthousand),len(fivethousandabove)]\n",
    "sns.set_theme(style=\"whitegrid\")\n",
    "ax = sns.barplot(x=aix,y=aiy)\n",
    "ax.set(xlabel='SQFT');"
   ]
  },
  {
   "cell_type": "code",
   "execution_count": 64,
   "metadata": {},
   "outputs": [
    {
     "data": {
      "image/png": "[encoded data removed]",
      "text/plain": [
       "<Figure size 432x288 with 1 Axes>"
      ]
     },
     "metadata": {},
     "output_type": "display_data"
    }
   ],
   "source": [
    "postedBarY = [len(train_data[train_data['POSTED_BY']=='Owner']['POSTED_BY']),\n",
    "              len(train_data[train_data['POSTED_BY']=='Dealer']['POSTED_BY']),\n",
    "             len(train_data[train_data['POSTED_BY']=='Builder']['POSTED_BY'])]\n",
    "postedBarX = ['Owner','Dealer','Builder']\n",
    "ax = sns.barplot(x=postedBarX,y=postedBarY)\n",
    "ax.set(xlabel='PostedBy');"
   ]
  },
  {
   "cell_type": "code",
   "execution_count": 65,
   "metadata": {},
   "outputs": [
    {
     "data": {
      "image/png": "[encoded data removed]",
      "text/plain": [
       "<Figure size 432x288 with 1 Axes>"
      ]
     },
     "metadata": {},
     "output_type": "display_data"
    }
   ],
   "source": [
    "underContructedY = [len(train_data[train_data['UNDER_CONSTRUCTION']==1]['UNDER_CONSTRUCTION']),\n",
    "                   len(train_data[train_data['UNDER_CONSTRUCTION']==0]['UNDER_CONSTRUCTION'])]\n",
    "underConstructedX = ['Yes','No']\n",
    "ax = sns.barplot(x=underConstructedX,y=underContructedY)\n",
    "ax.set(xlabel='UnderConstruction');"
   ]
  },
  {
   "cell_type": "code",
   "execution_count": 66,
   "metadata": {},
   "outputs": [
    {
     "data": {
      "image/png": "[encoded data removed]",
      "text/plain": [
       "<Figure size 432x288 with 1 Axes>"
      ]
     },
     "metadata": {},
     "output_type": "display_data"
    }
   ],
   "source": [
    "reraApprovedY = [len(train_data[train_data['RERA']==1]['RERA']),\n",
    "                   len(train_data[train_data['RERA']==0]['RERA'])]\n",
    "reraApprovedX = ['Yes','No']\n",
    "ax = sns.barplot(x=reraApprovedX,y=reraApprovedY)\n",
    "ax.set(xlabel='RERA Approved');"
   ]
  },
  {
   "cell_type": "code",
   "execution_count": 67,
   "metadata": {},
   "outputs": [
    {
     "data": {
      "image/png": "[encoded data removed]",
      "text/plain": [
       "<Figure size 432x288 with 1 Axes>"
      ]
     },
     "metadata": {},
     "output_type": "display_data"
    }
   ],
   "source": [
    "bhkno = []\n",
    "bhkcount = []\n",
    "for bhk in train_data['BHK_NO.'].unique():\n",
    "    bhkcount.append(len(train_data[train_data['BHK_NO.']==bhk]['BHK_NO.']))\n",
    "    bhkno.append(bhk)\n",
    "ax = sns.barplot(x=bhkno,y=bhkcount)\n",
    "ax.set(xlabel='BHK NO');"
   ]
  },
  {
   "cell_type": "code",
   "execution_count": 68,
   "metadata": {},
   "outputs": [
    {
     "data": {
      "image/png": "[encoded data removed]",
      "text/plain": [
       "<Figure size 432x288 with 1 Axes>"
      ]
     },
     "metadata": {},
     "output_type": "display_data"
    }
   ],
   "source": [
    "bhkOrRkY = [len(train_data[train_data['BHK_OR_RK']=='BHK']['BHK_OR_RK']),\n",
    "                   len(train_data[train_data['BHK_OR_RK']=='RK']['BHK_OR_RK'])]\n",
    "bhkOrRkX = ['BHK','RK']\n",
    "ax = sns.barplot(x=bhkOrRkX,y=bhkOrRkY)\n",
    "ax.set(xlabel='BHK Or RK');"
   ]
  },
  {
   "cell_type": "code",
   "execution_count": 69,
   "metadata": {},
   "outputs": [
    {
     "data": {
      "image/png": "[encoded data removed]",
      "text/plain": [
       "<Figure size 432x288 with 1 Axes>"
      ]
     },
     "metadata": {},
     "output_type": "display_data"
    }
   ],
   "source": [
    "readyToMoveY = [len(train_data[train_data['READY_TO_MOVE']==1]['READY_TO_MOVE']),\n",
    "                   len(train_data[train_data['READY_TO_MOVE']==0]['READY_TO_MOVE'])]\n",
    "readyToMoveX = ['Yes','No']\n",
    "ax = sns.barplot(x=readyToMoveX,y=readyToMoveY)\n",
    "ax.set(xlabel='Ready To Move');"
   ]
  },
  {
   "cell_type": "code",
   "execution_count": 70,
   "metadata": {},
   "outputs": [
    {
     "data": {
      "image/png": "[encoded data removed]",
      "text/plain": [
       "<Figure size 432x288 with 1 Axes>"
      ]
     },
     "metadata": {},
     "output_type": "display_data"
    }
   ],
   "source": [
    "resaleY = [len(train_data[train_data['RESALE']==1]['RESALE']),\n",
    "                   len(train_data[train_data['RESALE']==0]['RESALE'])]\n",
    "resaleX = ['Yes','No']\n",
    "ax = sns.barplot(x=resaleX,y=resaleY)\n",
    "ax.set(xlabel='Resale');"
   ]
  },
  {
   "cell_type": "code",
   "execution_count": 71,
   "metadata": {},
   "outputs": [],
   "source": [
    "train_data['TARGET_AMOUNT']=train_data['TARGET(PRICE_IN_LACS)']*100000"
   ]
  },
  {
   "cell_type": "markdown",
   "metadata": {},
   "source": [
    "# Machine Learning Algorithms"
   ]
  },
  {
   "cell_type": "code",
   "execution_count": 72,
   "metadata": {},
   "outputs": [
    {
     "data": {
      "text/html": [
       "<div>\n",
       "<style scoped>\n",
       "    .dataframe tbody tr th:only-of-type {\n",
       "        vertical-align: middle;\n",
       "    }\n",
       "\n",
       "    .dataframe tbody tr th {\n",
       "        vertical-align: top;\n",
       "    }\n",
       "\n",
       "    .dataframe thead th {\n",
       "        text-align: right;\n",
       "    }\n",
       "</style>\n",
       "<table border=\"1\" class=\"dataframe\">\n",
       "  <thead>\n",
       "    <tr style=\"text-align: right;\">\n",
       "      <th></th>\n",
       "      <th>POSTED_BY</th>\n",
       "      <th>UNDER_CONSTRUCTION</th>\n",
       "      <th>RERA</th>\n",
       "      <th>BHK_NO.</th>\n",
       "      <th>BHK_OR_RK</th>\n",
       "      <th>SQUARE_FT</th>\n",
       "      <th>READY_TO_MOVE</th>\n",
       "      <th>RESALE</th>\n",
       "      <th>ADDRESS</th>\n",
       "      <th>LONGITUDE</th>\n",
       "      <th>LATITUDE</th>\n",
       "      <th>TARGET(PRICE_IN_LACS)</th>\n",
       "      <th>STATE_OR_CITY</th>\n",
       "      <th>SQUARE_YARD</th>\n",
       "      <th>TARGET_AMOUNT</th>\n",
       "    </tr>\n",
       "  </thead>\n",
       "  <tbody>\n",
       "    <tr>\n",
       "      <th>0</th>\n",
       "      <td>Owner</td>\n",
       "      <td>0</td>\n",
       "      <td>0</td>\n",
       "      <td>2</td>\n",
       "      <td>BHK</td>\n",
       "      <td>1300.236407</td>\n",
       "      <td>1</td>\n",
       "      <td>1</td>\n",
       "      <td>Ksfc Layout,Bangalore</td>\n",
       "      <td>12.969910</td>\n",
       "      <td>77.597960</td>\n",
       "      <td>55.0</td>\n",
       "      <td>Bangalore</td>\n",
       "      <td>144.470712</td>\n",
       "      <td>5500000.0</td>\n",
       "    </tr>\n",
       "    <tr>\n",
       "      <th>1</th>\n",
       "      <td>Dealer</td>\n",
       "      <td>0</td>\n",
       "      <td>0</td>\n",
       "      <td>2</td>\n",
       "      <td>BHK</td>\n",
       "      <td>1275.000000</td>\n",
       "      <td>1</td>\n",
       "      <td>1</td>\n",
       "      <td>Vishweshwara Nagar,Mysore</td>\n",
       "      <td>12.274538</td>\n",
       "      <td>76.644605</td>\n",
       "      <td>51.0</td>\n",
       "      <td>Mysore</td>\n",
       "      <td>141.666667</td>\n",
       "      <td>5100000.0</td>\n",
       "    </tr>\n",
       "    <tr>\n",
       "      <th>2</th>\n",
       "      <td>Owner</td>\n",
       "      <td>0</td>\n",
       "      <td>0</td>\n",
       "      <td>2</td>\n",
       "      <td>BHK</td>\n",
       "      <td>933.159722</td>\n",
       "      <td>1</td>\n",
       "      <td>1</td>\n",
       "      <td>Jigani,Bangalore</td>\n",
       "      <td>12.778033</td>\n",
       "      <td>77.632191</td>\n",
       "      <td>43.0</td>\n",
       "      <td>Bangalore</td>\n",
       "      <td>103.684414</td>\n",
       "      <td>4300000.0</td>\n",
       "    </tr>\n",
       "    <tr>\n",
       "      <th>3</th>\n",
       "      <td>Owner</td>\n",
       "      <td>0</td>\n",
       "      <td>1</td>\n",
       "      <td>2</td>\n",
       "      <td>BHK</td>\n",
       "      <td>929.921143</td>\n",
       "      <td>1</td>\n",
       "      <td>1</td>\n",
       "      <td>Sector-1 Vaishali,Ghaziabad</td>\n",
       "      <td>28.642300</td>\n",
       "      <td>77.344500</td>\n",
       "      <td>62.5</td>\n",
       "      <td>Ghaziabad</td>\n",
       "      <td>103.324571</td>\n",
       "      <td>6250000.0</td>\n",
       "    </tr>\n",
       "    <tr>\n",
       "      <th>4</th>\n",
       "      <td>Dealer</td>\n",
       "      <td>1</td>\n",
       "      <td>0</td>\n",
       "      <td>2</td>\n",
       "      <td>BHK</td>\n",
       "      <td>999.009247</td>\n",
       "      <td>0</td>\n",
       "      <td>1</td>\n",
       "      <td>New Town,Kolkata</td>\n",
       "      <td>22.592200</td>\n",
       "      <td>88.484911</td>\n",
       "      <td>60.5</td>\n",
       "      <td>Kolkata</td>\n",
       "      <td>111.001027</td>\n",
       "      <td>6050000.0</td>\n",
       "    </tr>\n",
       "  </tbody>\n",
       "</table>\n",
       "</div>"
      ],
      "text/plain": [
       "  POSTED_BY  UNDER_CONSTRUCTION  RERA  BHK_NO. BHK_OR_RK    SQUARE_FT  \\\n",
       "0     Owner                   0     0        2       BHK  1300.236407   \n",
       "1    Dealer                   0     0        2       BHK  1275.000000   \n",
       "2     Owner                   0     0        2       BHK   933.159722   \n",
       "3     Owner                   0     1        2       BHK   929.921143   \n",
       "4    Dealer                   1     0        2       BHK   999.009247   \n",
       "\n",
       "   READY_TO_MOVE  RESALE                      ADDRESS  LONGITUDE   LATITUDE  \\\n",
       "0              1       1        Ksfc Layout,Bangalore  12.969910  77.597960   \n",
       "1              1       1    Vishweshwara Nagar,Mysore  12.274538  76.644605   \n",
       "2              1       1             Jigani,Bangalore  12.778033  77.632191   \n",
       "3              1       1  Sector-1 Vaishali,Ghaziabad  28.642300  77.344500   \n",
       "4              0       1             New Town,Kolkata  22.592200  88.484911   \n",
       "\n",
       "   TARGET(PRICE_IN_LACS) STATE_OR_CITY  SQUARE_YARD  TARGET_AMOUNT  \n",
       "0                   55.0     Bangalore   144.470712      5500000.0  \n",
       "1                   51.0        Mysore   141.666667      5100000.0  \n",
       "2                   43.0     Bangalore   103.684414      4300000.0  \n",
       "3                   62.5     Ghaziabad   103.324571      6250000.0  \n",
       "4                   60.5       Kolkata   111.001027      6050000.0  "
      ]
     },
     "execution_count": 72,
     "metadata": {},
     "output_type": "execute_result"
    }
   ],
   "source": [
    "train_data.head()"
   ]
  },
  {
   "cell_type": "code",
   "execution_count": 73,
   "metadata": {},
   "outputs": [
    {
     "data": {
      "text/html": [
       "<div>\n",
       "<style scoped>\n",
       "    .dataframe tbody tr th:only-of-type {\n",
       "        vertical-align: middle;\n",
       "    }\n",
       "\n",
       "    .dataframe tbody tr th {\n",
       "        vertical-align: top;\n",
       "    }\n",
       "\n",
       "    .dataframe thead th {\n",
       "        text-align: right;\n",
       "    }\n",
       "</style>\n",
       "<table border=\"1\" class=\"dataframe\">\n",
       "  <thead>\n",
       "    <tr style=\"text-align: right;\">\n",
       "      <th></th>\n",
       "      <th>POSTED_BY</th>\n",
       "      <th>UNDER_CONSTRUCTION</th>\n",
       "      <th>RERA</th>\n",
       "      <th>BHK_NO.</th>\n",
       "      <th>BHK_OR_RK</th>\n",
       "      <th>SQUARE_FT</th>\n",
       "      <th>READY_TO_MOVE</th>\n",
       "      <th>RESALE</th>\n",
       "      <th>STATE_OR_CITY</th>\n",
       "      <th>SQUARE_YARD</th>\n",
       "      <th>TARGET_AMOUNT</th>\n",
       "    </tr>\n",
       "  </thead>\n",
       "  <tbody>\n",
       "    <tr>\n",
       "      <th>0</th>\n",
       "      <td>Owner</td>\n",
       "      <td>0</td>\n",
       "      <td>0</td>\n",
       "      <td>2</td>\n",
       "      <td>BHK</td>\n",
       "      <td>1300.236407</td>\n",
       "      <td>1</td>\n",
       "      <td>1</td>\n",
       "      <td>Bangalore</td>\n",
       "      <td>144.470712</td>\n",
       "      <td>5500000.0</td>\n",
       "    </tr>\n",
       "    <tr>\n",
       "      <th>1</th>\n",
       "      <td>Dealer</td>\n",
       "      <td>0</td>\n",
       "      <td>0</td>\n",
       "      <td>2</td>\n",
       "      <td>BHK</td>\n",
       "      <td>1275.000000</td>\n",
       "      <td>1</td>\n",
       "      <td>1</td>\n",
       "      <td>Mysore</td>\n",
       "      <td>141.666667</td>\n",
       "      <td>5100000.0</td>\n",
       "    </tr>\n",
       "    <tr>\n",
       "      <th>2</th>\n",
       "      <td>Owner</td>\n",
       "      <td>0</td>\n",
       "      <td>0</td>\n",
       "      <td>2</td>\n",
       "      <td>BHK</td>\n",
       "      <td>933.159722</td>\n",
       "      <td>1</td>\n",
       "      <td>1</td>\n",
       "      <td>Bangalore</td>\n",
       "      <td>103.684414</td>\n",
       "      <td>4300000.0</td>\n",
       "    </tr>\n",
       "    <tr>\n",
       "      <th>3</th>\n",
       "      <td>Owner</td>\n",
       "      <td>0</td>\n",
       "      <td>1</td>\n",
       "      <td>2</td>\n",
       "      <td>BHK</td>\n",
       "      <td>929.921143</td>\n",
       "      <td>1</td>\n",
       "      <td>1</td>\n",
       "      <td>Ghaziabad</td>\n",
       "      <td>103.324571</td>\n",
       "      <td>6250000.0</td>\n",
       "    </tr>\n",
       "    <tr>\n",
       "      <th>4</th>\n",
       "      <td>Dealer</td>\n",
       "      <td>1</td>\n",
       "      <td>0</td>\n",
       "      <td>2</td>\n",
       "      <td>BHK</td>\n",
       "      <td>999.009247</td>\n",
       "      <td>0</td>\n",
       "      <td>1</td>\n",
       "      <td>Kolkata</td>\n",
       "      <td>111.001027</td>\n",
       "      <td>6050000.0</td>\n",
       "    </tr>\n",
       "    <tr>\n",
       "      <th>...</th>\n",
       "      <td>...</td>\n",
       "      <td>...</td>\n",
       "      <td>...</td>\n",
       "      <td>...</td>\n",
       "      <td>...</td>\n",
       "      <td>...</td>\n",
       "      <td>...</td>\n",
       "      <td>...</td>\n",
       "      <td>...</td>\n",
       "      <td>...</td>\n",
       "      <td>...</td>\n",
       "    </tr>\n",
       "    <tr>\n",
       "      <th>29446</th>\n",
       "      <td>Owner</td>\n",
       "      <td>0</td>\n",
       "      <td>0</td>\n",
       "      <td>3</td>\n",
       "      <td>BHK</td>\n",
       "      <td>2500.000000</td>\n",
       "      <td>1</td>\n",
       "      <td>1</td>\n",
       "      <td>Agra</td>\n",
       "      <td>277.777778</td>\n",
       "      <td>4500000.0</td>\n",
       "    </tr>\n",
       "    <tr>\n",
       "      <th>29447</th>\n",
       "      <td>Owner</td>\n",
       "      <td>0</td>\n",
       "      <td>0</td>\n",
       "      <td>2</td>\n",
       "      <td>BHK</td>\n",
       "      <td>769.230769</td>\n",
       "      <td>1</td>\n",
       "      <td>1</td>\n",
       "      <td>Lake View Recidency</td>\n",
       "      <td>85.470085</td>\n",
       "      <td>1600000.0</td>\n",
       "    </tr>\n",
       "    <tr>\n",
       "      <th>29448</th>\n",
       "      <td>Dealer</td>\n",
       "      <td>0</td>\n",
       "      <td>0</td>\n",
       "      <td>2</td>\n",
       "      <td>BHK</td>\n",
       "      <td>1022.641509</td>\n",
       "      <td>1</td>\n",
       "      <td>1</td>\n",
       "      <td>Jaipur</td>\n",
       "      <td>113.626834</td>\n",
       "      <td>2710000.0</td>\n",
       "    </tr>\n",
       "    <tr>\n",
       "      <th>29449</th>\n",
       "      <td>Owner</td>\n",
       "      <td>0</td>\n",
       "      <td>0</td>\n",
       "      <td>2</td>\n",
       "      <td>BHK</td>\n",
       "      <td>927.079009</td>\n",
       "      <td>1</td>\n",
       "      <td>1</td>\n",
       "      <td>Chennai</td>\n",
       "      <td>103.008779</td>\n",
       "      <td>6700000.0</td>\n",
       "    </tr>\n",
       "    <tr>\n",
       "      <th>29450</th>\n",
       "      <td>Dealer</td>\n",
       "      <td>0</td>\n",
       "      <td>1</td>\n",
       "      <td>2</td>\n",
       "      <td>BHK</td>\n",
       "      <td>896.774194</td>\n",
       "      <td>1</td>\n",
       "      <td>1</td>\n",
       "      <td>Jaipur</td>\n",
       "      <td>99.641577</td>\n",
       "      <td>2780000.0</td>\n",
       "    </tr>\n",
       "  </tbody>\n",
       "</table>\n",
       "<p>29451 rows × 11 columns</p>\n",
       "</div>"
      ],
      "text/plain": [
       "      POSTED_BY  UNDER_CONSTRUCTION  RERA  BHK_NO. BHK_OR_RK    SQUARE_FT  \\\n",
       "0         Owner                   0     0        2       BHK  1300.236407   \n",
       "1        Dealer                   0     0        2       BHK  1275.000000   \n",
       "2         Owner                   0     0        2       BHK   933.159722   \n",
       "3         Owner                   0     1        2       BHK   929.921143   \n",
       "4        Dealer                   1     0        2       BHK   999.009247   \n",
       "...         ...                 ...   ...      ...       ...          ...   \n",
       "29446     Owner                   0     0        3       BHK  2500.000000   \n",
       "29447     Owner                   0     0        2       BHK   769.230769   \n",
       "29448    Dealer                   0     0        2       BHK  1022.641509   \n",
       "29449     Owner                   0     0        2       BHK   927.079009   \n",
       "29450    Dealer                   0     1        2       BHK   896.774194   \n",
       "\n",
       "       READY_TO_MOVE  RESALE         STATE_OR_CITY  SQUARE_YARD  TARGET_AMOUNT  \n",
       "0                  1       1             Bangalore   144.470712      5500000.0  \n",
       "1                  1       1                Mysore   141.666667      5100000.0  \n",
       "2                  1       1             Bangalore   103.684414      4300000.0  \n",
       "3                  1       1             Ghaziabad   103.324571      6250000.0  \n",
       "4                  0       1               Kolkata   111.001027      6050000.0  \n",
       "...              ...     ...                   ...          ...            ...  \n",
       "29446              1       1                  Agra   277.777778      4500000.0  \n",
       "29447              1       1   Lake View Recidency    85.470085      1600000.0  \n",
       "29448              1       1                Jaipur   113.626834      2710000.0  \n",
       "29449              1       1               Chennai   103.008779      6700000.0  \n",
       "29450              1       1                Jaipur    99.641577      2780000.0  \n",
       "\n",
       "[29451 rows x 11 columns]"
      ]
     },
     "execution_count": 73,
     "metadata": {},
     "output_type": "execute_result"
    }
   ],
   "source": [
    "prepare_data = pd.concat([train_data.iloc[:,:8],train_data.iloc[:,12:]],axis=1)\n",
    "prepare_data "
   ]
  },
  {
   "cell_type": "code",
   "execution_count": 74,
   "metadata": {},
   "outputs": [],
   "source": [
    "import copy"
   ]
  },
  {
   "cell_type": "code",
   "execution_count": 75,
   "metadata": {},
   "outputs": [
    {
     "data": {
      "text/html": [
       "<div>\n",
       "<style scoped>\n",
       "    .dataframe tbody tr th:only-of-type {\n",
       "        vertical-align: middle;\n",
       "    }\n",
       "\n",
       "    .dataframe tbody tr th {\n",
       "        vertical-align: top;\n",
       "    }\n",
       "\n",
       "    .dataframe thead th {\n",
       "        text-align: right;\n",
       "    }\n",
       "</style>\n",
       "<table border=\"1\" class=\"dataframe\">\n",
       "  <thead>\n",
       "    <tr style=\"text-align: right;\">\n",
       "      <th></th>\n",
       "      <th>POSTED_BY</th>\n",
       "      <th>UNDER_CONSTRUCTION</th>\n",
       "      <th>RERA</th>\n",
       "      <th>BHK_NO.</th>\n",
       "      <th>BHK_OR_RK</th>\n",
       "      <th>SQUARE_FT</th>\n",
       "      <th>READY_TO_MOVE</th>\n",
       "      <th>RESALE</th>\n",
       "      <th>SQUARE_YARD</th>\n",
       "      <th>TARGET_AMOUNT</th>\n",
       "    </tr>\n",
       "  </thead>\n",
       "  <tbody>\n",
       "    <tr>\n",
       "      <th>0</th>\n",
       "      <td>Owner</td>\n",
       "      <td>0</td>\n",
       "      <td>0</td>\n",
       "      <td>2</td>\n",
       "      <td>BHK</td>\n",
       "      <td>1300.236407</td>\n",
       "      <td>1</td>\n",
       "      <td>1</td>\n",
       "      <td>144.470712</td>\n",
       "      <td>5500000.0</td>\n",
       "    </tr>\n",
       "    <tr>\n",
       "      <th>1</th>\n",
       "      <td>Dealer</td>\n",
       "      <td>0</td>\n",
       "      <td>0</td>\n",
       "      <td>2</td>\n",
       "      <td>BHK</td>\n",
       "      <td>1275.000000</td>\n",
       "      <td>1</td>\n",
       "      <td>1</td>\n",
       "      <td>141.666667</td>\n",
       "      <td>5100000.0</td>\n",
       "    </tr>\n",
       "    <tr>\n",
       "      <th>2</th>\n",
       "      <td>Owner</td>\n",
       "      <td>0</td>\n",
       "      <td>0</td>\n",
       "      <td>2</td>\n",
       "      <td>BHK</td>\n",
       "      <td>933.159722</td>\n",
       "      <td>1</td>\n",
       "      <td>1</td>\n",
       "      <td>103.684414</td>\n",
       "      <td>4300000.0</td>\n",
       "    </tr>\n",
       "    <tr>\n",
       "      <th>3</th>\n",
       "      <td>Owner</td>\n",
       "      <td>0</td>\n",
       "      <td>1</td>\n",
       "      <td>2</td>\n",
       "      <td>BHK</td>\n",
       "      <td>929.921143</td>\n",
       "      <td>1</td>\n",
       "      <td>1</td>\n",
       "      <td>103.324571</td>\n",
       "      <td>6250000.0</td>\n",
       "    </tr>\n",
       "    <tr>\n",
       "      <th>4</th>\n",
       "      <td>Dealer</td>\n",
       "      <td>1</td>\n",
       "      <td>0</td>\n",
       "      <td>2</td>\n",
       "      <td>BHK</td>\n",
       "      <td>999.009247</td>\n",
       "      <td>0</td>\n",
       "      <td>1</td>\n",
       "      <td>111.001027</td>\n",
       "      <td>6050000.0</td>\n",
       "    </tr>\n",
       "    <tr>\n",
       "      <th>...</th>\n",
       "      <td>...</td>\n",
       "      <td>...</td>\n",
       "      <td>...</td>\n",
       "      <td>...</td>\n",
       "      <td>...</td>\n",
       "      <td>...</td>\n",
       "      <td>...</td>\n",
       "      <td>...</td>\n",
       "      <td>...</td>\n",
       "      <td>...</td>\n",
       "    </tr>\n",
       "    <tr>\n",
       "      <th>29446</th>\n",
       "      <td>Owner</td>\n",
       "      <td>0</td>\n",
       "      <td>0</td>\n",
       "      <td>3</td>\n",
       "      <td>BHK</td>\n",
       "      <td>2500.000000</td>\n",
       "      <td>1</td>\n",
       "      <td>1</td>\n",
       "      <td>277.777778</td>\n",
       "      <td>4500000.0</td>\n",
       "    </tr>\n",
       "    <tr>\n",
       "      <th>29447</th>\n",
       "      <td>Owner</td>\n",
       "      <td>0</td>\n",
       "      <td>0</td>\n",
       "      <td>2</td>\n",
       "      <td>BHK</td>\n",
       "      <td>769.230769</td>\n",
       "      <td>1</td>\n",
       "      <td>1</td>\n",
       "      <td>85.470085</td>\n",
       "      <td>1600000.0</td>\n",
       "    </tr>\n",
       "    <tr>\n",
       "      <th>29448</th>\n",
       "      <td>Dealer</td>\n",
       "      <td>0</td>\n",
       "      <td>0</td>\n",
       "      <td>2</td>\n",
       "      <td>BHK</td>\n",
       "      <td>1022.641509</td>\n",
       "      <td>1</td>\n",
       "      <td>1</td>\n",
       "      <td>113.626834</td>\n",
       "      <td>2710000.0</td>\n",
       "    </tr>\n",
       "    <tr>\n",
       "      <th>29449</th>\n",
       "      <td>Owner</td>\n",
       "      <td>0</td>\n",
       "      <td>0</td>\n",
       "      <td>2</td>\n",
       "      <td>BHK</td>\n",
       "      <td>927.079009</td>\n",
       "      <td>1</td>\n",
       "      <td>1</td>\n",
       "      <td>103.008779</td>\n",
       "      <td>6700000.0</td>\n",
       "    </tr>\n",
       "    <tr>\n",
       "      <th>29450</th>\n",
       "      <td>Dealer</td>\n",
       "      <td>0</td>\n",
       "      <td>1</td>\n",
       "      <td>2</td>\n",
       "      <td>BHK</td>\n",
       "      <td>896.774194</td>\n",
       "      <td>1</td>\n",
       "      <td>1</td>\n",
       "      <td>99.641577</td>\n",
       "      <td>2780000.0</td>\n",
       "    </tr>\n",
       "  </tbody>\n",
       "</table>\n",
       "<p>29451 rows × 10 columns</p>\n",
       "</div>"
      ],
      "text/plain": [
       "      POSTED_BY  UNDER_CONSTRUCTION  RERA  BHK_NO. BHK_OR_RK    SQUARE_FT  \\\n",
       "0         Owner                   0     0        2       BHK  1300.236407   \n",
       "1        Dealer                   0     0        2       BHK  1275.000000   \n",
       "2         Owner                   0     0        2       BHK   933.159722   \n",
       "3         Owner                   0     1        2       BHK   929.921143   \n",
       "4        Dealer                   1     0        2       BHK   999.009247   \n",
       "...         ...                 ...   ...      ...       ...          ...   \n",
       "29446     Owner                   0     0        3       BHK  2500.000000   \n",
       "29447     Owner                   0     0        2       BHK   769.230769   \n",
       "29448    Dealer                   0     0        2       BHK  1022.641509   \n",
       "29449     Owner                   0     0        2       BHK   927.079009   \n",
       "29450    Dealer                   0     1        2       BHK   896.774194   \n",
       "\n",
       "       READY_TO_MOVE  RESALE  SQUARE_YARD  TARGET_AMOUNT  \n",
       "0                  1       1   144.470712      5500000.0  \n",
       "1                  1       1   141.666667      5100000.0  \n",
       "2                  1       1   103.684414      4300000.0  \n",
       "3                  1       1   103.324571      6250000.0  \n",
       "4                  0       1   111.001027      6050000.0  \n",
       "...              ...     ...          ...            ...  \n",
       "29446              1       1   277.777778      4500000.0  \n",
       "29447              1       1    85.470085      1600000.0  \n",
       "29448              1       1   113.626834      2710000.0  \n",
       "29449              1       1   103.008779      6700000.0  \n",
       "29450              1       1    99.641577      2780000.0  \n",
       "\n",
       "[29451 rows x 10 columns]"
      ]
     },
     "execution_count": 75,
     "metadata": {},
     "output_type": "execute_result"
    }
   ],
   "source": [
    "transform_data = copy.deepcopy(prepare_data)\n",
    "del transform_data['STATE_OR_CITY']\n",
    "transform_data"
   ]
  },
  {
   "cell_type": "markdown",
   "metadata": {},
   "source": [
    "## Encoding "
   ]
  },
  {
   "cell_type": "code",
   "execution_count": 76,
   "metadata": {},
   "outputs": [],
   "source": [
    "from sklearn.preprocessing import LabelEncoder"
   ]
  },
  {
   "cell_type": "code",
   "execution_count": 77,
   "metadata": {},
   "outputs": [],
   "source": [
    "labelEncoder = LabelEncoder()\n",
    "transform_data['POSTED_BY'] = labelEncoder.fit_transform(transform_data['POSTED_BY'])\n"
   ]
  },
  {
   "cell_type": "code",
   "execution_count": 78,
   "metadata": {},
   "outputs": [
    {
     "data": {
      "text/plain": [
       "array(['Builder', 'Dealer', 'Owner'], dtype=object)"
      ]
     },
     "execution_count": 78,
     "metadata": {},
     "output_type": "execute_result"
    }
   ],
   "source": [
    "labelEncoder.classes_"
   ]
  },
  {
   "cell_type": "code",
   "execution_count": 79,
   "metadata": {},
   "outputs": [],
   "source": [
    "transform_data['BHK_OR_RK'] = labelEncoder.fit_transform(transform_data['BHK_OR_RK'])"
   ]
  },
  {
   "cell_type": "code",
   "execution_count": 80,
   "metadata": {},
   "outputs": [
    {
     "data": {
      "text/plain": [
       "array(['BHK', 'RK'], dtype=object)"
      ]
     },
     "execution_count": 80,
     "metadata": {},
     "output_type": "execute_result"
    }
   ],
   "source": [
    "labelEncoder.classes_"
   ]
  },
  {
   "cell_type": "code",
   "execution_count": 81,
   "metadata": {},
   "outputs": [
    {
     "data": {
      "text/html": [
       "<div>\n",
       "<style scoped>\n",
       "    .dataframe tbody tr th:only-of-type {\n",
       "        vertical-align: middle;\n",
       "    }\n",
       "\n",
       "    .dataframe tbody tr th {\n",
       "        vertical-align: top;\n",
       "    }\n",
       "\n",
       "    .dataframe thead th {\n",
       "        text-align: right;\n",
       "    }\n",
       "</style>\n",
       "<table border=\"1\" class=\"dataframe\">\n",
       "  <thead>\n",
       "    <tr style=\"text-align: right;\">\n",
       "      <th></th>\n",
       "      <th>POSTED_BY</th>\n",
       "      <th>UNDER_CONSTRUCTION</th>\n",
       "      <th>RERA</th>\n",
       "      <th>BHK_NO.</th>\n",
       "      <th>BHK_OR_RK</th>\n",
       "      <th>SQUARE_FT</th>\n",
       "      <th>READY_TO_MOVE</th>\n",
       "      <th>RESALE</th>\n",
       "      <th>SQUARE_YARD</th>\n",
       "      <th>TARGET_AMOUNT</th>\n",
       "    </tr>\n",
       "  </thead>\n",
       "  <tbody>\n",
       "    <tr>\n",
       "      <th>0</th>\n",
       "      <td>2</td>\n",
       "      <td>0</td>\n",
       "      <td>0</td>\n",
       "      <td>2</td>\n",
       "      <td>0</td>\n",
       "      <td>1300.236407</td>\n",
       "      <td>1</td>\n",
       "      <td>1</td>\n",
       "      <td>144.470712</td>\n",
       "      <td>5500000.0</td>\n",
       "    </tr>\n",
       "    <tr>\n",
       "      <th>1</th>\n",
       "      <td>1</td>\n",
       "      <td>0</td>\n",
       "      <td>0</td>\n",
       "      <td>2</td>\n",
       "      <td>0</td>\n",
       "      <td>1275.000000</td>\n",
       "      <td>1</td>\n",
       "      <td>1</td>\n",
       "      <td>141.666667</td>\n",
       "      <td>5100000.0</td>\n",
       "    </tr>\n",
       "    <tr>\n",
       "      <th>2</th>\n",
       "      <td>2</td>\n",
       "      <td>0</td>\n",
       "      <td>0</td>\n",
       "      <td>2</td>\n",
       "      <td>0</td>\n",
       "      <td>933.159722</td>\n",
       "      <td>1</td>\n",
       "      <td>1</td>\n",
       "      <td>103.684414</td>\n",
       "      <td>4300000.0</td>\n",
       "    </tr>\n",
       "    <tr>\n",
       "      <th>3</th>\n",
       "      <td>2</td>\n",
       "      <td>0</td>\n",
       "      <td>1</td>\n",
       "      <td>2</td>\n",
       "      <td>0</td>\n",
       "      <td>929.921143</td>\n",
       "      <td>1</td>\n",
       "      <td>1</td>\n",
       "      <td>103.324571</td>\n",
       "      <td>6250000.0</td>\n",
       "    </tr>\n",
       "    <tr>\n",
       "      <th>4</th>\n",
       "      <td>1</td>\n",
       "      <td>1</td>\n",
       "      <td>0</td>\n",
       "      <td>2</td>\n",
       "      <td>0</td>\n",
       "      <td>999.009247</td>\n",
       "      <td>0</td>\n",
       "      <td>1</td>\n",
       "      <td>111.001027</td>\n",
       "      <td>6050000.0</td>\n",
       "    </tr>\n",
       "    <tr>\n",
       "      <th>...</th>\n",
       "      <td>...</td>\n",
       "      <td>...</td>\n",
       "      <td>...</td>\n",
       "      <td>...</td>\n",
       "      <td>...</td>\n",
       "      <td>...</td>\n",
       "      <td>...</td>\n",
       "      <td>...</td>\n",
       "      <td>...</td>\n",
       "      <td>...</td>\n",
       "    </tr>\n",
       "    <tr>\n",
       "      <th>29446</th>\n",
       "      <td>2</td>\n",
       "      <td>0</td>\n",
       "      <td>0</td>\n",
       "      <td>3</td>\n",
       "      <td>0</td>\n",
       "      <td>2500.000000</td>\n",
       "      <td>1</td>\n",
       "      <td>1</td>\n",
       "      <td>277.777778</td>\n",
       "      <td>4500000.0</td>\n",
       "    </tr>\n",
       "    <tr>\n",
       "      <th>29447</th>\n",
       "      <td>2</td>\n",
       "      <td>0</td>\n",
       "      <td>0</td>\n",
       "      <td>2</td>\n",
       "      <td>0</td>\n",
       "      <td>769.230769</td>\n",
       "      <td>1</td>\n",
       "      <td>1</td>\n",
       "      <td>85.470085</td>\n",
       "      <td>1600000.0</td>\n",
       "    </tr>\n",
       "    <tr>\n",
       "      <th>29448</th>\n",
       "      <td>1</td>\n",
       "      <td>0</td>\n",
       "      <td>0</td>\n",
       "      <td>2</td>\n",
       "      <td>0</td>\n",
       "      <td>1022.641509</td>\n",
       "      <td>1</td>\n",
       "      <td>1</td>\n",
       "      <td>113.626834</td>\n",
       "      <td>2710000.0</td>\n",
       "    </tr>\n",
       "    <tr>\n",
       "      <th>29449</th>\n",
       "      <td>2</td>\n",
       "      <td>0</td>\n",
       "      <td>0</td>\n",
       "      <td>2</td>\n",
       "      <td>0</td>\n",
       "      <td>927.079009</td>\n",
       "      <td>1</td>\n",
       "      <td>1</td>\n",
       "      <td>103.008779</td>\n",
       "      <td>6700000.0</td>\n",
       "    </tr>\n",
       "    <tr>\n",
       "      <th>29450</th>\n",
       "      <td>1</td>\n",
       "      <td>0</td>\n",
       "      <td>1</td>\n",
       "      <td>2</td>\n",
       "      <td>0</td>\n",
       "      <td>896.774194</td>\n",
       "      <td>1</td>\n",
       "      <td>1</td>\n",
       "      <td>99.641577</td>\n",
       "      <td>2780000.0</td>\n",
       "    </tr>\n",
       "  </tbody>\n",
       "</table>\n",
       "<p>29451 rows × 10 columns</p>\n",
       "</div>"
      ],
      "text/plain": [
       "       POSTED_BY  UNDER_CONSTRUCTION  RERA  BHK_NO.  BHK_OR_RK    SQUARE_FT  \\\n",
       "0              2                   0     0        2          0  1300.236407   \n",
       "1              1                   0     0        2          0  1275.000000   \n",
       "2              2                   0     0        2          0   933.159722   \n",
       "3              2                   0     1        2          0   929.921143   \n",
       "4              1                   1     0        2          0   999.009247   \n",
       "...          ...                 ...   ...      ...        ...          ...   \n",
       "29446          2                   0     0        3          0  2500.000000   \n",
       "29447          2                   0     0        2          0   769.230769   \n",
       "29448          1                   0     0        2          0  1022.641509   \n",
       "29449          2                   0     0        2          0   927.079009   \n",
       "29450          1                   0     1        2          0   896.774194   \n",
       "\n",
       "       READY_TO_MOVE  RESALE  SQUARE_YARD  TARGET_AMOUNT  \n",
       "0                  1       1   144.470712      5500000.0  \n",
       "1                  1       1   141.666667      5100000.0  \n",
       "2                  1       1   103.684414      4300000.0  \n",
       "3                  1       1   103.324571      6250000.0  \n",
       "4                  0       1   111.001027      6050000.0  \n",
       "...              ...     ...          ...            ...  \n",
       "29446              1       1   277.777778      4500000.0  \n",
       "29447              1       1    85.470085      1600000.0  \n",
       "29448              1       1   113.626834      2710000.0  \n",
       "29449              1       1   103.008779      6700000.0  \n",
       "29450              1       1    99.641577      2780000.0  \n",
       "\n",
       "[29451 rows x 10 columns]"
      ]
     },
     "execution_count": 81,
     "metadata": {},
     "output_type": "execute_result"
    }
   ],
   "source": [
    "transform_data"
   ]
  },
  {
   "cell_type": "code",
   "execution_count": 82,
   "metadata": {},
   "outputs": [],
   "source": [
    "x = transform_data.iloc[:,:-1]\n",
    "y = transform_data.iloc[:,-1]"
   ]
  },
  {
   "cell_type": "code",
   "execution_count": 83,
   "metadata": {},
   "outputs": [
    {
     "data": {
      "text/html": [
       "<div>\n",
       "<style scoped>\n",
       "    .dataframe tbody tr th:only-of-type {\n",
       "        vertical-align: middle;\n",
       "    }\n",
       "\n",
       "    .dataframe tbody tr th {\n",
       "        vertical-align: top;\n",
       "    }\n",
       "\n",
       "    .dataframe thead th {\n",
       "        text-align: right;\n",
       "    }\n",
       "</style>\n",
       "<table border=\"1\" class=\"dataframe\">\n",
       "  <thead>\n",
       "    <tr style=\"text-align: right;\">\n",
       "      <th></th>\n",
       "      <th>POSTED_BY</th>\n",
       "      <th>UNDER_CONSTRUCTION</th>\n",
       "      <th>RERA</th>\n",
       "      <th>BHK_NO.</th>\n",
       "      <th>BHK_OR_RK</th>\n",
       "      <th>SQUARE_FT</th>\n",
       "      <th>READY_TO_MOVE</th>\n",
       "      <th>RESALE</th>\n",
       "      <th>SQUARE_YARD</th>\n",
       "    </tr>\n",
       "  </thead>\n",
       "  <tbody>\n",
       "    <tr>\n",
       "      <th>0</th>\n",
       "      <td>2</td>\n",
       "      <td>0</td>\n",
       "      <td>0</td>\n",
       "      <td>2</td>\n",
       "      <td>0</td>\n",
       "      <td>1300.236407</td>\n",
       "      <td>1</td>\n",
       "      <td>1</td>\n",
       "      <td>144.470712</td>\n",
       "    </tr>\n",
       "    <tr>\n",
       "      <th>1</th>\n",
       "      <td>1</td>\n",
       "      <td>0</td>\n",
       "      <td>0</td>\n",
       "      <td>2</td>\n",
       "      <td>0</td>\n",
       "      <td>1275.000000</td>\n",
       "      <td>1</td>\n",
       "      <td>1</td>\n",
       "      <td>141.666667</td>\n",
       "    </tr>\n",
       "    <tr>\n",
       "      <th>2</th>\n",
       "      <td>2</td>\n",
       "      <td>0</td>\n",
       "      <td>0</td>\n",
       "      <td>2</td>\n",
       "      <td>0</td>\n",
       "      <td>933.159722</td>\n",
       "      <td>1</td>\n",
       "      <td>1</td>\n",
       "      <td>103.684414</td>\n",
       "    </tr>\n",
       "    <tr>\n",
       "      <th>3</th>\n",
       "      <td>2</td>\n",
       "      <td>0</td>\n",
       "      <td>1</td>\n",
       "      <td>2</td>\n",
       "      <td>0</td>\n",
       "      <td>929.921143</td>\n",
       "      <td>1</td>\n",
       "      <td>1</td>\n",
       "      <td>103.324571</td>\n",
       "    </tr>\n",
       "    <tr>\n",
       "      <th>4</th>\n",
       "      <td>1</td>\n",
       "      <td>1</td>\n",
       "      <td>0</td>\n",
       "      <td>2</td>\n",
       "      <td>0</td>\n",
       "      <td>999.009247</td>\n",
       "      <td>0</td>\n",
       "      <td>1</td>\n",
       "      <td>111.001027</td>\n",
       "    </tr>\n",
       "    <tr>\n",
       "      <th>...</th>\n",
       "      <td>...</td>\n",
       "      <td>...</td>\n",
       "      <td>...</td>\n",
       "      <td>...</td>\n",
       "      <td>...</td>\n",
       "      <td>...</td>\n",
       "      <td>...</td>\n",
       "      <td>...</td>\n",
       "      <td>...</td>\n",
       "    </tr>\n",
       "    <tr>\n",
       "      <th>29446</th>\n",
       "      <td>2</td>\n",
       "      <td>0</td>\n",
       "      <td>0</td>\n",
       "      <td>3</td>\n",
       "      <td>0</td>\n",
       "      <td>2500.000000</td>\n",
       "      <td>1</td>\n",
       "      <td>1</td>\n",
       "      <td>277.777778</td>\n",
       "    </tr>\n",
       "    <tr>\n",
       "      <th>29447</th>\n",
       "      <td>2</td>\n",
       "      <td>0</td>\n",
       "      <td>0</td>\n",
       "      <td>2</td>\n",
       "      <td>0</td>\n",
       "      <td>769.230769</td>\n",
       "      <td>1</td>\n",
       "      <td>1</td>\n",
       "      <td>85.470085</td>\n",
       "    </tr>\n",
       "    <tr>\n",
       "      <th>29448</th>\n",
       "      <td>1</td>\n",
       "      <td>0</td>\n",
       "      <td>0</td>\n",
       "      <td>2</td>\n",
       "      <td>0</td>\n",
       "      <td>1022.641509</td>\n",
       "      <td>1</td>\n",
       "      <td>1</td>\n",
       "      <td>113.626834</td>\n",
       "    </tr>\n",
       "    <tr>\n",
       "      <th>29449</th>\n",
       "      <td>2</td>\n",
       "      <td>0</td>\n",
       "      <td>0</td>\n",
       "      <td>2</td>\n",
       "      <td>0</td>\n",
       "      <td>927.079009</td>\n",
       "      <td>1</td>\n",
       "      <td>1</td>\n",
       "      <td>103.008779</td>\n",
       "    </tr>\n",
       "    <tr>\n",
       "      <th>29450</th>\n",
       "      <td>1</td>\n",
       "      <td>0</td>\n",
       "      <td>1</td>\n",
       "      <td>2</td>\n",
       "      <td>0</td>\n",
       "      <td>896.774194</td>\n",
       "      <td>1</td>\n",
       "      <td>1</td>\n",
       "      <td>99.641577</td>\n",
       "    </tr>\n",
       "  </tbody>\n",
       "</table>\n",
       "<p>29451 rows × 9 columns</p>\n",
       "</div>"
      ],
      "text/plain": [
       "       POSTED_BY  UNDER_CONSTRUCTION  RERA  BHK_NO.  BHK_OR_RK    SQUARE_FT  \\\n",
       "0              2                   0     0        2          0  1300.236407   \n",
       "1              1                   0     0        2          0  1275.000000   \n",
       "2              2                   0     0        2          0   933.159722   \n",
       "3              2                   0     1        2          0   929.921143   \n",
       "4              1                   1     0        2          0   999.009247   \n",
       "...          ...                 ...   ...      ...        ...          ...   \n",
       "29446          2                   0     0        3          0  2500.000000   \n",
       "29447          2                   0     0        2          0   769.230769   \n",
       "29448          1                   0     0        2          0  1022.641509   \n",
       "29449          2                   0     0        2          0   927.079009   \n",
       "29450          1                   0     1        2          0   896.774194   \n",
       "\n",
       "       READY_TO_MOVE  RESALE  SQUARE_YARD  \n",
       "0                  1       1   144.470712  \n",
       "1                  1       1   141.666667  \n",
       "2                  1       1   103.684414  \n",
       "3                  1       1   103.324571  \n",
       "4                  0       1   111.001027  \n",
       "...              ...     ...          ...  \n",
       "29446              1       1   277.777778  \n",
       "29447              1       1    85.470085  \n",
       "29448              1       1   113.626834  \n",
       "29449              1       1   103.008779  \n",
       "29450              1       1    99.641577  \n",
       "\n",
       "[29451 rows x 9 columns]"
      ]
     },
     "execution_count": 83,
     "metadata": {},
     "output_type": "execute_result"
    }
   ],
   "source": [
    "x"
   ]
  },
  {
   "cell_type": "code",
   "execution_count": 84,
   "metadata": {},
   "outputs": [
    {
     "data": {
      "text/plain": [
       "0        5500000.0\n",
       "1        5100000.0\n",
       "2        4300000.0\n",
       "3        6250000.0\n",
       "4        6050000.0\n",
       "           ...    \n",
       "29446    4500000.0\n",
       "29447    1600000.0\n",
       "29448    2710000.0\n",
       "29449    6700000.0\n",
       "29450    2780000.0\n",
       "Name: TARGET_AMOUNT, Length: 29451, dtype: float64"
      ]
     },
     "execution_count": 84,
     "metadata": {},
     "output_type": "execute_result"
    }
   ],
   "source": [
    "y"
   ]
  },
  {
   "cell_type": "code",
   "execution_count": 85,
   "metadata": {},
   "outputs": [
    {
     "data": {
      "text/plain": [
       "array([[  0.        ,   0.        ,   1.        , ...,   1.        ,\n",
       "          1.        , 144.47071189],\n",
       "       [  0.        ,   1.        ,   0.        , ...,   1.        ,\n",
       "          1.        , 141.66666667],\n",
       "       [  0.        ,   0.        ,   1.        , ...,   1.        ,\n",
       "          1.        , 103.68441358],\n",
       "       ...,\n",
       "       [  0.        ,   1.        ,   0.        , ...,   1.        ,\n",
       "          1.        , 113.62683433],\n",
       "       [  0.        ,   0.        ,   1.        , ...,   1.        ,\n",
       "          1.        , 103.00877881],\n",
       "       [  0.        ,   1.        ,   0.        , ...,   1.        ,\n",
       "          1.        ,  99.64157706]])"
      ]
     },
     "execution_count": 85,
     "metadata": {},
     "output_type": "execute_result"
    }
   ],
   "source": [
    "from sklearn.compose import ColumnTransformer\n",
    "from sklearn.preprocessing import OneHotEncoder\n",
    "\n",
    "\n",
    "ct = ColumnTransformer([(\"POSTED_BY\",OneHotEncoder(),[0]),(\"BHK_OR_RK\",OneHotEncoder(),[4])],remainder='passthrough')\n",
    "x = ct.fit_transform(x)\n",
    "x"
   ]
  },
  {
   "cell_type": "markdown",
   "metadata": {},
   "source": [
    "## Scaling"
   ]
  },
  {
   "cell_type": "code",
   "execution_count": 86,
   "metadata": {},
   "outputs": [],
   "source": [
    "#from sklearn.preprocessing import StandardScaler"
   ]
  },
  {
   "cell_type": "code",
   "execution_count": 87,
   "metadata": {},
   "outputs": [],
   "source": [
    "#transform_data_x = transform_data.iloc[:,:-1]\n",
    "#transform_data_y = [transform_data.iloc[:,-1]]"
   ]
  },
  {
   "cell_type": "code",
   "execution_count": 88,
   "metadata": {},
   "outputs": [],
   "source": [
    "#scalarX = StandardScaler().fit(transform_data_x)\n",
    "#scalarY = StandardScaler().fit(transform_data_y)"
   ]
  },
  {
   "cell_type": "code",
   "execution_count": 89,
   "metadata": {},
   "outputs": [],
   "source": [
    "#transform_data_x = scalarX.transform(transform_data_x)\n",
    "#transform_data_y = scalarY.transform(transform_data_y)"
   ]
  },
  {
   "cell_type": "code",
   "execution_count": 90,
   "metadata": {},
   "outputs": [],
   "source": [
    "#len(transform_data_x)"
   ]
  },
  {
   "cell_type": "code",
   "execution_count": 91,
   "metadata": {},
   "outputs": [],
   "source": [
    "#len(transform_data_y[0])"
   ]
  },
  {
   "cell_type": "markdown",
   "metadata": {},
   "source": [
    "## Splitting"
   ]
  },
  {
   "cell_type": "code",
   "execution_count": 92,
   "metadata": {},
   "outputs": [],
   "source": [
    "from sklearn.model_selection import train_test_split"
   ]
  },
  {
   "cell_type": "code",
   "execution_count": 93,
   "metadata": {},
   "outputs": [],
   "source": [
    "#Scaling data\n",
    "#x_train,x_test,y_train,y_test = train_test_split(transform_data_x,transform_data_y[0],test_size=0.25)"
   ]
  },
  {
   "cell_type": "markdown",
   "metadata": {},
   "source": [
    "- Non scaled split data\n",
    "- Avoiding the dummy variable trap"
   ]
  },
  {
   "cell_type": "code",
   "execution_count": 94,
   "metadata": {},
   "outputs": [],
   "source": [
    "x = x[:,1:]"
   ]
  },
  {
   "cell_type": "code",
   "execution_count": 95,
   "metadata": {},
   "outputs": [],
   "source": [
    "xtrain,xtest,ytrain,ytest = train_test_split(x,y,test_size=0.3)"
   ]
  },
  {
   "cell_type": "markdown",
   "metadata": {},
   "source": [
    "## Regression"
   ]
  },
  {
   "cell_type": "code",
   "execution_count": 96,
   "metadata": {},
   "outputs": [],
   "source": [
    "from sklearn.linear_model import LinearRegression"
   ]
  },
  {
   "cell_type": "code",
   "execution_count": 97,
   "metadata": {},
   "outputs": [
    {
     "data": {
      "text/plain": [
       "LinearRegression()"
      ]
     },
     "execution_count": 97,
     "metadata": {},
     "output_type": "execute_result"
    }
   ],
   "source": [
    "regressor = LinearRegression()\n",
    "regressor.fit(xtrain,ytrain)"
   ]
  },
  {
   "cell_type": "code",
   "execution_count": 98,
   "metadata": {},
   "outputs": [
    {
     "data": {
      "text/plain": [
       "array([ 1780992.72105461, 26116442.0182635 ,  2953721.29504952, ...,\n",
       "       -5158764.7763778 ,  7978651.91277022, 15426116.6073771 ])"
      ]
     },
     "execution_count": 98,
     "metadata": {},
     "output_type": "execute_result"
    }
   ],
   "source": [
    "regressor.predict(xtest)"
   ]
  },
  {
   "cell_type": "code",
   "execution_count": 99,
   "metadata": {},
   "outputs": [
    {
     "name": "stdout",
     "output_type": "stream",
     "text": [
      "Mean Squared Error:  2826327127241508.5\n",
      "Root Mean Squared Error:  53163212.160680324\n"
     ]
    }
   ],
   "source": [
    "from sklearn.metrics import mean_squared_error\n",
    "\n",
    "mse = mean_squared_error(ytest,regressor.predict(xtest))\n",
    "print('Mean Squared Error: ',mse)\n",
    "rmse = np.sqrt(mse)\n",
    "print('Root Mean Squared Error: ',rmse)"
   ]
  },
  {
   "cell_type": "code",
   "execution_count": 100,
   "metadata": {},
   "outputs": [
    {
     "data": {
      "text/plain": [
       "0.0"
      ]
     },
     "execution_count": 100,
     "metadata": {},
     "output_type": "execute_result"
    }
   ],
   "source": [
    "rmse.std()"
   ]
  },
  {
   "cell_type": "code",
   "execution_count": 101,
   "metadata": {},
   "outputs": [
    {
     "data": {
      "text/plain": [
       "GridSearchCV(cv=5, estimator=LinearRegression(),\n",
       "             param_grid=[{'normalize': [False, True]}, {'n_jobs': [-1]}],\n",
       "             return_train_score=True, scoring='neg_mean_squared_error')"
      ]
     },
     "execution_count": 101,
     "metadata": {},
     "output_type": "execute_result"
    }
   ],
   "source": [
    "from sklearn.model_selection import GridSearchCV\n",
    "\n",
    "linParam = [\n",
    "    {'normalize':[False,True]},\n",
    "    {'n_jobs':[-1]}\n",
    "]\n",
    "\n",
    "gridSearch = GridSearchCV(LinearRegression(),linParam,cv=5,scoring='neg_mean_squared_error',return_train_score=True)\n",
    "gridSearch.fit(xtrain,xtrain)"
   ]
  },
  {
   "cell_type": "code",
   "execution_count": 102,
   "metadata": {},
   "outputs": [
    {
     "data": {
      "text/plain": [
       "{'mean_fit_time': array([0.02410593, 0.01291924, 0.01257505]),\n",
       " 'std_fit_time': array([0.00770422, 0.00025428, 0.00139797]),\n",
       " 'mean_score_time': array([0.00377617, 0.00121422, 0.0019599 ]),\n",
       " 'std_score_time': array([2.79914962e-03, 5.57185801e-06, 1.08871398e-03]),\n",
       " 'param_normalize': masked_array(data=[False, True, --],\n",
       "              mask=[False, False,  True],\n",
       "        fill_value='?',\n",
       "             dtype=object),\n",
       " 'param_n_jobs': masked_array(data=[--, --, -1],\n",
       "              mask=[ True,  True, False],\n",
       "        fill_value='?',\n",
       "             dtype=object),\n",
       " 'params': [{'normalize': False}, {'normalize': True}, {'n_jobs': -1}],\n",
       " 'split0_test_score': array([-3.96984489e-19, -3.47510694e-19, -3.96984489e-19]),\n",
       " 'split1_test_score': array([-1.83680518e-22, -3.54989371e-20, -1.83680518e-22]),\n",
       " 'split2_test_score': array([-4.98599794e-20, -1.18992306e-19, -4.98599794e-20]),\n",
       " 'split3_test_score': array([-1.35208871e-19, -4.47258895e-17, -1.35208871e-19]),\n",
       " 'split4_test_score': array([-1.71275578e-19, -2.03681088e-20, -1.71275578e-19]),\n",
       " 'mean_test_score': array([-1.50702520e-19, -9.04965192e-18, -1.50702520e-19]),\n",
       " 'std_test_score': array([1.37217529e-19, 1.78385021e-17, 1.37217529e-19]),\n",
       " 'rank_test_score': array([1, 3, 1], dtype=int32),\n",
       " 'split0_train_score': array([-4.86999631e-20, -6.39652186e-20, -4.86999631e-20]),\n",
       " 'split1_train_score': array([-5.45718165e-20, -1.35263906e-18, -5.45718165e-20]),\n",
       " 'split2_train_score': array([-7.58878483e-20, -8.01413971e-20, -7.58878483e-20]),\n",
       " 'split3_train_score': array([-1.44454595e-18, -3.11234370e-17, -1.44454595e-18]),\n",
       " 'split4_train_score': array([-1.68832982e-19, -8.88179828e-20, -1.68832982e-19]),\n",
       " 'mean_train_score': array([-3.58507711e-19, -6.54180013e-18, -3.58507711e-19]),\n",
       " 'std_train_score': array([5.44736158e-19, 1.23007367e-17, 5.44736158e-19])}"
      ]
     },
     "execution_count": 102,
     "metadata": {},
     "output_type": "execute_result"
    }
   ],
   "source": [
    "gridSearch.cv_results_"
   ]
  },
  {
   "cell_type": "code",
   "execution_count": 103,
   "metadata": {},
   "outputs": [
    {
     "data": {
      "text/plain": [
       "-1.5070251952962076e-19"
      ]
     },
     "execution_count": 103,
     "metadata": {},
     "output_type": "execute_result"
    }
   ],
   "source": [
    "gridSearch.best_score_"
   ]
  },
  {
   "cell_type": "code",
   "execution_count": 104,
   "metadata": {},
   "outputs": [
    {
     "data": {
      "text/plain": [
       "{'normalize': False}"
      ]
     },
     "execution_count": 104,
     "metadata": {},
     "output_type": "execute_result"
    }
   ],
   "source": [
    "gridSearch.best_params_"
   ]
  },
  {
   "cell_type": "code",
   "execution_count": 105,
   "metadata": {},
   "outputs": [
    {
     "data": {
      "text/plain": [
       "LinearRegression(n_jobs=-1, normalize=True)"
      ]
     },
     "execution_count": 105,
     "metadata": {},
     "output_type": "execute_result"
    }
   ],
   "source": [
    "regressor = LinearRegression(n_jobs=-1,normalize=True)\n",
    "regressor.fit(xtrain,ytrain)"
   ]
  },
  {
   "cell_type": "code",
   "execution_count": 106,
   "metadata": {},
   "outputs": [
    {
     "name": "stdout",
     "output_type": "stream",
     "text": [
      "Mean Squared Error:  2829473975514721.5\n",
      "Root Mean Squared Error:  53192800.03454153\n"
     ]
    }
   ],
   "source": [
    "from sklearn.metrics import mean_squared_error\n",
    "\n",
    "mse = mean_squared_error(ytest,regressor.predict(xtest))\n",
    "print('Mean Squared Error: ',mse)\n",
    "rmse = np.sqrt(mse)\n",
    "print('Root Mean Squared Error: ',rmse)"
   ]
  },
  {
   "cell_type": "code",
   "execution_count": 108,
   "metadata": {},
   "outputs": [
    {
     "data": {
      "text/plain": [
       "\"import joblib \\n\\njoblib.dump(regressor,'linearregression.pkl')\""
      ]
     },
     "execution_count": 108,
     "metadata": {},
     "output_type": "execute_result"
    }
   ],
   "source": [
    "'''import joblib \n",
    "\n",
    "joblib.dump(regressor,'linearregression.pkl')'''"
   ]
  },
  {
   "cell_type": "markdown",
   "metadata": {},
   "source": [
    "## Decision Tree Regression"
   ]
  },
  {
   "cell_type": "markdown",
   "metadata": {},
   "source": [
    "## Random Forest Regression"
   ]
  },
  {
   "cell_type": "markdown",
   "metadata": {},
   "source": [
    "## XGBoost"
   ]
  },
  {
   "cell_type": "markdown",
   "metadata": {},
   "source": [
    "## Logistic Regression"
   ]
  },
  {
   "cell_type": "markdown",
   "metadata": {},
   "source": [
    "## Support Vector Regression"
   ]
  },
  {
   "cell_type": "markdown",
   "metadata": {},
   "source": [
    "## Polynomial Regression"
   ]
  },
  {
   "cell_type": "code",
   "execution_count": 109,
   "metadata": {},
   "outputs": [
    {
     "data": {
      "text/html": [
       "<div>\n",
       "<style scoped>\n",
       "    .dataframe tbody tr th:only-of-type {\n",
       "        vertical-align: middle;\n",
       "    }\n",
       "\n",
       "    .dataframe tbody tr th {\n",
       "        vertical-align: top;\n",
       "    }\n",
       "\n",
       "    .dataframe thead th {\n",
       "        text-align: right;\n",
       "    }\n",
       "</style>\n",
       "<table border=\"1\" class=\"dataframe\">\n",
       "  <thead>\n",
       "    <tr style=\"text-align: right;\">\n",
       "      <th></th>\n",
       "      <th>POSTED_BY</th>\n",
       "      <th>UNDER_CONSTRUCTION</th>\n",
       "      <th>RERA</th>\n",
       "      <th>BHK_NO.</th>\n",
       "      <th>BHK_OR_RK</th>\n",
       "      <th>SQUARE_FT</th>\n",
       "      <th>READY_TO_MOVE</th>\n",
       "      <th>RESALE</th>\n",
       "      <th>SQUARE_YARD</th>\n",
       "      <th>TARGET_AMOUNT</th>\n",
       "    </tr>\n",
       "  </thead>\n",
       "  <tbody>\n",
       "    <tr>\n",
       "      <th>0</th>\n",
       "      <td>2</td>\n",
       "      <td>0</td>\n",
       "      <td>0</td>\n",
       "      <td>2</td>\n",
       "      <td>0</td>\n",
       "      <td>1300.236407</td>\n",
       "      <td>1</td>\n",
       "      <td>1</td>\n",
       "      <td>144.470712</td>\n",
       "      <td>5500000.0</td>\n",
       "    </tr>\n",
       "    <tr>\n",
       "      <th>1</th>\n",
       "      <td>1</td>\n",
       "      <td>0</td>\n",
       "      <td>0</td>\n",
       "      <td>2</td>\n",
       "      <td>0</td>\n",
       "      <td>1275.000000</td>\n",
       "      <td>1</td>\n",
       "      <td>1</td>\n",
       "      <td>141.666667</td>\n",
       "      <td>5100000.0</td>\n",
       "    </tr>\n",
       "    <tr>\n",
       "      <th>2</th>\n",
       "      <td>2</td>\n",
       "      <td>0</td>\n",
       "      <td>0</td>\n",
       "      <td>2</td>\n",
       "      <td>0</td>\n",
       "      <td>933.159722</td>\n",
       "      <td>1</td>\n",
       "      <td>1</td>\n",
       "      <td>103.684414</td>\n",
       "      <td>4300000.0</td>\n",
       "    </tr>\n",
       "    <tr>\n",
       "      <th>3</th>\n",
       "      <td>2</td>\n",
       "      <td>0</td>\n",
       "      <td>1</td>\n",
       "      <td>2</td>\n",
       "      <td>0</td>\n",
       "      <td>929.921143</td>\n",
       "      <td>1</td>\n",
       "      <td>1</td>\n",
       "      <td>103.324571</td>\n",
       "      <td>6250000.0</td>\n",
       "    </tr>\n",
       "    <tr>\n",
       "      <th>4</th>\n",
       "      <td>1</td>\n",
       "      <td>1</td>\n",
       "      <td>0</td>\n",
       "      <td>2</td>\n",
       "      <td>0</td>\n",
       "      <td>999.009247</td>\n",
       "      <td>0</td>\n",
       "      <td>1</td>\n",
       "      <td>111.001027</td>\n",
       "      <td>6050000.0</td>\n",
       "    </tr>\n",
       "  </tbody>\n",
       "</table>\n",
       "</div>"
      ],
      "text/plain": [
       "   POSTED_BY  UNDER_CONSTRUCTION  RERA  BHK_NO.  BHK_OR_RK    SQUARE_FT  \\\n",
       "0          2                   0     0        2          0  1300.236407   \n",
       "1          1                   0     0        2          0  1275.000000   \n",
       "2          2                   0     0        2          0   933.159722   \n",
       "3          2                   0     1        2          0   929.921143   \n",
       "4          1                   1     0        2          0   999.009247   \n",
       "\n",
       "   READY_TO_MOVE  RESALE  SQUARE_YARD  TARGET_AMOUNT  \n",
       "0              1       1   144.470712      5500000.0  \n",
       "1              1       1   141.666667      5100000.0  \n",
       "2              1       1   103.684414      4300000.0  \n",
       "3              1       1   103.324571      6250000.0  \n",
       "4              0       1   111.001027      6050000.0  "
      ]
     },
     "execution_count": 109,
     "metadata": {},
     "output_type": "execute_result"
    }
   ],
   "source": [
    "transform_data.head()"
   ]
  },
  {
   "cell_type": "code",
   "execution_count": 110,
   "metadata": {},
   "outputs": [],
   "source": [
    "x = transform_data.iloc[:,:-1]\n",
    "y = transform_data.iloc[:,-1]\n",
    "\n",
    "x_train,x_test,y_train,y_test = train_test_split(x,y,test_size=0.3)"
   ]
  },
  {
   "cell_type": "code",
   "execution_count": 111,
   "metadata": {},
   "outputs": [],
   "source": [
    "from sklearn.preprocessing import PolynomialFeatures\n",
    "from sklearn.pipeline import make_pipeline\n",
    "from sklearn.linear_model import LinearRegression"
   ]
  },
  {
   "cell_type": "code",
   "execution_count": 112,
   "metadata": {},
   "outputs": [
    {
     "data": {
      "text/plain": [
       "Pipeline(steps=[('polynomialfeatures', PolynomialFeatures()),\n",
       "                ('linearregression', LinearRegression())])"
      ]
     },
     "execution_count": 112,
     "metadata": {},
     "output_type": "execute_result"
    }
   ],
   "source": [
    "degree=2\n",
    "ployReg = make_pipeline(PolynomialFeatures(degree),LinearRegression())\n",
    "ployReg.fit(x_train,y_train)"
   ]
  },
  {
   "cell_type": "code",
   "execution_count": 113,
   "metadata": {},
   "outputs": [
    {
     "data": {
      "text/plain": [
       "[<matplotlib.lines.Line2D at 0x7fe49b900760>]"
      ]
     },
     "execution_count": 113,
     "metadata": {},
     "output_type": "execute_result"
    },
    {
     "data": {
      "image/png": "[encoded data removed]",
      "text/plain": [
       "<Figure size 432x288 with 1 Axes>"
      ]
     },
     "metadata": {},
     "output_type": "display_data"
    }
   ],
   "source": [
    "plt.plot(y_test,ployReg.predict(x_test),color=\"black\")"
   ]
  },
  {
   "cell_type": "code",
   "execution_count": 114,
   "metadata": {},
   "outputs": [],
   "source": [
    "y_pred = ployReg.predict(x_test)\n"
   ]
  },
  {
   "cell_type": "code",
   "execution_count": 115,
   "metadata": {},
   "outputs": [
    {
     "name": "stdout",
     "output_type": "stream",
     "text": [
      "Mean Squared Error:  2.7231036528281035e+19\n",
      "Root Mean Squared Error:  5218336567.171673\n",
      "Mean Absolute Squared Error 71604046.34125999\n"
     ]
    }
   ],
   "source": [
    "from sklearn.metrics import mean_squared_error,mean_absolute_error\n",
    "\n",
    "mse = mean_squared_error(ytest,y_pred)\n",
    "print('Mean Squared Error: ',mse)\n",
    "rmse = np.sqrt(mse)\n",
    "print('Root Mean Squared Error: ',rmse)\n",
    "print('Mean Absolute Squared Error',mean_absolute_error(ytest,y_pred))"
   ]
  },
  {
   "cell_type": "code",
   "execution_count": 116,
   "metadata": {},
   "outputs": [
    {
     "name": "stdout",
     "output_type": "stream",
     "text": [
      "1: {'mse': 3844747343308521.0, 'rmse': 62006026.66925628, 'MAE': 14052413.401038121}\n",
      "2: {'mse': 2.111568606270828e+19, 'rmse': 4595180743.203501, 'MAE': 61366690.930812694}\n",
      "3: {'mse': 2.7366766726584496e+25, 'rmse': 5231325522903.779, 'MAE': 55663597712.904816}\n",
      "4: {'mse': 8.458313153311803e+25, 'rmse': 9196908803131.52, 'MAE': 97853291604.77689}\n",
      "5: {'mse': 2.7583645469823386e+25, 'rmse': 5252013468168.507, 'MAE': 55886214710.92981}\n",
      "6: {'mse': 8.166129348454489e+27, 'rmse': 90366638470480.3, 'MAE': 961361002593.9008}\n"
     ]
    }
   ],
   "source": [
    "results = {}\n",
    "for i in range(1,7):\n",
    "    polyReg = make_pipeline(PolynomialFeatures(degree=i,include_bias=False),LinearRegression(n_jobs=-1))\n",
    "    polyReg.fit(x_train,y_train)\n",
    "    y_pred = polyReg.predict(x_test)\n",
    "    result = {\n",
    "        'mse':mean_squared_error(y_test,y_pred),\n",
    "        'rmse':np.sqrt(mean_squared_error(y_test,y_pred)),\n",
    "        'MAE':mean_absolute_error(y_test,y_pred)\n",
    "    }\n",
    "    results[i] = result\n",
    "    print(str(i)+\":\",result)"
   ]
  },
  {
   "cell_type": "code",
   "execution_count": 117,
   "metadata": {},
   "outputs": [
    {
     "name": "stdout",
     "output_type": "stream",
     "text": [
      "1: {'mse': 3844747343499110.0, 'rmse': 62006026.67079314, 'MAE': 14052413.401079904}\n",
      "2: {'mse': 2.7536827333705294e+19, 'rmse': 5247554414.554011, 'MAE': 64817012.969375946}\n",
      "3: {'mse': 1.7007666033275778e+25, 'rmse': 4124035163923.2876, 'MAE': 43883892835.52126}\n",
      "4: {'mse': 4.99524505557523e+27, 'rmse': 70677047586718.2, 'MAE': 751897393942.4518}\n",
      "5: {'mse': 6.133268780177351e+25, 'rmse': 7831518869400.335, 'MAE': 83327830850.68988}\n"
     ]
    }
   ],
   "source": [
    "results = {}\n",
    "for i in range(1,6):\n",
    "    polyReg = make_pipeline(PolynomialFeatures(degree=i,include_bias=True),LinearRegression(n_jobs=-1))\n",
    "    polyReg.fit(x_train,y_train)\n",
    "    y_pred = polyReg.predict(x_test)\n",
    "    result = {\n",
    "        'mse':mean_squared_error(y_test,y_pred),\n",
    "        'rmse':np.sqrt(mean_squared_error(y_test,y_pred)),\n",
    "        'MAE':mean_absolute_error(y_test,y_pred)\n",
    "    }\n",
    "    results[i] = result\n",
    "    print(str(i)+\":\",result)"
   ]
  },
  {
   "cell_type": "code",
   "execution_count": 118,
   "metadata": {},
   "outputs": [
    {
     "data": {
      "text/plain": [
       "\"from sklearn.model_selection import GridSearchCV\\n\\npolyNomial_param_grid = [\\n    {'degree':[2,3,4]},\\n    {'include_bias':[True,False]}\\n]\\n\\n#ployFeatures = PolynomialFeatures()\\n#linReg = LinearRegression()\\npolyReg = make_pipeline(PolynomialFeatures(),LinearRegression(n_jobs=-1))\\ngridSearch = GridSearchCV(polyReg,polyNomial_param_grid,cv=5,scoring='neg_mean_squared_error',return_train_score=True)\\ngridSearch.fit(x_train,y_train)\""
      ]
     },
     "execution_count": 118,
     "metadata": {},
     "output_type": "execute_result"
    }
   ],
   "source": [
    "'''from sklearn.model_selection import GridSearchCV\n",
    "\n",
    "polyNomial_param_grid = [\n",
    "    {'degree':[2,3,4]},\n",
    "    {'include_bias':[True,False]}\n",
    "]\n",
    "\n",
    "#ployFeatures = PolynomialFeatures()\n",
    "#linReg = LinearRegression()\n",
    "polyReg = make_pipeline(PolynomialFeatures(),LinearRegression(n_jobs=-1))\n",
    "gridSearch = GridSearchCV(polyReg,polyNomial_param_grid,cv=5,scoring='neg_mean_squared_error',return_train_score=True)\n",
    "gridSearch.fit(x_train,y_train)'''"
   ]
  },
  {
   "cell_type": "code",
   "execution_count": 119,
   "metadata": {},
   "outputs": [
    {
     "data": {
      "text/plain": [
       "\"from sklearn.model_selection import cross_val_score\\n\\n\\ndegrees = [2,3,4,5,6]\\nnormalizes = [True,False]\\nbiases = [True, False]\\nbest_score = 0\\nbest_degree = 0\\nbest_normalize = 0\\nis_incude_bias = 0\\nfor degree in degrees:\\n    for normalize in normalizes:\\n        for bias in biases:\\n            poly_features = PolynomialFeatures(degree=degree,include_bias=bias)\\n            x_train_poly = poly_features.fit_transform(x_train)\\n            poly_reg = LinearRegression(normalize=normalize,n_jobs=-1)\\n            scores = cross_val_score(poly_reg,x_train_poly,y_train,cv=5)\\n            if max(scores) > best_score:\\n                best_score = max(scores)\\n                best_degree = degree\\n                best_normalize = normalize\\n                is_incude_bias = bias\\n\\n            \\nprint('Best Score: ',best_score)\\nprint('Best Degree: ',best_degree)\\nprint('Best normalise: ',best_normalize)\\nprint('is Bias Needed: ',is_incude_bias)\""
      ]
     },
     "execution_count": 119,
     "metadata": {},
     "output_type": "execute_result"
    }
   ],
   "source": [
    "'''from sklearn.model_selection import cross_val_score\n",
    "\n",
    "\n",
    "degrees = [2,3,4,5,6]\n",
    "normalizes = [True,False]\n",
    "biases = [True, False]\n",
    "best_score = 0\n",
    "best_degree = 0\n",
    "best_normalize = 0\n",
    "is_incude_bias = 0\n",
    "for degree in degrees:\n",
    "    for normalize in normalizes:\n",
    "        for bias in biases:\n",
    "            poly_features = PolynomialFeatures(degree=degree,include_bias=bias)\n",
    "            x_train_poly = poly_features.fit_transform(x_train)\n",
    "            poly_reg = LinearRegression(normalize=normalize,n_jobs=-1)\n",
    "            scores = cross_val_score(poly_reg,x_train_poly,y_train,cv=5)\n",
    "            if max(scores) > best_score:\n",
    "                best_score = max(scores)\n",
    "                best_degree = degree\n",
    "                best_normalize = normalize\n",
    "                is_incude_bias = bias\n",
    "\n",
    "            \n",
    "print('Best Score: ',best_score)\n",
    "print('Best Degree: ',best_degree)\n",
    "print('Best normalise: ',best_normalize)\n",
    "print('is Bias Needed: ',is_incude_bias)'''"
   ]
  },
  {
   "cell_type": "markdown",
   "metadata": {},
   "source": [
    "## END-To-END Model with Polynomial features"
   ]
  },
  {
   "cell_type": "markdown",
   "metadata": {},
   "source": [
    "- Imports"
   ]
  },
  {
   "cell_type": "code",
   "execution_count": 120,
   "metadata": {},
   "outputs": [],
   "source": [
    "from sklearn.preprocessing import PolynomialFeatures\n",
    "from sklearn.pipeline import make_pipeline\n",
    "from sklearn.linear_model import LinearRegression"
   ]
  },
  {
   "cell_type": "markdown",
   "metadata": {},
   "source": [
    "- Model and training"
   ]
  },
  {
   "cell_type": "code",
   "execution_count": 121,
   "metadata": {},
   "outputs": [
    {
     "data": {
      "text/plain": [
       "LinearRegression(n_jobs=-1, normalize=True)"
      ]
     },
     "execution_count": 121,
     "metadata": {},
     "output_type": "execute_result"
    }
   ],
   "source": [
    "degree =2\n",
    "normalise=True\n",
    "bias=True\n",
    "poly_features = PolynomialFeatures(degree=degree,include_bias=bias)\n",
    "x_train_poly = poly_features.fit_transform(x_train)\n",
    "poly_reg = LinearRegression(normalize=normalise,n_jobs=-1)\n",
    "poly_reg.fit(x_train_poly,y_train)"
   ]
  },
  {
   "cell_type": "markdown",
   "metadata": {},
   "source": [
    "- Predictors"
   ]
  },
  {
   "cell_type": "code",
   "execution_count": 122,
   "metadata": {},
   "outputs": [
    {
     "name": "stdout",
     "output_type": "stream",
     "text": [
      "Mean Squared Error:  2.6495665743187108e+19\n",
      "Root Mean Squared Error:  5147394073.041922\n"
     ]
    }
   ],
   "source": [
    "from sklearn.metrics import mean_squared_error\n",
    "\n",
    "mse = mean_squared_error(y_test,poly_reg.predict(poly_features.transform(x_test)))\n",
    "print('Mean Squared Error: ',mse)\n",
    "rmse = np.sqrt(mse)\n",
    "print('Root Mean Squared Error: ',rmse)"
   ]
  },
  {
   "cell_type": "markdown",
   "metadata": {},
   "source": [
    "- Checking T Test Hypothesis Success "
   ]
  },
  {
   "cell_type": "markdown",
   "metadata": {},
   "source": [
    " - Below 2 hypothesis can be accepted otherwise rejected."
   ]
  },
  {
   "cell_type": "code",
   "execution_count": 123,
   "metadata": {},
   "outputs": [
    {
     "data": {
      "text/plain": [
       "1.0180362883855048"
      ]
     },
     "execution_count": 123,
     "metadata": {},
     "output_type": "execute_result"
    }
   ],
   "source": [
    "import scipy.stats as stats\n",
    "\n",
    "t_stat, p_val = stats.ttest_ind(y_test,poly_reg.predict(poly_features.transform(x_test)),equal_var=False)\n",
    "t_stat"
   ]
  },
  {
   "cell_type": "code",
   "execution_count": 124,
   "metadata": {},
   "outputs": [
    {
     "data": {
      "text/plain": [
       "0.3086885776005071"
      ]
     },
     "execution_count": 124,
     "metadata": {},
     "output_type": "execute_result"
    }
   ],
   "source": [
    "p_val"
   ]
  },
  {
   "cell_type": "markdown",
   "metadata": {},
   "source": [
    "## Logistic Regression"
   ]
  },
  {
   "cell_type": "code",
   "execution_count": 125,
   "metadata": {},
   "outputs": [],
   "source": [
    "from sklearn.linear_model import LogisticRegression"
   ]
  },
  {
   "cell_type": "code",
   "execution_count": 126,
   "metadata": {},
   "outputs": [],
   "source": [
    "from sklearn import utils"
   ]
  },
  {
   "cell_type": "markdown",
   "metadata": {},
   "source": [
    "## Preprocessing"
   ]
  },
  {
   "cell_type": "markdown",
   "metadata": {},
   "source": [
    "- For Logistic Regression target always should multiclass not continuous\n",
    "- For our secenario target will float64 -> int"
   ]
  },
  {
   "cell_type": "code",
   "execution_count": 127,
   "metadata": {},
   "outputs": [
    {
     "name": "stdout",
     "output_type": "stream",
     "text": [
      "continuous\n",
      "multiclass\n"
     ]
    }
   ],
   "source": [
    "print(utils.multiclass.type_of_target(y_train))\n",
    "\n",
    "y_train_int = y_train.astype(int)\n",
    "print(utils.multiclass.type_of_target(y_train_int))"
   ]
  },
  {
   "cell_type": "code",
   "execution_count": 128,
   "metadata": {},
   "outputs": [],
   "source": [
    "lr = LogisticRegression()\n"
   ]
  },
  {
   "cell_type": "code",
   "execution_count": 129,
   "metadata": {},
   "outputs": [
    {
     "name": "stderr",
     "output_type": "stream",
     "text": [
      "/home/ethender/workspace/python/venv/lib/python3.8/site-packages/sklearn/linear_model/_logistic.py:762: ConvergenceWarning: lbfgs failed to converge (status=1):\n",
      "STOP: TOTAL NO. of ITERATIONS REACHED LIMIT.\n",
      "\n",
      "Increase the number of iterations (max_iter) or scale the data as shown in:\n",
      "    https://scikit-learn.org/stable/modules/preprocessing.html\n",
      "Please also refer to the documentation for alternative solver options:\n",
      "    https://scikit-learn.org/stable/modules/linear_model.html#logistic-regression\n",
      "  n_iter_i = _check_optimize_result(\n"
     ]
    },
    {
     "data": {
      "text/plain": [
       "LogisticRegression()"
      ]
     },
     "execution_count": 129,
     "metadata": {},
     "output_type": "execute_result"
    }
   ],
   "source": [
    "lr.fit(x_train,y_train_int)"
   ]
  },
  {
   "cell_type": "code",
   "execution_count": 130,
   "metadata": {},
   "outputs": [
    {
     "name": "stdout",
     "output_type": "stream",
     "text": [
      "Mean Squared Error:  6.142938876265947e+18\n",
      "Root Mean Squared Error:  2478495284.697138\n"
     ]
    }
   ],
   "source": [
    "from sklearn.metrics import mean_squared_error\n",
    "\n",
    "mse = mean_squared_error(y_test.astype(int),lr.predict(x_test))\n",
    "print('Mean Squared Error: ',mse)\n",
    "rmse = np.sqrt(mse)\n",
    "print('Root Mean Squared Error: ',rmse)"
   ]
  },
  {
   "cell_type": "code",
   "execution_count": 131,
   "metadata": {},
   "outputs": [
    {
     "data": {
      "text/plain": [
       "-1121.800264588731"
      ]
     },
     "execution_count": 131,
     "metadata": {},
     "output_type": "execute_result"
    }
   ],
   "source": [
    "t_stat, p_val = stats.ttest_ind(y_test.astype(int),lr.predict(x_test))\n",
    "t_stat"
   ]
  },
  {
   "cell_type": "markdown",
   "metadata": {},
   "source": [
    "## hyperparameter fine tune L1"
   ]
  },
  {
   "cell_type": "code",
   "execution_count": 132,
   "metadata": {},
   "outputs": [],
   "source": [
    "from sklearn.model_selection import GridSearchCV"
   ]
  },
  {
   "cell_type": "code",
   "execution_count": 133,
   "metadata": {},
   "outputs": [
    {
     "data": {
      "text/plain": [
       "\"paramL2 = [\\n    {'solver':['newton-cg','lbfgs','liblinear','sag','saga']},\\n    {'penalty':['l2']}\\n]\""
      ]
     },
     "execution_count": 133,
     "metadata": {},
     "output_type": "execute_result"
    }
   ],
   "source": [
    "'''paramL2 = [\n",
    "    {'solver':['newton-cg','lbfgs','liblinear','sag','saga']},\n",
    "    {'penalty':['l2']}\n",
    "]'''"
   ]
  },
  {
   "cell_type": "code",
   "execution_count": 134,
   "metadata": {},
   "outputs": [],
   "source": [
    "#gridSearchL2 = GridSearchCV(LogisticRegression(),paramL2,cv=5,scoring='neg_mean_squared_error',return_train_score=True)"
   ]
  },
  {
   "cell_type": "code",
   "execution_count": 135,
   "metadata": {},
   "outputs": [],
   "source": [
    "#gridSearchL2.fit(x_train,y_train_int)"
   ]
  },
  {
   "cell_type": "code",
   "execution_count": 136,
   "metadata": {},
   "outputs": [],
   "source": [
    "#gridSearchL2.best_params_"
   ]
  },
  {
   "cell_type": "code",
   "execution_count": 137,
   "metadata": {},
   "outputs": [],
   "source": [
    "#gridSearchL2.best_estimator_"
   ]
  },
  {
   "cell_type": "code",
   "execution_count": 138,
   "metadata": {},
   "outputs": [
    {
     "data": {
      "text/plain": [
       "'cvres = gridSearchL2.cv_results_\\n\\nfor mean_score, params in zip(cvres[\"mean_test_score\"],cvres[\"params\"]):\\n    print(np.sqrt(-mean_score),params)'"
      ]
     },
     "execution_count": 138,
     "metadata": {},
     "output_type": "execute_result"
    }
   ],
   "source": [
    "'''cvres = gridSearchL2.cv_results_\n",
    "\n",
    "for mean_score, params in zip(cvres[\"mean_test_score\"],cvres[\"params\"]):\n",
    "    print(np.sqrt(-mean_score),params)'''"
   ]
  },
  {
   "cell_type": "code",
   "execution_count": null,
   "metadata": {},
   "outputs": [],
   "source": []
  },
  {
   "cell_type": "markdown",
   "metadata": {},
   "source": [
    "## Support Vector Machine"
   ]
  },
  {
   "cell_type": "code",
   "execution_count": 139,
   "metadata": {},
   "outputs": [],
   "source": [
    "from IPython.display import HTML, display\n",
    "from sklearn.metrics import mean_squared_error, mean_absolute_error,r2_score\n",
    "def check_predictors(actual,pred):\n",
    "    mse = mean_squared_error(actual,pred)\n",
    "    rmse = np.sqrt(mse)\n",
    "    mae = mean_absolute_error(actual,pred)\n",
    "    r2 = r2_score(actual,pred)\n",
    "    result = f'''<tr><th>MSE</th><th>RMSE</th><th>MAE</th><th>R2</th></tr><tr><td>{mse}</td><td>{rmse}</td><td>{mae}</td><td>{r2}</td></tr>'''\n",
    "    result = display(HTML(result))\n",
    "    return result"
   ]
  },
  {
   "cell_type": "code",
   "execution_count": 140,
   "metadata": {},
   "outputs": [
    {
     "data": {
      "text/html": [
       "<div>\n",
       "<style scoped>\n",
       "    .dataframe tbody tr th:only-of-type {\n",
       "        vertical-align: middle;\n",
       "    }\n",
       "\n",
       "    .dataframe tbody tr th {\n",
       "        vertical-align: top;\n",
       "    }\n",
       "\n",
       "    .dataframe thead th {\n",
       "        text-align: right;\n",
       "    }\n",
       "</style>\n",
       "<table border=\"1\" class=\"dataframe\">\n",
       "  <thead>\n",
       "    <tr style=\"text-align: right;\">\n",
       "      <th></th>\n",
       "      <th>POSTED_BY</th>\n",
       "      <th>UNDER_CONSTRUCTION</th>\n",
       "      <th>RERA</th>\n",
       "      <th>BHK_NO.</th>\n",
       "      <th>BHK_OR_RK</th>\n",
       "      <th>SQUARE_FT</th>\n",
       "      <th>READY_TO_MOVE</th>\n",
       "      <th>RESALE</th>\n",
       "      <th>SQUARE_YARD</th>\n",
       "      <th>TARGET_AMOUNT</th>\n",
       "    </tr>\n",
       "  </thead>\n",
       "  <tbody>\n",
       "    <tr>\n",
       "      <th>0</th>\n",
       "      <td>2</td>\n",
       "      <td>0</td>\n",
       "      <td>0</td>\n",
       "      <td>2</td>\n",
       "      <td>0</td>\n",
       "      <td>1300.236407</td>\n",
       "      <td>1</td>\n",
       "      <td>1</td>\n",
       "      <td>144.470712</td>\n",
       "      <td>5500000.0</td>\n",
       "    </tr>\n",
       "    <tr>\n",
       "      <th>1</th>\n",
       "      <td>1</td>\n",
       "      <td>0</td>\n",
       "      <td>0</td>\n",
       "      <td>2</td>\n",
       "      <td>0</td>\n",
       "      <td>1275.000000</td>\n",
       "      <td>1</td>\n",
       "      <td>1</td>\n",
       "      <td>141.666667</td>\n",
       "      <td>5100000.0</td>\n",
       "    </tr>\n",
       "    <tr>\n",
       "      <th>2</th>\n",
       "      <td>2</td>\n",
       "      <td>0</td>\n",
       "      <td>0</td>\n",
       "      <td>2</td>\n",
       "      <td>0</td>\n",
       "      <td>933.159722</td>\n",
       "      <td>1</td>\n",
       "      <td>1</td>\n",
       "      <td>103.684414</td>\n",
       "      <td>4300000.0</td>\n",
       "    </tr>\n",
       "    <tr>\n",
       "      <th>3</th>\n",
       "      <td>2</td>\n",
       "      <td>0</td>\n",
       "      <td>1</td>\n",
       "      <td>2</td>\n",
       "      <td>0</td>\n",
       "      <td>929.921143</td>\n",
       "      <td>1</td>\n",
       "      <td>1</td>\n",
       "      <td>103.324571</td>\n",
       "      <td>6250000.0</td>\n",
       "    </tr>\n",
       "    <tr>\n",
       "      <th>4</th>\n",
       "      <td>1</td>\n",
       "      <td>1</td>\n",
       "      <td>0</td>\n",
       "      <td>2</td>\n",
       "      <td>0</td>\n",
       "      <td>999.009247</td>\n",
       "      <td>0</td>\n",
       "      <td>1</td>\n",
       "      <td>111.001027</td>\n",
       "      <td>6050000.0</td>\n",
       "    </tr>\n",
       "  </tbody>\n",
       "</table>\n",
       "</div>"
      ],
      "text/plain": [
       "   POSTED_BY  UNDER_CONSTRUCTION  RERA  BHK_NO.  BHK_OR_RK    SQUARE_FT  \\\n",
       "0          2                   0     0        2          0  1300.236407   \n",
       "1          1                   0     0        2          0  1275.000000   \n",
       "2          2                   0     0        2          0   933.159722   \n",
       "3          2                   0     1        2          0   929.921143   \n",
       "4          1                   1     0        2          0   999.009247   \n",
       "\n",
       "   READY_TO_MOVE  RESALE  SQUARE_YARD  TARGET_AMOUNT  \n",
       "0              1       1   144.470712      5500000.0  \n",
       "1              1       1   141.666667      5100000.0  \n",
       "2              1       1   103.684414      4300000.0  \n",
       "3              1       1   103.324571      6250000.0  \n",
       "4              0       1   111.001027      6050000.0  "
      ]
     },
     "execution_count": 140,
     "metadata": {},
     "output_type": "execute_result"
    }
   ],
   "source": [
    "transform_data.head()"
   ]
  },
  {
   "cell_type": "code",
   "execution_count": 141,
   "metadata": {},
   "outputs": [
    {
     "data": {
      "text/plain": [
       "(       POSTED_BY  UNDER_CONSTRUCTION  RERA  BHK_NO.  BHK_OR_RK    SQUARE_FT  \\\n",
       " 12297          1                   0     0        3          0  3117.820807   \n",
       " 25760          1                   0     0        2          0   701.918577   \n",
       " 20604          2                   0     0        3          0  1295.196978   \n",
       " 5864           1                   0     1        3          0   635.000000   \n",
       " 27633          1                   0     0        2          0  1305.124330   \n",
       " ...          ...                 ...   ...      ...        ...          ...   \n",
       " 5925           2                   0     0        2          0  1254.064097   \n",
       " 10295          1                   0     0        2          0  1160.050752   \n",
       " 9380           1                   0     0        1          0   418.021366   \n",
       " 20639          2                   0     1        1          0   430.809399   \n",
       " 22948          1                   0     0        2          0  1171.652422   \n",
       " \n",
       "        READY_TO_MOVE  RESALE  SQUARE_YARD  \n",
       " 12297              1       1   346.424534  \n",
       " 25760              1       1    77.990953  \n",
       " 20604              1       1   143.910775  \n",
       " 5864               1       0    70.555556  \n",
       " 27633              1       1   145.013814  \n",
       " ...              ...     ...          ...  \n",
       " 5925               1       1   139.340455  \n",
       " 10295              1       1   128.894528  \n",
       " 9380               1       1    46.446818  \n",
       " 20639              1       1    47.867711  \n",
       " 22948              1       1   130.183602  \n",
       " \n",
       " [20615 rows x 9 columns],\n",
       " 12297    19000000.0\n",
       " 25760    18000000.0\n",
       " 20604     7200000.0\n",
       " 5864      2540000.0\n",
       " 27633     9500000.0\n",
       "             ...    \n",
       " 5925      8100000.0\n",
       " 10295     6400000.0\n",
       " 9380      1800000.0\n",
       " 20639     1650000.0\n",
       " 22948     6580000.0\n",
       " Name: TARGET_AMOUNT, Length: 20615, dtype: float64)"
      ]
     },
     "execution_count": 141,
     "metadata": {},
     "output_type": "execute_result"
    }
   ],
   "source": [
    "(x_train,y_train)"
   ]
  },
  {
   "cell_type": "code",
   "execution_count": 142,
   "metadata": {},
   "outputs": [],
   "source": [
    "from sklearn.svm import LinearSVR"
   ]
  },
  {
   "cell_type": "code",
   "execution_count": 143,
   "metadata": {},
   "outputs": [
    {
     "name": "stderr",
     "output_type": "stream",
     "text": [
      "/home/ethender/workspace/python/venv/lib/python3.8/site-packages/sklearn/svm/_base.py:976: ConvergenceWarning: Liblinear failed to converge, increase the number of iterations.\n",
      "  warnings.warn(\"Liblinear failed to converge, increase \"\n"
     ]
    },
    {
     "data": {
      "text/plain": [
       "LinearSVR(epsilon=1.5)"
      ]
     },
     "execution_count": 143,
     "metadata": {},
     "output_type": "execute_result"
    }
   ],
   "source": [
    "svm_reg = LinearSVR(epsilon=1.5)\n",
    "svm_reg.fit(x_train,y_train)"
   ]
  },
  {
   "cell_type": "code",
   "execution_count": 144,
   "metadata": {},
   "outputs": [],
   "source": [
    "svm_pred = svm_reg.predict(x_test)"
   ]
  },
  {
   "cell_type": "code",
   "execution_count": 145,
   "metadata": {},
   "outputs": [
    {
     "data": {
      "text/html": [
       "<tr><th>MSE</th><th>RMSE</th><th>MAE</th><th>R2</th></tr><tr><td>1.1793519600370139e+20</td><td>10859797235.846598</td><td>124422886.67054664</td><td>-25682.36657904429</td></tr>"
      ],
      "text/plain": [
       "<IPython.core.display.HTML object>"
      ]
     },
     "metadata": {},
     "output_type": "display_data"
    }
   ],
   "source": [
    "check_predictors(y_test,svm_pred)"
   ]
  },
  {
   "cell_type": "code",
   "execution_count": 146,
   "metadata": {},
   "outputs": [
    {
     "data": {
      "text/plain": [
       "SVR(C=100, degree=2, kernel='poly')"
      ]
     },
     "execution_count": 146,
     "metadata": {},
     "output_type": "execute_result"
    }
   ],
   "source": [
    "from sklearn.svm import SVR\n",
    "\n",
    "svm_k_reg = SVR(kernel='poly',degree=2,C=100,epsilon=0.1)\n",
    "svm_k_reg.fit(x_train,y_train)"
   ]
  },
  {
   "cell_type": "code",
   "execution_count": 147,
   "metadata": {},
   "outputs": [
    {
     "data": {
      "text/html": [
       "<tr><th>MSE</th><th>RMSE</th><th>MAE</th><th>R2</th></tr><tr><td>4618905740100893.0</td><td>67962531.88412637</td><td>10861239.622938566</td><td>-0.005883343877598257</td></tr>"
      ],
      "text/plain": [
       "<IPython.core.display.HTML object>"
      ]
     },
     "metadata": {},
     "output_type": "display_data"
    }
   ],
   "source": [
    "check_predictors(y_test,svm_k_reg.predict(x_test))"
   ]
  },
  {
   "cell_type": "markdown",
   "metadata": {},
   "source": [
    "## Hype-parameter"
   ]
  },
  {
   "cell_type": "code",
   "execution_count": 148,
   "metadata": {},
   "outputs": [],
   "source": [
    "svrparams = [\n",
    "    {'kernel':['linear', 'poly', 'rbf', 'sigmoid', 'precomputed']},\n",
    "]"
   ]
  },
  {
   "cell_type": "code",
   "execution_count": 149,
   "metadata": {},
   "outputs": [],
   "source": [
    "gridSearchSVR = GridSearchCV(SVR(),svrparams,n_jobs=-1)"
   ]
  },
  {
   "cell_type": "code",
   "execution_count": null,
   "metadata": {},
   "outputs": [],
   "source": [
    "gridSearchSVR.fit(x_train,y_train)"
   ]
  },
  {
   "cell_type": "markdown",
   "metadata": {},
   "source": [
    "## SVM C - TOL"
   ]
  },
  {
   "cell_type": "code",
   "execution_count": null,
   "metadata": {},
   "outputs": [],
   "source": [
    "tol = [1e-2,1e-3,1e-4,1e-5,1e-6,1e-7,1e-8,1e-9]\n",
    "C = [0.2,0.4,0.6,0.8,1.0]"
   ]
  },
  {
   "cell_type": "code",
   "execution_count": null,
   "metadata": {},
   "outputs": [],
   "source": [
    "bestScores = 100\n",
    "bestTol=0\n",
    "bestC =0\n",
    "from sklearn.metrics import mean_squared_error\n",
    "for tolerance in tol:\n",
    "    for cc in C:\n",
    "        svm_k_reg = SVR(kernel='poly',degree=2,C=cc,tol=tolerance)\n",
    "        svm_k_reg.fit(x_train,y_train)\n",
    "        pred = svm_k_reg.predict(x_test)\n",
    "        val = mean_squared_error(y_test,pred)\n",
    "        print('Val: '+str(val)+', tol: '+str(tolerance)+', C: '+str(cc))\n",
    "        if val < bestScores:\n",
    "            bestScores = val\n",
    "            bestTol = tolerance\n",
    "            bestC = cc\n",
    "print('-'*50)\n",
    "print('BestScore: '+str(bestScores))\n",
    "print('Best Tolerance: '+str(bestTol))\n",
    "print('Best C: '+str(bestC))"
   ]
  },
  {
   "cell_type": "code",
   "execution_count": null,
   "metadata": {},
   "outputs": [],
   "source": []
  }
 ],
 "metadata": {
  "kernelspec": {
   "display_name": "Python 3",
   "language": "python",
   "name": "python3"
  },
  "language_info": {
   "codemirror_mode": {
    "name": "ipython",
    "version": 3
   },
   "file_extension": ".py",
   "mimetype": "text/x-python",
   "name": "python",
   "nbconvert_exporter": "python",
   "pygments_lexer": "ipython3",
   "version": "3.8.2"
  }
 },
 "nbformat": 4,
 "nbformat_minor": 5
}
