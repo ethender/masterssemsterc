{
 "cells": [
  {
   "cell_type": "markdown",
   "id": "24193dac",
   "metadata": {},
   "source": [
    "# House Prices Prediction"
   ]
  },
  {
   "cell_type": "markdown",
   "id": "357b2d84",
   "metadata": {},
   "source": [
    "## Data Cleaning"
   ]
  },
  {
   "cell_type": "code",
   "execution_count": 1,
   "id": "9b2bb794",
   "metadata": {},
   "outputs": [
    {
     "ename": "ModuleNotFoundError",
     "evalue": "No module named 'pandas'",
     "output_type": "error",
     "traceback": [
      "\u001b[0;31m---------------------------------------------------------------------------\u001b[0m",
      "\u001b[0;31mModuleNotFoundError\u001b[0m                       Traceback (most recent call last)",
      "\u001b[0;32m/var/folders/pd/lqjkfk195fg6c4ljgwgg46p80000gn/T/ipykernel_1285/249145904.py\u001b[0m in \u001b[0;36m<module>\u001b[0;34m\u001b[0m\n\u001b[1;32m      2\u001b[0m \u001b[0;34m\u001b[0m\u001b[0m\n\u001b[1;32m      3\u001b[0m \u001b[0;32mimport\u001b[0m \u001b[0mnumpy\u001b[0m \u001b[0;32mas\u001b[0m \u001b[0mnp\u001b[0m\u001b[0;34m\u001b[0m\u001b[0;34m\u001b[0m\u001b[0m\n\u001b[0;32m----> 4\u001b[0;31m \u001b[0;32mimport\u001b[0m \u001b[0mpandas\u001b[0m \u001b[0;32mas\u001b[0m \u001b[0mpd\u001b[0m\u001b[0;34m\u001b[0m\u001b[0;34m\u001b[0m\u001b[0m\n\u001b[0m\u001b[1;32m      5\u001b[0m \u001b[0;32mimport\u001b[0m \u001b[0mmatplotlib\u001b[0m\u001b[0;34m.\u001b[0m\u001b[0mpyplot\u001b[0m \u001b[0;32mas\u001b[0m \u001b[0mplt\u001b[0m\u001b[0;34m\u001b[0m\u001b[0;34m\u001b[0m\u001b[0m\n\u001b[1;32m      6\u001b[0m \u001b[0;32mimport\u001b[0m \u001b[0mseaborn\u001b[0m \u001b[0;32mas\u001b[0m \u001b[0msns\u001b[0m\u001b[0;34m\u001b[0m\u001b[0;34m\u001b[0m\u001b[0m\n",
      "\u001b[0;31mModuleNotFoundError\u001b[0m: No module named 'pandas'"
     ]
    }
   ],
   "source": [
    "#importing libraries\n",
    "\n",
    "import numpy as np\n",
    "import pandas as pd\n",
    "import matplotlib.pyplot as plt\n",
    "import seaborn as sns\n",
    "%matplotlib inline"
   ]
  },
  {
   "cell_type": "markdown",
   "id": "42b1eb81",
   "metadata": {},
   "source": [
    "  <table>\n",
    "        <tr>\n",
    "                <th><center>Name</center></th>\n",
    "                <th><center>Value</center></th>\n",
    "                <th><center>Description</center></th>\n",
    "                <th><center>Categorical/Continuous</center></th>\n",
    "        </tr>\n",
    "        <!-- Start of the Row-->\n",
    "        <tr>\n",
    "            <td>Posted&nbsp;By</td>\n",
    "            <td>\n",
    "                <table>\n",
    "                    <tr>\n",
    "                        <td>Owner</td>    \n",
    "                    </tr>\n",
    "                    <tr>\n",
    "                        <td>Dealer</td>\n",
    "                    </tr>\n",
    "                </table>\n",
    "            </td>\n",
    "            <td>\n",
    "                <p>This features describes who posted on.</p>\n",
    "            </td>\n",
    "            <td>\n",
    "                Categorical\n",
    "            </td>\n",
    "        </tr>\n",
    "        <!-- End of the Row-->\n",
    "        <!-- Start of the Row-->\n",
    "        <tr>\n",
    "            <td>Under&nbsp;Construction</td>\n",
    "            <td>\n",
    "                <table>\n",
    "                    <tr>\n",
    "                        <td>0</td>\n",
    "                        <td>Not&nbsp;Under&nbsp;construction</td>\n",
    "                    </tr>\n",
    "                    <tr>\n",
    "                        <td>1</td>\n",
    "                        <td>Under&nbsp;construction</td>\n",
    "                    </tr>\n",
    "                </table>\n",
    "            </td>\n",
    "            <td>\n",
    "                <p>This features describes is this house under-construction or not.</p>\n",
    "            </td>\n",
    "            <td>Categorical</td>\n",
    "        </tr>\n",
    "        <!-- End of the Row-->\n",
    "         <!-- Start of the Row-->\n",
    "         <tr>\n",
    "            <td>RERA</td>\n",
    "            <td>\n",
    "                <table>\n",
    "                    <tr>\n",
    "                        <td>0</td>\n",
    "                        <td>Not&nbsp;approved</td>\n",
    "                    </tr>\n",
    "                    <tr>\n",
    "                        <td>1</td>\n",
    "                        <td>Approved</td>\n",
    "                    </tr>\n",
    "                </table>\n",
    "            </td>\n",
    "            <td>\n",
    "                <p>This features describes Real Estate (Regulation and Development) Act, 2016 approved or not.</p>\n",
    "            </td>\n",
    "            <td>\n",
    "                Categorical\n",
    "            </td>\n",
    "        </tr>\n",
    "        <!-- End of the Row-->\n",
    "        <!-- Start of the Row-->\n",
    "        <tr>\n",
    "            <td>BHK&nbsp;No</td>\n",
    "            <td>\n",
    "                0-31\n",
    "            </td>\n",
    "            <td>\n",
    "                <p>This features describes No of Bedrooms if not 0.</p>\n",
    "            </td>\n",
    "            <td>\n",
    "                Continuous\n",
    "            </td>\n",
    "        </tr>\n",
    "        <!-- End of the Row-->\n",
    "        <!-- Start of the Row-->\n",
    "        <tr>\n",
    "            <td>BHK&nbsp;OR&nbsp;RK</td>\n",
    "            <td>\n",
    "                <table>\n",
    "                    <tr>\n",
    "                        <td>BHK</td>    \n",
    "                    </tr>\n",
    "                    <tr>\n",
    "                        <td>RK</td>\n",
    "                    </tr>\n",
    "                </table>\n",
    "            </td>\n",
    "            <td>\n",
    "                <p>This features describes BHK(Bed,Hall,Kitchen) or RK(Room,Kitchen).</p>\n",
    "            </td>\n",
    "            <td>\n",
    "                Categorical\n",
    "            </td>\n",
    "        </tr>\n",
    "        <!-- End of the Row-->\n",
    "        <!-- Start of the Row-->\n",
    "        <tr>\n",
    "            <td>Square Feet</td>\n",
    "            <td>\n",
    "                Area in SQ FT.\n",
    "            </td>\n",
    "            <td>\n",
    "                <p>This features describes Total Area of the house in square feet.</p>\n",
    "            </td>\n",
    "            <td>\n",
    "                Continuous\n",
    "            </td>\n",
    "        </tr>\n",
    "        <!-- End of the Row-->\n",
    "        <!-- Start of the Row-->\n",
    "         <tr>\n",
    "            <td>Ready To Move</td>\n",
    "            <td>\n",
    "                <table>\n",
    "                    <tr>\n",
    "                        <td>0</td>\n",
    "                        <td>Not&nbsp;Ready</td>\n",
    "                    </tr>\n",
    "                    <tr>\n",
    "                        <td>1</td>\n",
    "                        <td>Ready</td>\n",
    "                    </tr>\n",
    "                </table>\n",
    "            </td>\n",
    "            <td>\n",
    "                <p>This features describes is property ready to move.</p>\n",
    "            </td>\n",
    "            <td>Categorical</td>\n",
    "        </tr>\n",
    "        <!-- End of the Row-->\n",
    "        <!-- Start of the Row-->\n",
    "        <tr>\n",
    "            <td>Resale</td>\n",
    "            <td>\n",
    "                <table>\n",
    "                    <tr>\n",
    "                        <td>0</td>\n",
    "                        <td>Not&nbsp;marking&nbsp;resale</td>\n",
    "                    </tr>\n",
    "                    <tr>\n",
    "                        <td>1</td>\n",
    "                        <td>marking&nbsp;resale</td>\n",
    "                    </tr>\n",
    "                </table>\n",
    "            </td>\n",
    "            <td>\n",
    "                <p>This features describes able to resale or not.</p>\n",
    "            </td>\n",
    "            <td>Categorical</td>\n",
    "        </tr>\n",
    "        <!-- End of the Row-->\n",
    "        <!-- Start of the Row-->\n",
    "        <tr>\n",
    "            <td>Address</td>\n",
    "            <td>\n",
    "                location.\n",
    "            </td>\n",
    "            <td>\n",
    "                <p>This features describes location of the property.</p>\n",
    "            </td>\n",
    "            <td>None</td>\n",
    "        </tr>\n",
    "        <!-- End of the Row-->\n",
    "         <!-- Start of the Row-->\n",
    "         <tr>\n",
    "            <td>Longitude</td>\n",
    "            <td>\n",
    "                geo coding location.\n",
    "            </td>\n",
    "            <td>\n",
    "                <p>This features describes geographically marking.</p>\n",
    "            </td>\n",
    "            <td>None</td>\n",
    "        </tr>\n",
    "        <!-- End of the Row-->\n",
    "        <!-- Start of the Row-->\n",
    "        <tr>\n",
    "            <td>Latitude</td>\n",
    "            <td>\n",
    "                geo coding location.\n",
    "            </td>\n",
    "            <td>\n",
    "                <p>This features describes geographically marking.</p>\n",
    "            </td>\n",
    "            <td>None</td>\n",
    "        </tr>\n",
    "        <!-- End of the Row-->\n",
    "        <!-- Start of the Row-->\n",
    "        <tr>\n",
    "            <td>TARGET(PRICE_IN_LACS)</td>\n",
    "            <td>\n",
    "                Amount\n",
    "            </td>\n",
    "            <td>\n",
    "                <p>This features describes amount for assest.</p>\n",
    "            </td>\n",
    "            <td>Continuous</td>\n",
    "        </tr>\n",
    "        <!-- End of the Row-->\n",
    "    </table>"
   ]
  },
  {
   "cell_type": "code",
   "execution_count": null,
   "id": "ec8162ef",
   "metadata": {},
   "outputs": [],
   "source": [
    "#importing trained data\n",
    "train_data = pd.read_csv('data/prices/train.csv')"
   ]
  },
  {
   "cell_type": "code",
   "execution_count": null,
   "id": "d978d1d0",
   "metadata": {},
   "outputs": [],
   "source": [
    "# Getting city or state\n",
    "state = []\n",
    "for addr in train_data['ADDRESS']:\n",
    "    state.append(addr.split(',')[1])\n",
    "train_data['STATE_OR_CITY'] = state"
   ]
  },
  {
   "cell_type": "code",
   "execution_count": null,
   "id": "2620a495",
   "metadata": {},
   "outputs": [],
   "source": [
    "#converting in square_feet to square_yard\n",
    "square_yard = train_data['SQUARE_FT']/9\n",
    "train_data['SQUARE_YARD'] = square_yard"
   ]
  },
  {
   "cell_type": "code",
   "execution_count": null,
   "id": "58d51096",
   "metadata": {},
   "outputs": [],
   "source": [
    "train_data.head(10)"
   ]
  },
  {
   "cell_type": "code",
   "execution_count": null,
   "id": "d86010cc",
   "metadata": {},
   "outputs": [],
   "source": [
    "# checking unique values\n",
    "unique_values = {\n",
    "    'POSTED_BY':train_data['POSTED_BY'].unique(),\n",
    "    'UNDER_CONSTRUCTION':train_data['UNDER_CONSTRUCTION'].unique(),\n",
    "    'RERA':train_data['RERA'].unique(),\n",
    "    'BHK_OR_RK':train_data['BHK_OR_RK'].unique(),\n",
    "    'BHK_NO':train_data['BHK_NO.'].unique(),\n",
    "    'READY_TO_MOVE':train_data['READY_TO_MOVE'].unique(),\n",
    "    'RESALE':train_data['RESALE'].unique()\n",
    "}\n",
    "\n",
    "unique_values = pd.DataFrame([unique_values])\n",
    "unique_values = unique_values.T\n",
    "unique_values"
   ]
  },
  {
   "cell_type": "code",
   "execution_count": null,
   "id": "be044229",
   "metadata": {},
   "outputs": [],
   "source": [
    "##valueCounts for each feature\n",
    "\n",
    "#POSTED_BY\n",
    "print('POSTED_BY')\n",
    "print('-'*20)\n",
    "print(train_data['POSTED_BY'].value_counts())\n",
    "print(\"=\"*60)\n",
    "#UNDER_CONSTRUCTION\n",
    "print('UNDER_CONSTRUCTION')\n",
    "print('-'*20)\n",
    "print(train_data['UNDER_CONSTRUCTION'].value_counts())\n",
    "print(\"=\"*60)\n",
    "#RERA\n",
    "print('RERA')\n",
    "print('-'*20)\n",
    "print(train_data['RERA'].value_counts())\n",
    "print(\"=\"*60)\n",
    "#BHK_NO.\n",
    "print('BHK_NO.')\n",
    "print('-'*20)\n",
    "print(train_data['BHK_NO.'].value_counts())\n",
    "print(\"=\"*60)\n",
    "#BHK_OR_RK.\n",
    "print('BHK_OR_RK')\n",
    "print('-'*20)\n",
    "print(train_data['BHK_OR_RK'].value_counts())\n",
    "print(\"=\"*60)\n",
    "#READY_TO_MOVE\n",
    "print('READY_TO_MOVE')\n",
    "print('-'*20)\n",
    "print(train_data['READY_TO_MOVE'].value_counts())\n",
    "print(\"=\"*60)\n",
    "#RESALE\n",
    "print('RESALE')\n",
    "print('-'*20)\n",
    "print(train_data['RESALE'].value_counts())\n",
    "print(\"=\"*60)\n",
    "#STATE_OR_CITY\n",
    "print('STATE_OR_CITY')\n",
    "print('-'*20)\n",
    "print(train_data['STATE_OR_CITY'].value_counts())\n",
    "print(\"=\"*60)"
   ]
  },
  {
   "cell_type": "markdown",
   "id": "4fa5aa9d",
   "metadata": {},
   "source": [
    "## Visualisations"
   ]
  },
  {
   "cell_type": "markdown",
   "id": "542706bf",
   "metadata": {},
   "source": [
    "- divide the bins manually 20 check"
   ]
  },
  {
   "cell_type": "code",
   "execution_count": null,
   "id": "5d015892",
   "metadata": {},
   "outputs": [],
   "source": [
    "onethousand = train_data[train_data['SQUARE_FT'] >= 1000]['SQUARE_FT']\n",
    "twothousand = train_data[(train_data['SQUARE_FT'] <= 1000) & (train_data['SQUARE_FT'] <= 2000)]['SQUARE_FT']\n",
    "threethousand = train_data[(train_data['SQUARE_FT'] <= 2000) & (train_data['SQUARE_FT'] <= 3000)]['SQUARE_FT']\n",
    "fourthousand  = train_data[(train_data['SQUARE_FT'] <= 3000) & (train_data['SQUARE_FT'] <= 4000)]['SQUARE_FT']\n",
    "fivethousandabove = train_data[train_data['SQUARE_FT'] <= 5000]['SQUARE_FT']\n",
    "\n",
    "aix = [\"0-1000\",\"1001-2000\",\"2001-3000\",\"3001-4000\",\"4001-5000<\"]\n",
    "aiy = [len(onethousand),len(twothousand),len(threethousand),len(fourthousand),len(fivethousandabove)]\n",
    "sns.set_theme(style=\"whitegrid\")\n",
    "ax = sns.barplot(x=aix,y=aiy)\n",
    "ax.set(xlabel='SQFT');"
   ]
  },
  {
   "cell_type": "code",
   "execution_count": null,
   "id": "5e2d202d",
   "metadata": {},
   "outputs": [],
   "source": [
    "postedBarY = [len(train_data[train_data['POSTED_BY']=='Owner']['POSTED_BY']),\n",
    "              len(train_data[train_data['POSTED_BY']=='Dealer']['POSTED_BY']),\n",
    "             len(train_data[train_data['POSTED_BY']=='Builder']['POSTED_BY'])]\n",
    "postedBarX = ['Owner','Dealer','Builder']\n",
    "ax = sns.barplot(x=postedBarX,y=postedBarY)\n",
    "ax.set(xlabel='PostedBy');"
   ]
  },
  {
   "cell_type": "code",
   "execution_count": null,
   "id": "221f1512",
   "metadata": {},
   "outputs": [],
   "source": [
    "underContructedY = [len(train_data[train_data['UNDER_CONSTRUCTION']==1]['UNDER_CONSTRUCTION']),\n",
    "                   len(train_data[train_data['UNDER_CONSTRUCTION']==0]['UNDER_CONSTRUCTION'])]\n",
    "underConstructedX = ['Yes','No']\n",
    "ax = sns.barplot(x=underConstructedX,y=underContructedY)\n",
    "ax.set(xlabel='UnderConstruction');"
   ]
  },
  {
   "cell_type": "code",
   "execution_count": null,
   "id": "317f0ff9",
   "metadata": {},
   "outputs": [],
   "source": [
    "reraApprovedY = [len(train_data[train_data['RERA']==1]['RERA']),\n",
    "                   len(train_data[train_data['RERA']==0]['RERA'])]\n",
    "reraApprovedX = ['Yes','No']\n",
    "ax = sns.barplot(x=reraApprovedX,y=reraApprovedY)\n",
    "ax.set(xlabel='RERA Approved');"
   ]
  },
  {
   "cell_type": "code",
   "execution_count": null,
   "id": "3b7c191a",
   "metadata": {},
   "outputs": [],
   "source": [
    "bhkno = []\n",
    "bhkcount = []\n",
    "for bhk in train_data['BHK_NO.'].unique():\n",
    "    bhkcount.append(len(train_data[train_data['BHK_NO.']==bhk]['BHK_NO.']))\n",
    "    bhkno.append(bhk)\n",
    "ax = sns.barplot(x=bhkno,y=bhkcount)\n",
    "ax.set(xlabel='BHK NO');"
   ]
  },
  {
   "cell_type": "code",
   "execution_count": null,
   "id": "281bd3a4",
   "metadata": {},
   "outputs": [],
   "source": [
    "bhkOrRkY = [len(train_data[train_data['BHK_OR_RK']=='BHK']['BHK_OR_RK']),\n",
    "                   len(train_data[train_data['BHK_OR_RK']=='RK']['BHK_OR_RK'])]\n",
    "bhkOrRkX = ['BHK','RK']\n",
    "ax = sns.barplot(x=bhkOrRkX,y=bhkOrRkY)\n",
    "ax.set(xlabel='BHK Or RK');\n",
    "print('RK = ',len(train_data[train_data['BHK_OR_RK']=='RK']['BHK_OR_RK']))\n",
    "print('BHK = ',len(train_data[train_data['BHK_OR_RK']=='BHK']['BHK_OR_RK']))"
   ]
  },
  {
   "cell_type": "code",
   "execution_count": null,
   "id": "ec59c5c3",
   "metadata": {},
   "outputs": [],
   "source": [
    "readyToMoveY = [len(train_data[train_data['READY_TO_MOVE']==1]['READY_TO_MOVE']),\n",
    "                   len(train_data[train_data['READY_TO_MOVE']==0]['READY_TO_MOVE'])]\n",
    "readyToMoveX = ['Yes','No']\n",
    "ax = sns.barplot(x=readyToMoveX,y=readyToMoveY)\n",
    "ax.set(xlabel='Ready To Move');"
   ]
  },
  {
   "cell_type": "code",
   "execution_count": null,
   "id": "f22aa9c3",
   "metadata": {},
   "outputs": [],
   "source": [
    "resaleY = [len(train_data[train_data['RESALE']==1]['RESALE']),\n",
    "                   len(train_data[train_data['RESALE']==0]['RESALE'])]\n",
    "resaleX = ['Yes','No']\n",
    "ax = sns.barplot(x=resaleX,y=resaleY)\n",
    "ax.set(xlabel='Resale');"
   ]
  },
  {
   "cell_type": "code",
   "execution_count": null,
   "id": "0206e73b",
   "metadata": {},
   "outputs": [],
   "source": [
    "train_data['TARGET_AMOUNT']=train_data['TARGET(PRICE_IN_LACS)']*100000"
   ]
  },
  {
   "cell_type": "code",
   "execution_count": null,
   "id": "f035f985",
   "metadata": {},
   "outputs": [],
   "source": [
    "plt.scatter(train_data['SQUARE_FT'],train_data['TARGET_AMOUNT'])"
   ]
  },
  {
   "cell_type": "code",
   "execution_count": null,
   "id": "d4118d5e",
   "metadata": {},
   "outputs": [],
   "source": [
    "train_data.info()"
   ]
  },
  {
   "cell_type": "code",
   "execution_count": null,
   "id": "3b2f8cde",
   "metadata": {},
   "outputs": [],
   "source": [
    "train_data.hist(bins=50,figsize=(20,15))"
   ]
  },
  {
   "cell_type": "code",
   "execution_count": null,
   "id": "ded3e1d0",
   "metadata": {},
   "outputs": [],
   "source": [
    "train_data.plot(kind=\"scatter\",x=\"LONGITUDE\",y='LATITUDE',alpha=0.4)"
   ]
  },
  {
   "cell_type": "code",
   "execution_count": null,
   "id": "5974df29",
   "metadata": {},
   "outputs": [],
   "source": [
    "train_data.plot(kind=\"scatter\",x=\"LONGITUDE\",y='LATITUDE',alpha=0.4,s=train_data['BHK_NO.'],label='BHK',cmap=plt.get_cmap(\"jet\"),colorbar=True)\n",
    "plt.legend()"
   ]
  },
  {
   "cell_type": "code",
   "execution_count": null,
   "id": "bcd12275",
   "metadata": {},
   "outputs": [],
   "source": [
    "plt.figure(figsize=(16,9))\n",
    "sns.scatterplot(x=train_data['BHK_NO.'],y=train_data['SQUARE_FT'])\n",
    "plt.xlabel='BHK'\n",
    "plt.ylabel='SQ FT'"
   ]
  },
  {
   "cell_type": "code",
   "execution_count": null,
   "id": "5fe053cf",
   "metadata": {},
   "outputs": [],
   "source": [
    "plt.figure(figsize=(16,9))\n",
    "sns.scatterplot(x=train_data['BHK_NO.'],y=train_data['TARGET(PRICE_IN_LACS)'])\n",
    "plt.xlabel='BHK'\n",
    "plt.ylabel='SQ FT'"
   ]
  },
  {
   "cell_type": "code",
   "execution_count": null,
   "id": "b718f5fa",
   "metadata": {},
   "outputs": [],
   "source": [
    "plt.figure(figsize=(16,9))\n",
    "sns.barplot(x=train_data['BHK_NO.'],y=train_data['TARGET(PRICE_IN_LACS)'],hue=train_data['UNDER_CONSTRUCTION'])\n",
    "plt.xlabel='BHK'\n",
    "plt.ylabel='SQ FT'"
   ]
  },
  {
   "cell_type": "code",
   "execution_count": null,
   "id": "ce7a7bb1",
   "metadata": {},
   "outputs": [],
   "source": [
    "plt.figure(figsize=(16,9))\n",
    "sns.scatterplot(x=train_data['UNDER_CONSTRUCTION'],y=train_data['RERA'])\n",
    "plt.xlabel='BHK'\n",
    "plt.ylabel='SQ FT'"
   ]
  },
  {
   "cell_type": "code",
   "execution_count": null,
   "id": "7908b6de",
   "metadata": {},
   "outputs": [],
   "source": [
    "prepare_data = train_data.iloc[:,0:8]\n",
    "prepare_data['TARGET(PRICE_IN_LACS)'] = train_data.iloc[:,-1]\n",
    "prepare_data"
   ]
  },
  {
   "cell_type": "code",
   "execution_count": null,
   "id": "72ce8c10",
   "metadata": {},
   "outputs": [],
   "source": [
    "from sklearn.preprocessing import LabelEncoder\n",
    "\n",
    "labelEncoder = LabelEncoder()"
   ]
  },
  {
   "cell_type": "code",
   "execution_count": null,
   "id": "26cb71ad",
   "metadata": {},
   "outputs": [],
   "source": [
    "prepare_data['POSTED_BY'] = labelEncoder.fit_transform(prepare_data['POSTED_BY'])\n",
    "prepare_data['BHK_OR_RK'] = labelEncoder.fit_transform(prepare_data['BHK_OR_RK'])\n",
    "prepare_data"
   ]
  },
  {
   "cell_type": "code",
   "execution_count": null,
   "id": "22348eb1",
   "metadata": {},
   "outputs": [],
   "source": [
    "from sklearn.preprocessing import StandardScaler\n",
    "\n",
    "standardScaler = StandardScaler()"
   ]
  },
  {
   "cell_type": "code",
   "execution_count": null,
   "id": "c91e091a",
   "metadata": {},
   "outputs": [],
   "source": [
    "transform_data = standardScaler.fit_transform(prepare_data)"
   ]
  },
  {
   "cell_type": "code",
   "execution_count": null,
   "id": "9aeaa79a",
   "metadata": {},
   "outputs": [],
   "source": [
    "transform_data"
   ]
  },
  {
   "cell_type": "code",
   "execution_count": null,
   "id": "4a359704",
   "metadata": {},
   "outputs": [],
   "source": [
    "sns.heatmap(prepare_data)"
   ]
  },
  {
   "cell_type": "code",
   "execution_count": null,
   "id": "47d30424",
   "metadata": {},
   "outputs": [],
   "source": [
    "prepare_data"
   ]
  },
  {
   "cell_type": "code",
   "execution_count": null,
   "id": "8d1f7e08",
   "metadata": {},
   "outputs": [],
   "source": [
    "prepare_data.iloc[:,:-1].corr()"
   ]
  },
  {
   "cell_type": "code",
   "execution_count": null,
   "id": "e5743c24",
   "metadata": {},
   "outputs": [],
   "source": [
    "type(transform_data)"
   ]
  },
  {
   "cell_type": "code",
   "execution_count": null,
   "id": "cc703e42",
   "metadata": {},
   "outputs": [],
   "source": [
    "pd.DataFrame(transform_data[:,:-1]).corr().style.background_gradient(cmap='coolwarm',axis=None)"
   ]
  },
  {
   "cell_type": "code",
   "execution_count": null,
   "id": "ac710b30",
   "metadata": {},
   "outputs": [],
   "source": [
    "prepare_data.corr().style.background_gradient(cmap='coolwarm',axis=None).set_precision(2)"
   ]
  },
  {
   "cell_type": "code",
   "execution_count": null,
   "id": "d6e5a9e5",
   "metadata": {},
   "outputs": [],
   "source": [
    "train_data.head()"
   ]
  },
  {
   "cell_type": "code",
   "execution_count": null,
   "id": "0f11d595",
   "metadata": {},
   "outputs": [],
   "source": [
    "train_data.sort_values(['TARGET(PRICE_IN_LACS)'],ascending=False)"
   ]
  },
  {
   "cell_type": "code",
   "execution_count": null,
   "id": "00a8bad6",
   "metadata": {},
   "outputs": [],
   "source": [
    "cityPrices = train_data[['STATE_OR_CITY','TARGET(PRICE_IN_LACS)']].groupby('STATE_OR_CITY',as_index=False)['TARGET(PRICE_IN_LACS)'].mean().sort_values(by='TARGET(PRICE_IN_LACS)', ascending=False)\n",
    "cityPrices.head()"
   ]
  },
  {
   "cell_type": "code",
   "execution_count": null,
   "id": "0f42ef6f",
   "metadata": {},
   "outputs": [],
   "source": [
    "plt.figure(figsize=(25,25))\n",
    "sns.barplot(x=cityPrices.head(20)['STATE_OR_CITY'],y=cityPrices.head(20)['TARGET(PRICE_IN_LACS)'])\n",
    "plt.xticks(rotation=45);"
   ]
  },
  {
   "cell_type": "markdown",
   "id": "dbfc3859",
   "metadata": {},
   "source": [
    "## Identifying and top Spends on housing"
   ]
  },
  {
   "cell_type": "code",
   "execution_count": null,
   "id": "f952e6c3",
   "metadata": {},
   "outputs": [],
   "source": [
    "cities = ['Gurgoan','Mumbai','Delhi','Chennai','Banglore','Hyderabad','Secunderabad','Goa']\n",
    "\n",
    "top_cities = train_data[train_data['STATE_OR_CITY'].isin(cities)]"
   ]
  },
  {
   "cell_type": "code",
   "execution_count": null,
   "id": "c17ec254",
   "metadata": {},
   "outputs": [],
   "source": [
    "top_cities =top_cities[['STATE_OR_CITY','TARGET(PRICE_IN_LACS)']].groupby('STATE_OR_CITY',as_index=False)['TARGET(PRICE_IN_LACS)'].mean().sort_values(by='TARGET(PRICE_IN_LACS)', ascending=False)\n",
    "plt.figure(figsize=(16,9))\n",
    "sns.barplot(x=top_cities['STATE_OR_CITY'],y=cityPrices['TARGET(PRICE_IN_LACS)'])\n",
    "plt.xticks(rotation=45);"
   ]
  },
  {
   "cell_type": "code",
   "execution_count": null,
   "id": "b60d3cd8",
   "metadata": {},
   "outputs": [],
   "source": [
    "import copy\n",
    "citiesCopyData = copy.deepcopy(train_data)"
   ]
  },
  {
   "cell_type": "code",
   "execution_count": null,
   "id": "5ec48561",
   "metadata": {},
   "outputs": [],
   "source": [
    "citiesCopyData['STATE_OR_CITY'] = citiesCopyData['STATE_OR_CITY'].str.lower()\n",
    "citiesCopyData.head()"
   ]
  },
  {
   "cell_type": "code",
   "execution_count": null,
   "id": "3f079dea",
   "metadata": {},
   "outputs": [],
   "source": [
    "cities = ['gurgoan','mumbai','jaipur','chennai','banglore','nagpur','secunderabad','goa','vijayawada','kolkata','kochi','agra']\n",
    "top_cities = citiesCopyData[citiesCopyData['STATE_OR_CITY'].isin(cities)]\n",
    "top_cities"
   ]
  },
  {
   "cell_type": "code",
   "execution_count": null,
   "id": "ef9e0f1f",
   "metadata": {},
   "outputs": [],
   "source": [
    "top_cities =top_cities[['STATE_OR_CITY','TARGET(PRICE_IN_LACS)']].groupby('STATE_OR_CITY',as_index=False)['TARGET(PRICE_IN_LACS)'].mean().sort_values(by='TARGET(PRICE_IN_LACS)', ascending=False)\n",
    "plt.figure(figsize=(16,9))\n",
    "sns.barplot(x=top_cities['STATE_OR_CITY'],y=cityPrices['TARGET(PRICE_IN_LACS)'])\n",
    "plt.xticks(rotation=45);"
   ]
  },
  {
   "cell_type": "code",
   "execution_count": null,
   "id": "58545b2e",
   "metadata": {},
   "outputs": [],
   "source": [
    "citiesCopyData[citiesCopyData['STATE_OR_CITY'].isin(['agra'])]"
   ]
  },
  {
   "cell_type": "code",
   "execution_count": null,
   "id": "0e41bd50",
   "metadata": {},
   "outputs": [],
   "source": [
    "cities = ['gurgoan','mumbai','jaipur','chennai','banglore','nagpur','secunderabad','goa','vijayawada','kolkata','kochi','agra']\n",
    "top_cities = citiesCopyData[citiesCopyData['STATE_OR_CITY'].isin(cities)]\n",
    "top_cities"
   ]
  },
  {
   "cell_type": "code",
   "execution_count": null,
   "id": "f940d304",
   "metadata": {},
   "outputs": [],
   "source": [
    "ready_to_move_cities = top_cities[['STATE_OR_CITY','READY_TO_MOVE','TARGET(PRICE_IN_LACS)']].groupby('STATE_OR_CITY',as_index=False)['TARGET(PRICE_IN_LACS)','READY_TO_MOVE'].sum()"
   ]
  },
  {
   "cell_type": "code",
   "execution_count": null,
   "id": "d6948bc1",
   "metadata": {},
   "outputs": [],
   "source": [
    "plt.figure(figsize=(16,9))\n",
    "sns.barplot(x=ready_to_move_cities['STATE_OR_CITY'],y=ready_to_move_cities['READY_TO_MOVE'])\n",
    "plt.xticks(rotation=45);"
   ]
  },
  {
   "cell_type": "code",
   "execution_count": null,
   "id": "6a7acc0c",
   "metadata": {},
   "outputs": [],
   "source": [
    "train_data.groupby('BHK_NO.')['BHK_NO.'].sum().index"
   ]
  },
  {
   "cell_type": "code",
   "execution_count": null,
   "id": "94d5bbd3",
   "metadata": {},
   "outputs": [],
   "source": [
    "plt.figure(figsize=(16,9))\n",
    "#train_data.groupby('BHK_NO.')['BHK_NO.'].sum().plot.pie(autopct=\"%.1f%%\");\n",
    "plt.pie(x=train_data.groupby('BHK_NO.')['BHK_NO.'].sum(),\n",
    "        labels=train_data.groupby('BHK_NO.')['BHK_NO.'].sum().index,\n",
    "       pctdistance=0.5,autopct=\"%.1f%%\");\n",
    "plt.title(\"BHK Percentage\", fontsize=14);"
   ]
  },
  {
   "cell_type": "code",
   "execution_count": null,
   "id": "1eaaed2f",
   "metadata": {},
   "outputs": [],
   "source": [
    "train_data.head()"
   ]
  },
  {
   "cell_type": "code",
   "execution_count": null,
   "id": "0eec7e6c",
   "metadata": {},
   "outputs": [],
   "source": [
    "train_data['SQFTPERPRICE']=train_data['SQUARE_FT']/train_data['TARGET_AMOUNT']"
   ]
  },
  {
   "cell_type": "code",
   "execution_count": null,
   "id": "ee1b6599",
   "metadata": {},
   "outputs": [],
   "source": [
    "posted_price = train_data.groupby('POSTED_BY').sum()\n",
    "posted_price"
   ]
  },
  {
   "cell_type": "code",
   "execution_count": null,
   "id": "01bf47ce",
   "metadata": {},
   "outputs": [],
   "source": [
    "posted_price.index"
   ]
  },
  {
   "cell_type": "code",
   "execution_count": null,
   "id": "b63d13f8",
   "metadata": {},
   "outputs": [],
   "source": [
    "sns.barplot(x=posted_price['UNDER_CONSTRUCTION'],y=posted_price['SQFTPERPRICE'],hue=posted_price.index)"
   ]
  },
  {
   "cell_type": "code",
   "execution_count": null,
   "id": "9b12a664",
   "metadata": {},
   "outputs": [],
   "source": [
    "sns.barplot(x=posted_price.index,y=posted_price['SQFTPERPRICE'],hue=posted_price['SQUARE_FT'])"
   ]
  },
  {
   "cell_type": "code",
   "execution_count": null,
   "id": "55a002ba",
   "metadata": {},
   "outputs": [],
   "source": []
  },
  {
   "cell_type": "code",
   "execution_count": null,
   "id": "353a949d",
   "metadata": {},
   "outputs": [],
   "source": []
  }
 ],
 "metadata": {
  "kernelspec": {
   "display_name": "Python 3 (ipykernel)",
   "language": "python",
   "name": "python3"
  },
  "language_info": {
   "codemirror_mode": {
    "name": "ipython",
    "version": 3
   },
   "file_extension": ".py",
   "mimetype": "text/x-python",
   "name": "python",
   "nbconvert_exporter": "python",
   "pygments_lexer": "ipython3",
   "version": "3.8.2"
  }
 },
 "nbformat": 4,
 "nbformat_minor": 5
}
